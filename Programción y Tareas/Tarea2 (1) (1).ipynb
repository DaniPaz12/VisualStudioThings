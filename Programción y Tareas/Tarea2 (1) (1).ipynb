{
 "cells": [
  {
   "cell_type": "markdown",
   "metadata": {
    "id": "bQyQiir5Uwup"
   },
   "source": [
    "# Tarea 2"
   ]
  },
  {
   "cell_type": "markdown",
   "metadata": {
    "id": "bpZRyKs8VeRA"
   },
   "source": [
    "### 1º Visualizar por consola un texto introducido por teclado"
   ]
  },
  {
   "cell_type": "code",
   "execution_count": 3,
   "metadata": {
    "colab": {
     "base_uri": "https://localhost:8080/",
     "height": 55
    },
    "id": "XaR06ewMVqnL",
    "outputId": "b3550cab-46f0-4c9c-8b45-ab1117427bf9"
   },
   "outputs": [
    {
     "name": "stdout",
     "output_type": "stream",
     "text": [
      " hola \n"
     ]
    },
    {
     "name": "stdout",
     "output_type": "stream",
     "text": [
      "hola \n"
     ]
    }
   ],
   "source": [
    "a = input()\n",
    "print (a)"
   ]
  },
  {
   "cell_type": "markdown",
   "metadata": {
    "id": "6gvhWFXwWqaZ"
   },
   "source": [
    "### 2º Introducir por teclado una cadena y una subcadena y verificar si la subcadena está contenida en la cadena."
   ]
  },
  {
   "cell_type": "code",
   "execution_count": 4,
   "metadata": {
    "colab": {
     "base_uri": "https://localhost:8080/"
    },
    "id": "tZqK7jqQXCXh",
    "outputId": "d0e24842-0a34-4a08-e566-97bd179ade0f"
   },
   "outputs": [
    {
     "name": "stdout",
     "output_type": "stream",
     "text": [
      " hola mundo vengo de otra parte\n",
      " vengo\n"
     ]
    },
    {
     "data": {
      "text/plain": [
       "True"
      ]
     },
     "execution_count": 4,
     "metadata": {},
     "output_type": "execute_result"
    }
   ],
   "source": [
    "cadena = input ()\n",
    "subcadena = input ()\n",
    "subcadena in cadena \n",
    "\n"
   ]
  },
  {
   "cell_type": "code",
   "execution_count": 2,
   "metadata": {},
   "outputs": [
    {
     "name": "stdout",
     "output_type": "stream",
     "text": [
      "\"Hola\" está en \"Hola mundo\"\n"
     ]
    }
   ],
   "source": [
    "str1 = input('cadena1: ')\n",
    "str2 = input('cadena2: ')\n",
    "if str2 in str1: print(f'\"{str2}\" está en \"{str1}\"')\n",
    "else :           print(f'\"{str2}\" NO está en \"{str1}\"')"
   ]
  },
  {
   "cell_type": "markdown",
   "metadata": {
    "id": "OMWnyG-_XJJI"
   },
   "source": [
    "### 3º Introducir una cadena por teclado y un carácter por teclado (valida que sea un carácter) y mostrar las veces que aparece el carácter en la cadena."
   ]
  },
  {
   "cell_type": "code",
   "execution_count": 21,
   "metadata": {
    "colab": {
     "base_uri": "https://localhost:8080/"
    },
    "id": "syv03EZDXcfx",
    "outputId": "16c30663-3614-4ca9-bbde-789fd3c44d79"
   },
   "outputs": [
    {
     "name": "stdout",
     "output_type": "stream",
     "text": [
      " hola mundo 1\n",
      " 1\n"
     ]
    },
    {
     "name": "stdout",
     "output_type": "stream",
     "text": [
      "eso no es una letra\n"
     ]
    }
   ],
   "source": [
    "#isalpha devuelve True si i solamente contiene caracteres del alfabeto.\n",
    "cadena = input ()\n",
    "caracter = input ()\n",
    "#si en la cadena hay todos caracteres va a contar el caracter que queramos\n",
    "if cadena.isalpha ():\n",
    "   veces_que_aparece_la_letra = cadena.count (caracter)\n",
    "   print (veces_que_aparece_la_letra)      \n",
    "else :\n",
    "#si en la cadena hay un caracter que no lo reconoce (en este caso, cualquiera que no sea un caracter del alfabeto) escribe que eso no es una letra\n",
    "    print (\"eso no es una letra\")\n",
    "#el variable count (devuelve el recuento de cuántas veces aparece un objeto dado en la lista.)\n"
   ]
  },
  {
   "cell_type": "markdown",
   "metadata": {
    "id": "DU_EKW21YGWa"
   },
   "source": [
    "### 4º Introducir una frase por teclado y contar el número de palabras que contiene."
   ]
  },
  {
   "cell_type": "code",
   "execution_count": 29,
   "metadata": {
    "colab": {
     "base_uri": "https://localhost:8080/"
    },
    "id": "IChGoYRHYSlp",
    "outputId": "201c7e2f-e57f-4a80-b214-a4f4289b9daf"
   },
   "outputs": [
    {
     "name": "stdout",
     "output_type": "stream",
     "text": [
      " hola como estas\n"
     ]
    },
    {
     "name": "stdout",
     "output_type": "stream",
     "text": [
      "tiene 3 palabras\n"
     ]
    }
   ],
   "source": [
    "frase = input ()\n",
    "contar_las_palabras_de_la_frase = len(frase.split(' '))\n",
    "#len sirve para (devuelve un valor entero que indica la cantidad de caracteres en la cadena de entrada) y el split (se usa para separar)\n",
    "print  (\"tiene\" , contar_las_palabras_de_la_frase  , \"palabras\")\n",
    "\n"
   ]
  },
  {
   "cell_type": "markdown",
   "metadata": {
    "id": "_cFhlSIlYVtq"
   },
   "source": [
    "### 5º Introducir por teclado una cadena con un nombre y apellidos, realizar un programa que muestre las iniciales en mayúsculas."
   ]
  },
  {
   "cell_type": "code",
   "execution_count": 10,
   "metadata": {
    "colab": {
     "base_uri": "https://localhost:8080/"
    },
    "id": "BQLsZJp3YwJp",
    "outputId": "9572597f-2976-4cf8-eaf3-1fc0248bd27e"
   },
   "outputs": [
    {
     "name": "stdout",
     "output_type": "stream",
     "text": [
      "Introduce tu nombre daniel\n",
      "Introduce tu apellido paz\n"
     ]
    },
    {
     "name": "stdout",
     "output_type": "stream",
     "text": [
      "D P\n"
     ]
    }
   ],
   "source": [
    "nombre = input (\"Introduce tu nombre\")\n",
    "apellido = input (\"Introduce tu apellido\")\n",
    "print (nombre [0].upper () , apellido [0].upper ())\n",
    "#Los 0 significan que la primera letra del nombre/apellido se pondrán en mayuscula (si fueran 1 sería la segunda letra)\n"
   ]
  },
  {
   "cell_type": "code",
   "execution_count": 8,
   "metadata": {},
   "outputs": [
    {
     "name": "stdout",
     "output_type": "stream",
     "text": [
      "D-P\n"
     ]
    }
   ],
   "source": [
    "nombrecompleto = input(\"Introduce tu nombre completo: \")\n",
    "t = [w[0].upper() for w in nombrecompleto.split()]\n",
    "#si queremos el primer elemento ([0])\n",
    "print (\"-\".join(t))\n",
    "#join une esa lista que le estas dando con el caracter que pusimos antes de join; en este caso '-'"
   ]
  },
  {
   "cell_type": "markdown",
   "metadata": {
    "id": "89LA4y9kYwsY"
   },
   "source": [
    "### 6º Introducir una cadena y dos caracteres por teclado (valida que sea un carácter), sustituir la aparición del primer carácter en la cadena por el segundo carácter."
   ]
  },
  {
   "cell_type": "code",
   "execution_count": 34,
   "metadata": {
    "colab": {
     "base_uri": "https://localhost:8080/",
     "height": 92
    },
    "id": "TgqhkPlZZIFp",
    "outputId": "f73cd172-2ed8-4ea5-855f-958c02697e55"
   },
   "outputs": [
    {
     "name": "stdout",
     "output_type": "stream",
     "text": [
      " hola mundo\n",
      " o\n",
      " a\n"
     ]
    },
    {
     "name": "stdout",
     "output_type": "stream",
     "text": [
      "hala munda\n"
     ]
    }
   ],
   "source": [
    "cadena = input ()\n",
    "caracter1 = input ()\n",
    "caracter2 = input ()\n",
    "#si y solo si los dos caracteres puestos son del alfabeto\n",
    "if caracter1.isalpha () and caracter2.isalpha ():\n",
    "#entonces caracter cambiado va a ser la letra que nosotros escojamos para ser cambiada en la cadena\n",
    "    caracter_cambiado = cadena.replace(caracter1 , caracter2)\n",
    "    print (caracter_cambiado)\n",
    "#hacemos que ponga en la pantalla como se queda la cadena con el caracter cambiado\n",
    "else :\n",
    "    print ('introduce un caracter')\n",
    "    "
   ]
  },
  {
   "cell_type": "markdown",
   "metadata": {
    "id": "8pC85uRKO31B"
   },
   "source": [
    "### 7º Utilizar la función print() y el salto de linea para obtener el siguiente texto:\n",
    "\n",
    "Con diez cañones por banda,<br>\n",
    "viento en popa a toda vela,<br>\n",
    "no corta el mar, sino vuela<br>\n",
    "un velero bergantín;"
   ]
  },
  {
   "cell_type": "code",
   "execution_count": 4,
   "metadata": {
    "colab": {
     "base_uri": "https://localhost:8080/"
    },
    "id": "ZZmckYgmRagx",
    "outputId": "54b741e8-ed47-4430-fb5d-7cd734d55748"
   },
   "outputs": [
    {
     "name": "stdout",
     "output_type": "stream",
     "text": [
      "Con diez cañones por banda,\n",
      "viento en popa a toda vela,\n",
      "no corta el mar, sino vuela \n",
      "un velero bergantín;\n"
     ]
    }
   ],
   "source": [
    "print ('Con diez cañones por banda,\\n'\n",
    "       'viento en popa a toda vela,\\n'\n",
    "       'no corta el mar, sino vuela \\n' \n",
    "       'un velero bergantín;')\n"
   ]
  },
  {
   "cell_type": "markdown",
   "metadata": {
    "id": "UC40WZFYR3Ow"
   },
   "source": [
    "### 8º Mediante la función input() solicitar una frase por consola y seguidamente una vocal, imprimir la frase por consola con la vocal introducida a mayúsculas"
   ]
  },
  {
   "cell_type": "code",
   "execution_count": 11,
   "metadata": {
    "colab": {
     "base_uri": "https://localhost:8080/"
    },
    "id": "LRgRaCi6SaGa",
    "outputId": "089c5b75-0a4a-4e2b-f194-0b689150ef2c"
   },
   "outputs": [
    {
     "name": "stdout",
     "output_type": "stream",
     "text": [
      "introduce una frase hola mundo \n",
      "introduce una vocal a\n"
     ]
    },
    {
     "name": "stdout",
     "output_type": "stream",
     "text": [
      "holA mundo \n"
     ]
    }
   ],
   "source": [
    "cadena = input (\"introduce una frase\")\n",
    "vocal = input (\"introduce una vocal\")\n",
    "caracter_cambiado = cadena.replace(vocal , vocal.upper())#IMPORTANTE LOS PARNTESIS DESPUES DE UNA FUNCIÓN\n",
    "print (caracter_cambiado)\n",
    "#Muestra la cadena pero con la vocal en mayuscula "
   ]
  },
  {
   "cell_type": "markdown",
   "metadata": {
    "id": "ZFYDY9wfTZ51"
   },
   "source": [
    "### 9º Introduce una frase por teclado y seguidamente pide dos números, también por teclado, visualiza por consola la subcadena que empieza en la posición del primer número en la frase y termina en el segundo número en la frase"
   ]
  },
  {
   "cell_type": "code",
   "execution_count": 10,
   "metadata": {
    "colab": {
     "base_uri": "https://localhost:8080/",
     "height": 92
    },
    "id": "91aIzlGmTgd6",
    "outputId": "a25303ee-20f4-4b50-ca26-acab6820b6cc"
   },
   "outputs": [
    {
     "name": "stdout",
     "output_type": "stream",
     "text": [
      "introduce una frase hola mundo\n",
      "introduce un número 1\n",
      "introduce otro número 4\n"
     ]
    },
    {
     "name": "stdout",
     "output_type": "stream",
     "text": [
      "ola\n"
     ]
    }
   ],
   "source": [
    "cadena = input (\"introduce una frase\")\n",
    "número1 = input (\"introduce un número\")\n",
    "número2 = input (\"introduce otro número\")\n",
    "print (cadena [int (número1) : int(número2)])\n",
    "#int es para que al introducir el número lo cuente como el número en si y no como el número en letras \n",
    "# los dos puntos (:) son para que haga lo siguiente (desde el número1; osea el primer número que introducimos, hasta número2; osea el segundo que introducimos) vea cuales son las leytras que están entre esos números\n"
   ]
  },
  {
   "cell_type": "markdown",
   "metadata": {
    "id": "iLZsliARTpaO"
   },
   "source": [
    "### 10º Solicitar por teclado una cuenta de correo electrónico. Separar en dos variables el nombre de usuario y el dominio. Visualizar por consola el texto: El nombre de usuario es <> y su dominio es <>, sustituyendo los parentesis angulares por cada una de las variables."
   ]
  },
  {
   "cell_type": "code",
   "execution_count": 23,
   "metadata": {
    "colab": {
     "base_uri": "https://localhost:8080/"
    },
    "id": "Vk3GQjLZUGrh",
    "outputId": "b5b24620-8826-437d-998e-a4b31ea395ef"
   },
   "outputs": [
    {
     "name": "stdout",
     "output_type": "stream",
     "text": [
      "introduce tu email daniel@gmail\n"
     ]
    },
    {
     "name": "stdout",
     "output_type": "stream",
     "text": [
      "El nombre de usuario es daniel y el dominio es gmail\n"
     ]
    }
   ],
   "source": [
    "cadena = input ('introduce tu email')\n",
    "#Cadena es el mail que introducimos\n",
    "print ('El nombre de usuario es' , cadena[:cadena.find('@')], 'y el dominio es' , cadena[cadena.find('@') + 1:] )\n",
    "#En la primera vez que usamos la variable cadena contamos desde el caracter 0 hasta donde se haye el @ (eso para el nombre de usuario); luego , la segunda vez que llamamos a cadena contamos desde el @ hasta el final de la cadena (eso para el dominio)\n",
    "#El +1 sirve para que no cuente el @; osea que no agarre el @ al ser visualizado"
   ]
  }
 ],
 "metadata": {
  "colab": {
   "collapsed_sections": [],
   "provenance": []
  },
  "kernelspec": {
   "display_name": "Python 3 (ipykernel)",
   "language": "python",
   "name": "python3"
  },
  "language_info": {
   "codemirror_mode": {
    "name": "ipython",
    "version": 3
   },
   "file_extension": ".py",
   "mimetype": "text/x-python",
   "name": "python",
   "nbconvert_exporter": "python",
   "pygments_lexer": "ipython3",
   "version": "3.8.13"
  }
 },
 "nbformat": 4,
 "nbformat_minor": 4
}
