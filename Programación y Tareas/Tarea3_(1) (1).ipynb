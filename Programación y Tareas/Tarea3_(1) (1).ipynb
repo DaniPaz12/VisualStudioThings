{
  "cells": [
    {
      "cell_type": "markdown",
      "metadata": {
        "id": "eXdEhpJXZiSu"
      },
      "source": [
        "# **Tarea 3**\n",
        "\n",
        "**Introduce tu nombre**: "
      ]
    },
    {
      "cell_type": "code",
      "execution_count": null,
      "metadata": {
        "id": "lNE9jCIrJZQE"
      },
      "outputs": [],
      "source": [
        "# usa esta celda si queres hacer funciones que uses en el resto del documento\n"
      ]
    },
    {
      "cell_type": "markdown",
      "metadata": {
        "id": "x4kL3smkZm2p"
      },
      "source": [
        "### 1º Introducir por teclado un número y determinar si es positivo, negativo o cero. Imprimir por pantalla el número y el resultado.\n",
        "NOTA: no conviertas el texto a número."
      ]
    },
    {
      "cell_type": "code",
      "execution_count": null,
      "metadata": {
        "id": "CsZDoWpAagbO"
      },
      "outputs": [],
      "source": [
        "numero_introducido = input (\"Introduce un número\")\n",
        "numero = float(numero_introducido)\n",
        "#El float permite representar un número positivo o negativo con decimales, es decir, números reales.\n",
        "if numero == 0:\n",
        "   print (\"neutro\") \n",
        "elif numero < 0:\n",
        "    print (\"negativo\")\n",
        "else :\n",
        "    print (\"positivo\")\n",
        "#Siempre acabar con dos puntos los else, if, etc (una condicion)"
      ]
    },
    {
      "cell_type": "code",
      "execution_count": 4,
      "metadata": {},
      "outputs": [
        {
          "name": "stdout",
          "output_type": "stream",
          "text": [
            "No has introducido nada\n"
          ]
        }
      ],
      "source": [
        "numero_introducido = input (\"Introduce un número\")\n",
        "numero_introducido =numero_introducido.strip()#para que no se cuele nada antes de el parámetro introducido ni después.\n",
        "#numero = float(numero_introducido)\n",
        "#El float permite representar un número positivo o negativo con decimales, es decir, números reales.\n",
        "if numero_introducido ==\"\":\n",
        "    print(\"No has introducido nada\")\n",
        "elif numero_introducido == 0:\n",
        "   print (\"neutro\") \n",
        "elif numero_introducido < 0:\n",
        "    print (\"negativo\")\n",
        "else :\n",
        "    print (\"positivo\")\n",
        "#Siempre acabar con dos puntos los else, if, etc (una condicion)"
      ]
    },
    {
      "cell_type": "markdown",
      "metadata": {
        "id": "LiDloPhMaGnP"
      },
      "source": [
        "### 2º Introducir por teclado un string y devolver por consola si es mayor, igual o menor a 10 caracteres."
      ]
    },
    {
      "cell_type": "code",
      "execution_count": null,
      "metadata": {
        "id": "qiQBt-I9aEC9"
      },
      "outputs": [],
      "source": [
        "cadena = input (\"Introduce una frase\")\n",
        "caracter = len(cadena)\n",
        "#Len indica la cantidad de caracteres en la cadena\n",
        "if caracter == 10:\n",
        "    print (\"la frase es igual a 10 caracteres\")\n",
        "    print (caracter)\n",
        "elif caracter < 10:\n",
        "    print (\"la frase tiene menos de 10 caracteres\")\n",
        "    print (caracter)\n",
        "else:\n",
        "    print (\"la frase tiene mas de 10 caracteres\")\n",
        "    print (caracter)\n",
        "#print caracter hace que veamos en la consola los caracteres que tiene la frase"
      ]
    },
    {
      "cell_type": "markdown",
      "metadata": {
        "id": "ogCiPH_dai2q"
      },
      "source": [
        "### 3º Resolver el problema anterior con el [operador ternario](https://stackoverflow.com/questions/394809/does-python-have-a-ternary-conditional-operator)\n",
        "NOTA: *condition_if_true* **if** *condition* **else** *condition_if_false*\n"
      ]
    },
    {
      "cell_type": "code",
      "execution_count": null,
      "metadata": {
        "id": "_jZURwS2awkp"
      },
      "outputs": [],
      "source": [
        "cadena = input (\"Introduce la frase\")\n",
        "caracter = len (cadena)\n",
        "print (\"es igual a 10 caracteres\")  if caracter == 10 else print (\"menor de 10 caracteres\")   if caracter < 10 else print (\"es mayor de 10 caracteres\")  \n",
        "#Por decirlo de alguna manera, es al revés que el anterior ejercicio; se pone primero lo que quieres poner cuando se cumple la función"
      ]
    },
    {
      "cell_type": "markdown",
      "metadata": {
        "id": "6GqZFiFsaxcB"
      },
      "source": [
        "### 4º Introducir por teclado dos número enteros, devolver por consola si el primer número es mayor, igual o menor al segundo número.\n",
        "NOTA: no los conviertas a números"
      ]
    },
    {
      "cell_type": "code",
      "execution_count": null,
      "metadata": {
        "id": "W6O-8fSSbIj-"
      },
      "outputs": [],
      "source": [
        "numero1 = input (\"Introduce el primer número entero\")\n",
        "numero2 = input (\"Introduce el segundo número entero\")\n",
        "if numero1 == numero2:\n",
        "    print (\"El primer número que has introducido es igual al segundo\")\n",
        "elif numero1 < numero2:\n",
        "    print (\"El primer número que has introducido es menor al segundo\")\n",
        "else:\n",
        "    print (\"El primer número que has introducido es mayor al segundo\")"
      ]
    },
    {
      "cell_type": "code",
      "execution_count": 8,
      "metadata": {},
      "outputs": [
        {
          "name": "stdout",
          "output_type": "stream",
          "text": [
            "'023' es menor a '123'\n"
          ]
        }
      ],
      "source": [
        "num1=input(\"Introduce un número: \")\n",
        "num2=input(\"Introduce un número: \")\n",
        "num1=num1.strip()\n",
        "num2=num2.strip()\n",
        "\n",
        "while len(num2)<len(num1): num2='0'+num2\n",
        "while len(num1)<len(num2): num1='0'+num1\n",
        "\n",
        "if num1>num2: print(f\"'{num1}' es mayor a '{num2}'\")\n",
        "if num1<num2: print(f\"'{num1}' es menor a '{num2}'\")"
      ]
    },
    {
      "cell_type": "markdown",
      "metadata": {
        "id": "YhACl7cbbJMX"
      },
      "source": [
        "### 5º Introducir por teclado dos número enteros positivos. Comprobar que el número menor es distinto de cero, si es cero no efectuar la división y visualizarlo por consola. Si la división es posible indicar cual es el numerador, el denominador, el cociente y el resto."
      ]
    },
    {
      "cell_type": "code",
      "execution_count": null,
      "metadata": {
        "id": "0Rd-DmNHbqqI"
      },
      "outputs": [],
      "source": [
        "# usamos def para definir una función propia\n",
        "#Primero definimos nuestra variable dist_cero \n",
        "#return se utiliza para establecer el resultado (o valor de retorno) de una función\n",
        "def distinto_cero (numero_menor):\n",
        "    if (numero_menor!= 0):\n",
        "        return True\n",
        "    else:\n",
        "        return False\n",
        "#Si el numero menor es distinto de cero nos entregaría que es verdad, por lo que podríamos seguir con la operación; si no no podríamos seguir \n",
        "def mayor (numero1,numero2):\n",
        "    if numero1 < numero2:\n",
        "        return numero2\n",
        "    else:\n",
        "        return numero1\n",
        "#Definimos el número mayor entre los dos numeros que introducuimos\n",
        "def menor (numero1,numero2):\n",
        "    if numero1 > numero2:\n",
        "        return numero2\n",
        "    else:\n",
        "        return numero1\n",
        "#int permite almacenar un valor numérico no decimal ya sea positivo o negativo de cualquier valor   \n",
        "numero1 = int (input (\"Introduce el primer número\"))\n",
        "numero2 = int (input (\"Introduce el segundo número\"))\n",
        "numeroMayor = mayor (numero1,numero2)\n",
        "#definimos numeroMayor como el numero mayor entre los dos numeros que introducimos\n",
        "numeroMenor = menor (numero1,numero2)\n",
        "#definimos numeroMenor como el numero menor entre los dos numeros que introducimos\n",
        "\n",
        "if distinto_cero (numeroMenor):\n",
        "#Aquí lo que hacemos es llamos a nuestyra función para que si el numero menor es diferente de 0 podamos seguir con la operación\n",
        "    print (\"El numerador es ...\" , numeroMayor)\n",
        "    print (\"El denominador es ...\" , numeroMenor)\n",
        "    print (\"El cociente\" , numeroMayor//numeroMenor)\n",
        "    #Para hacer la division es con //\n",
        "    print (\"El resto\" , numeroMayor%numeroMenor)\n",
        "    #Para saber el resto de una funcion es con %\n",
        "else :\n",
        "    print (\"Has introducido un 0\")\n",
        "    "
      ]
    },
    {
      "cell_type": "markdown",
      "metadata": {
        "id": "3JLz4Y2lcCCw"
      },
      "source": [
        "### 6º Introducir por teclado dos números enteros positivos. Comprueba si el mayor es múltiplo del menor. Visualiza en la consola el resultado."
      ]
    },
    {
      "cell_type": "code",
      "execution_count": null,
      "metadata": {
        "id": "FUfpZZSzbMrc"
      },
      "outputs": [],
      "source": [
        "def mayor (numero1,numero2):\n",
        "    if (numero1 < numero2):\n",
        "        return numero2\n",
        "    else:\n",
        "        return numero1\n",
        "def menor (numero1,numero2):\n",
        "    if (numero1 < numero2):\n",
        "        return numero1\n",
        "    else:\n",
        "        return numero2\n",
        "def mayor_multiplo_menor (mayor,menor):\n",
        "    if (mayor % menor == 0):\n",
        "        return True\n",
        "    else:\n",
        "        return False\n",
        "\n",
        "#Si el resto del mayor entre el menor es 0 sabremos que es multiplo        \n",
        "numero1 = int (input (\"Introduce el primer número\"))\n",
        "numero2 = int (input (\"Introduce el segundo número\"))\n",
        "numeroMayor = mayor (numero1,numero2)\n",
        "numeroMenor = menor (numero1,numero2)\n",
        "if mayor_multiplo_menor (numero1,numero2):\n",
        "    print (\"El mayor es multiplo del menor\")\n",
        "else:\n",
        "    print (\"Fallaste\")\n"
      ]
    },
    {
      "cell_type": "markdown",
      "metadata": {
        "id": "GEvMj2KzbN6s"
      },
      "source": [
        "### 7º Solicitar un número entero por teclado y muestre por consola si es par o impar."
      ]
    },
    {
      "cell_type": "code",
      "execution_count": null,
      "metadata": {
        "id": "CqKcSNG3bZDU"
      },
      "outputs": [],
      "source": [
        "numero = int (input(\"introduce un número entero\"))\n",
        "#Si el número que introduces dividido entre 2 su resto no es igual a 0, entonces no es un número par\n",
        "if (numero % 2 == 0):\n",
        "    print (\"El número que has introducido es par\")\n",
        "else :\n",
        "    print (\"El número que has introducido no es par\")\n"
      ]
    },
    {
      "cell_type": "markdown",
      "metadata": {
        "id": "UhiYkKnabtpd"
      },
      "source": [
        "### 8º Solicitar el año actual y un año cualquiera por teclado y visualizar cuántos años han pasado desde ese año o cuántos años faltan para llegar a ese año."
      ]
    },
    {
      "cell_type": "code",
      "execution_count": null,
      "metadata": {
        "id": "TjylUkAqb63q"
      },
      "outputs": [],
      "source": [
        "año_actual = int (input (\"Introduce el año actual\"))\n",
        "año_cualquiera = int (input (\"Introduce un año cualquiera\"))\n",
        "if año_actual > año_cualquiera :\n",
        "    print (f\"Desde el año {año_cualquiera} han pasado {año_actual - año_cualquiera} año/s\")\n",
        "    \n",
        "elif año_actual < año_cualquiera :\n",
        "    print (f\"Desde el año {año_actual} deben pasar {año_cualquiera - año_actual} año/s\")\n",
        "    \n",
        "else :\n",
        "    print (\"El año que has introducido es el actual ;)\")\n",
        "    \n",
        "#F funciona para que dentro del formato de texto podamos poner unas variables y hacer funciones dentro \n"
      ]
    },
    {
      "cell_type": "markdown",
      "metadata": {
        "id": "-gNYMWf6b_Wr"
      },
      "source": [
        "### 9º Introducir por teclado un año, visualizar por consola si es bisiesto o no.\n",
        "\n",
        "NOTA: Se recuerda que los años bisiestos son múltiplos de 4, pero los múltiplos de 100 no lo son, aunque los múltiplos de 400 sí."
      ]
    },
    {
      "cell_type": "code",
      "execution_count": null,
      "metadata": {
        "id": "uPFkRsnFcnSa"
      },
      "outputs": [],
      "source": [
        "anno = int (input(\"Introduce un año\"))\n",
        "# (!=) significa distinto de ...\n",
        "if anno % 4 != 0 :\n",
        "    print (\"El año que has introducido no es bisiesto\")\n",
        "elif anno % 4 == 0 and anno % 100 != 0 or anno % 400 ==0 :\n",
        "    print (\"El año que has introducido si es bisiesto\")\n",
        "    \n"
      ]
    },
    {
      "cell_type": "markdown",
      "metadata": {
        "id": "VO58q-uNc3tS"
      },
      "source": [
        "### 10º Escriba un programa que pida los coeficientes de una ecuación de segundo grado (a·x² + b·x + c = 0) y escriba la solución.\n",
        "\n",
        "Haz una función a la que le pasas $a$, $b$, $c$ y devuelve la/las soluciones.\n",
        "\n",
        "Recuerda que una ecuación de segundo grado puede no tener solución en $\\mathbb{R}$ (pero sí en $\\mathbb{C}$), tener una solución única, tener dos soluciones. Se recuerda que la fórmula de las soluciones es:\n",
        "\n",
        "$\\frac{-b\\pm \\sqrt{b^{2}-4ac}}{2a}$\n",
        "\n"
      ]
    },
    {
      "cell_type": "code",
      "execution_count": null,
      "metadata": {
        "id": "9S6s-13UfLoq"
      },
      "outputs": [],
      "source": [
        "import cmath\n",
        "from cmath import sqrt\n",
        "#La función sqrt devuelve la raiz cuadrada del argumento dado\n",
        "a = float (input (\"Introduce el valor de a:\"))\n",
        "b = float (input (\"Introduce el valor de b:\"))\n",
        "c = float (input (\"Introduce el valor de c:\"))\n",
        "#El tipo numérico float permite representar un número positivo o negativo con decimales, es decir, números reales.\n",
        "\n",
        "#Calculamos el discriminante para saber si es la raíz cuadrada es negativa (no tendría solución)\n",
        "d=(b*b)-4*a*c\n",
        "#Comprobamos si el discriminante es negativo y si podemos calcular la ecuación\n",
        "if d < 0 :\n",
        "  print (\"No existen soluciones para este problema\")\n",
        "else :\n",
        "  ec_1= (-b+cmath.sqrt(d))/(2*a)\n",
        "  ec_2= (-b-cmath.sqrt(d))/(2*a)\n",
        "\n",
        "  print (\"Las soluciones son ...\")\n",
        "  print (\"solución ec_1:\",ec_1)\n",
        "  print (\"solución ec_2:\",ec_2)"
      ]
    }
  ],
  "metadata": {
    "colab": {
      "private_outputs": true,
      "provenance": []
    },
    "kernelspec": {
      "display_name": "base",
      "language": "python",
      "name": "python3"
    },
    "language_info": {
      "codemirror_mode": {
        "name": "ipython",
        "version": 3
      },
      "file_extension": ".py",
      "mimetype": "text/x-python",
      "name": "python",
      "nbconvert_exporter": "python",
      "pygments_lexer": "ipython3",
      "version": "3.9.13"
    },
    "vscode": {
      "interpreter": {
        "hash": "a0725c8e48c6ee7d9f6fae2d2a7d7e18db402909bac0dacffca04f8db9bffccf"
      }
    }
  },
  "nbformat": 4,
  "nbformat_minor": 0
}
