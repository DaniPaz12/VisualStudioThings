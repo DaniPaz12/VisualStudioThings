{
 "cells": [
  {
   "attachments": {},
   "cell_type": "markdown",
   "metadata": {},
   "source": [
    "Importes\n"
   ]
  },
  {
   "cell_type": "code",
   "execution_count": 1,
   "metadata": {},
   "outputs": [],
   "source": [
    "#Importes\n",
    "import copy\n",
    "\n"
   ]
  },
  {
   "attachments": {},
   "cell_type": "markdown",
   "metadata": {},
   "source": [
    "Celda de pruebas"
   ]
  },
  {
   "cell_type": "code",
   "execution_count": 2,
   "metadata": {},
   "outputs": [],
   "source": [
    "# # CELDA DE PRUEBAS\n",
    "# n=int(input(\"Introduce discos\"))\n",
    "# # Movimiento de los discos hacia las torres \n",
    "# def hanoi (discos, origen, auxiliar, destino): # n va a ser los números de discos; origen (nuestra torre inicial),torre auxiliar(torre que nos va a ayudar a mover los discos de manera correcta o torre intermedia)y la torre destino (nuestar torre final o donde deben estar colocados todos nuestros discos)\n",
    "#     # declaramos su estado base\n",
    "#     if discos > 0: \n",
    "#        # Mover n-1 discos de la torre origen a la torre auxiliar\n",
    "#        # Usando destino como torre auxiliar\n",
    "#        hanoi (discos-1, origen, destino, auxiliar)\n",
    "#        # Movemos el disco más grande de la torre origen a destino \n",
    "#        print ('se mueve de la torre', origen, 'a la torre', destino)\n",
    "#        #Movemos n-1 discos de auxiliar a destino, usando origen como torre auxiliar \n",
    "#        hanoi (discos-1,auxiliar, origen, destino) \n",
    "       \n",
    "# hanoi(n,'1','2','3')\n",
    "\n",
    "\n",
    "# for remove_tower in range(3): # Bucle que recorre todas las torres siendo 's' la lista que contiene los estados \n",
    "#         for add_tower in range(3): # Bucle que mire las otras torres \n",
    "#             print(\"torre quita\",remove_tower, \"torre añade\",add_tower)\n",
    "\n",
    "\n",
    "# ns = [[1],[]]\n",
    "# torre=1\n",
    "# if ns[torre]:\n",
    "#     print(\"tiene algo\")\n",
    "# else:\n",
    "#     print('esta vacia')\n",
    "\n",
    "# Estados de las towers de hanoi\n",
    "#No pueden ser conjuntos por lo que van a ser listas vacías\n",
    "# estado_inicial = [[], [], []]\n",
    "# estado_final = [[], [], []]\n",
    "\n",
    "# n = int(input(\"Cuántos discos va a tener las Torres: \")) #Introducimos el número de discos\n",
    "\n",
    "# c = 1 #Creamos un contador (el 1 va a ser nuestro primer disco)\n",
    "# while c<=n:\n",
    "#     estado_inicial[0].append(c) #En estado inicial vamos al valor 0 (o sea la primera lista; o sea nuestra primera tower ) y agregamos c\n",
    "#     estado_final[2].append(c) #En estado final agregamos  en el valor 2 (o sea nuestra tercera y ultima lista; que en nuestro caso es la última tower) y agragamos c\n",
    "#     c+=1 #vamos de uno en uno sumando los valores\n",
    "\n",
    "# print(f\"estado_inicial: {estado_inicial}; estado_final: {estado_final} \")"
   ]
  },
  {
   "attachments": {},
   "cell_type": "markdown",
   "metadata": {},
   "source": [
    "Clases"
   ]
  },
  {
   "cell_type": "code",
   "execution_count": 3,
   "metadata": {},
   "outputs": [],
   "source": [
    "# Definimos cuando los estados son válidos\n",
    "# 's' es un estado cualquiera\n",
    "def is_valid_state(s):\n",
    "    def is_tower_valid(tower): # Cuando las towers son válidas\n",
    "        for d in range (len(tower)-1): # Para d (una variable cualquiera) que lea las towers (la lista) menos 1, ya que si no se va de rango\n",
    "            if tower[d] < tower[d+1]: # Si el primer disco que lee es menor a la siguiente, sigue leyendo \n",
    "                estado_inicial[0+1] # luego de comprobar la primera tower, pasará a la siguiente, por eso es 0+1\n",
    "\n",
    "            else:\n",
    "                return False # Si al comprobar, el disco que lee es mayor que el siguiente, es falso, no es válido el estado\n",
    "        return True\n",
    "    for i in range (len(s)): # Bucle que rocorre y mira las torres (va torre por torre)\n",
    "        if is_tower_valid(s[i]): # Si es  verdadero que pase ya que está bien (s[i])-> es una torre\n",
    "            pass\n",
    "\n",
    "        else:\n",
    "            return False\n",
    "    return True # Una vez comprobadas todas la torres se compureba que el estado es válido y devuelve verdadero\n",
    "################################################################################################################################################################################\n",
    "# Definimos todos los posibles estados\n",
    "def states(s):\n",
    "    for remove_tower in range(len(s)): # Bucle que recorre todas las torres siendo 's' la lista que contiene los estados \n",
    "        for add_tower in range(len(s)): # Bucle que mire las otras torres \n",
    "            ns=copy.deepcopy(s) # Llamamos ns a un nuevo estado\n",
    "            if remove_tower != add_tower and ns[remove_tower]: # si en las dos torres son iguales y si hay algo en la torre; es lo que hace (ns[remove_tower])\n",
    "                ns[add_tower].insert(0,ns[remove_tower][0]) # El 0 es para que lo inserte al principio de la lista (el disco);(ns[remove_tower][0])y esto es el disco que querems colocar\n",
    "                ns[remove_tower].pop(0) # Ahora quito el elemento que agregé a la lista (add_tower)\n",
    "                yield ns\n",
    "\n",
    "\n",
    "\n"
   ]
  },
  {
   "attachments": {},
   "cell_type": "markdown",
   "metadata": {},
   "source": [
    "Solución"
   ]
  },
  {
   "cell_type": "code",
   "execution_count": 4,
   "metadata": {},
   "outputs": [
    {
     "name": "stdout",
     "output_type": "stream",
     "text": [
      "estado_inicial: [[1, 2, 3], [], []]; estado_final: [[], [], [1, 2, 3]] \n",
      "1: [[1, 2, 3], [], []]\n",
      "2: [[2, 3], [1], []]\n",
      "3: [[3], [1], [2]]\n",
      "4: [[1, 3], [], [2]]\n",
      "5: [[3], [], [1, 2]]\n",
      "6: [[], [3], [1, 2]]\n",
      "7: [[1], [3], [2]]\n",
      "8: [[], [1, 3], [2]]\n",
      "9: [[2], [1, 3], []]\n",
      "10: [[1, 2], [3], []]\n",
      "11: [[1, 2], [], [3]]\n",
      "12: [[2], [1], [3]]\n",
      "13: [[], [1], [2, 3]]\n",
      "14: [[1], [], [2, 3]]\n",
      "15: [[], [], [1, 2, 3]]\n"
     ]
    }
   ],
   "source": [
    "# Estados de las towers de hanoi\n",
    "#No pueden ser conjuntos por lo que van a ser listas vacías\n",
    "estado_inicial = []\n",
    "estado_final = []\n",
    "\n",
    "nD = 3 # Número de discos \n",
    "nT = 3 # Número de torres\n",
    "\n",
    "t = 1 # Creamos un contador para las torres\n",
    "while t<=nT:\n",
    "    estado_inicial.append([]) # Agregamos una lista vacía al estado inicial (va a ser una torre nueva)\n",
    "    estado_final.append([]) # Agregamos una lista vacía al estado final\n",
    "    t+= 1\n",
    "\n",
    "d = 1 # Creamos un contador (el 1 va a ser nuestro primer disco)\n",
    "while d<=nD:\n",
    "    estado_inicial[0].append(d) # En estado inicial vamos al valor 0 (o sea la primera lista; o sea nuestra primera tower ) y agregamos d\n",
    "    estado_final[nT-1].append(d) # En estado final agregamos  en el valor final (o sea en la última torre)\n",
    "    d+= 1 # Vamos de uno en uno sumando los valores\n",
    "\n",
    "\n",
    "\n",
    "#######################################################################################################################################################################    \n",
    "\n",
    "print(f\"estado_inicial: {estado_inicial}; estado_final: {estado_final} \")\n",
    "# Función recursiva (el camino para llegar a la solución) Primera solución\n",
    "def búsquedaProfundidad(actual, cerrados=[]):\n",
    "    # En una función recursiva es importante saber que casos no son posibles\n",
    "    if actual==estado_final: # Si el estado actual es el final, que lo devuelva si no que siga al otro if\n",
    "        return [actual]\n",
    "    else:\n",
    "        for ns in states(actual): # Se van generando los hijos\n",
    "            if is_valid_state(ns) and ns not in cerrados: # Si es valido el estado (el hijo) y si NO LO HE VISITADO\n",
    "                cerrados.append(ns)\n",
    "                r=búsquedaProfundidad(ns, cerrados) # Cuando llega al estado final; vuelve desde el estado final por los hijos (o estados) que atravesó para llegar a estado final \n",
    "                if r!=[]: # si r es diferente a vacio (osea que el estado es válido)\n",
    "                    r.insert(0, actual) # por lo que si encuentra un estado valido lo que hace es que, recursivamente vuelve y va marcando cuales son los estados con los que llegó a esa solución; ejemplo(si el estado final es [6] va hacer lo siguiente:1)[5,6]; 2)[4,6] y así hasta llegar [0,6])\n",
    "                    \n",
    "                    return r\n",
    "        return[]\n",
    "\n",
    "solución = búsquedaProfundidad(estado_inicial)\n",
    "\n",
    "c = 1\n",
    "for i in solución:\n",
    "    print(f\"{c}: {i}\")\n",
    "    c+=1"
   ]
  }
 ],
 "metadata": {
  "kernelspec": {
   "display_name": "base",
   "language": "python",
   "name": "python3"
  },
  "language_info": {
   "codemirror_mode": {
    "name": "ipython",
    "version": 3
   },
   "file_extension": ".py",
   "mimetype": "text/x-python",
   "name": "python",
   "nbconvert_exporter": "python",
   "pygments_lexer": "ipython3",
   "version": "3.9.13 (main, Aug 25 2022, 23:51:50) [MSC v.1916 64 bit (AMD64)]"
  },
  "orig_nbformat": 4,
  "vscode": {
   "interpreter": {
    "hash": "a0725c8e48c6ee7d9f6fae2d2a7d7e18db402909bac0dacffca04f8db9bffccf"
   }
  }
 },
 "nbformat": 4,
 "nbformat_minor": 2
}
