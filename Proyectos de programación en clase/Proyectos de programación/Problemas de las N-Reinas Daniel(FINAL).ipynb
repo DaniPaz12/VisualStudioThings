{
 "cells": [
  {
   "cell_type": "markdown",
   "metadata": {},
   "source": [
    "Problema de las N-Reinas"
   ]
  },
  {
   "attachments": {},
   "cell_type": "markdown",
   "metadata": {
    "vscode": {
     "languageId": "python"
    }
   },
   "source": [
    "Importes\n"
   ]
  },
  {
   "cell_type": "code",
   "execution_count": 1,
   "metadata": {},
   "outputs": [],
   "source": [
    "import copy"
   ]
  },
  {
   "attachments": {},
   "cell_type": "markdown",
   "metadata": {},
   "source": [
    "Celda de Pruebas\n"
   ]
  },
  {
   "cell_type": "code",
   "execution_count": 13,
   "metadata": {},
   "outputs": [],
   "source": [
    "# board = []\n",
    "# queen = 3\n",
    "# # Creamos el bucle que crea las listas vacias que tenga el rango de las reinas\n",
    "# for i in range(queen):\n",
    "#     board.append([])\n",
    "#     # print(i)\n",
    "\n",
    "#     # añadimos los 0 a esas listas creadas \n",
    "#     for j in range(queen):\n",
    "#         board[i].append(0)\n",
    "\n",
    "# # for i in range (len(board)):\n",
    "# #     print(board[i])\n",
    "\n",
    "\n",
    "\n",
    "# print(board)\n",
    "# # para cada fila dentro de tablero vamos a ir de una en una mostrandola\n",
    "# for row in board:\n",
    "#     print(row)\n",
    "\n",
    "#     for i in row: # Para cada elemento de es fila la vamos a ir moostrando\n",
    "#         print(i)\n",
    "\n",
    "# board = []\n",
    "# queen = 3\n",
    "\n",
    "# for i in (queen):\n",
    "#     board.append([])\n",
    "#     for j in range(queen):\n",
    "#         board[i].append(0)\n",
    "\n",
    "# for row in board:\n",
    "#     print(row)\n",
    "\n",
    "# queen=3\n",
    "# board=     [[0, 0, 0],\n",
    "#            [0, 0, 0],\n",
    "#            [0, 0, 1]]\n",
    "\n",
    "\n",
    "# print(is_valid_state(board),\"\\n\")\n",
    "\n",
    "# for state in states(board):\n",
    "#   print(\"\\n\")\n",
    "#   for row in state:\n",
    "#     print(row)"
   ]
  },
  {
   "attachments": {},
   "cell_type": "markdown",
   "metadata": {},
   "source": [
    "Denerador de posibles estados"
   ]
  },
  {
   "cell_type": "code",
   "execution_count": 9,
   "metadata": {},
   "outputs": [
    {
     "name": "stdout",
     "output_type": "stream",
     "text": [
      "True \n",
      "\n",
      "\n",
      "\n",
      "[1, 0, 0]\n",
      "[0, 0, 0]\n",
      "[0, 0, 0]\n",
      "\n",
      "\n",
      "[0, 1, 0]\n",
      "[0, 0, 0]\n",
      "[0, 0, 0]\n",
      "\n",
      "\n",
      "[0, 0, 1]\n",
      "[0, 0, 0]\n",
      "[0, 0, 0]\n",
      "\n",
      "\n",
      "[0, 0, 0]\n",
      "[1, 0, 0]\n",
      "[0, 0, 0]\n",
      "\n",
      "\n",
      "[0, 0, 0]\n",
      "[0, 1, 0]\n",
      "[0, 0, 0]\n",
      "\n",
      "\n",
      "[0, 0, 0]\n",
      "[0, 0, 1]\n",
      "[0, 0, 0]\n",
      "\n",
      "\n",
      "[0, 0, 0]\n",
      "[0, 0, 0]\n",
      "[1, 0, 0]\n",
      "\n",
      "\n",
      "[0, 0, 0]\n",
      "[0, 0, 0]\n",
      "[0, 1, 0]\n",
      "\n",
      "\n",
      "[0, 0, 0]\n",
      "[0, 0, 0]\n",
      "[0, 0, 1]\n"
     ]
    }
   ],
   "source": [
    "queen=3\n",
    "board=     [[0, 0, 0],\n",
    "           [0, 0, 0],\n",
    "           [0, 0, 0]]\n",
    "\n",
    "\n",
    "print(is_valid_state(board),\"\\n\")\n",
    "\n",
    "for state in states(board):\n",
    "  print(\"\\n\")\n",
    "  for row in state:\n",
    "    print(row)"
   ]
  },
  {
   "attachments": {},
   "cell_type": "markdown",
   "metadata": {},
   "source": [
    "Clases"
   ]
  },
  {
   "cell_type": "code",
   "execution_count": 2,
   "metadata": {},
   "outputs": [],
   "source": [
    "def is_valid_state(s): #definimos los posibles estados\n",
    "\n",
    "    def queen_is_valid(y, x):\n",
    "        # miramos si en la fila hay otro reina\n",
    "        for x_col in range (queen): # va del 0 hasta el valor de queen que va de elemento en eleemento de la fila\n",
    "            if s[y][x_col]==1 and not x_col==x: # si en el estado en la fila y en la columna hay una reina que devuelva falso 'y' (fila) y x_row(va a ser las x o diferentes estados de la fila)\n",
    "                return False\n",
    "            \n",
    "        #Ahora las columnas van a ser fijas y vamos a buscar en las filas \n",
    "        for y_row in range (queen):\n",
    "            if s[y_row][x]==1 and not y_row==y: # y que no cuente esa misma posicion (es lo que hace el and not)\n",
    "                return False\n",
    "        \n",
    "        # Miramos la primera diagonal\n",
    "        for cont in range (queen):\n",
    "            if x + cont >= queen or y - cont < 0: # si el contador con 'x' iguala las reinas y el de las 'y' es menor a 0, significa que se va de rango, por lo que salimos del bucle\n",
    "                break\n",
    "\n",
    "            if s[y-cont][x+cont]==1 and y-cont !=y and x+cont != x: # a la 'y' le restamos el contador y a la 'x' se lo sumamos\n",
    "                return False  # Y devuelve falso si hay una reina \n",
    "        \n",
    "        # Miramos la segunda diagonal\n",
    "        for cont in range(queen):\n",
    "            if x + cont >= queen or y + cont >= queen : \n",
    "                break\n",
    "                \n",
    "            if s[y+cont][x+cont]==1 and y+cont !=y and x+cont !=x: # esto en el caso de que haya una reina en el lugar \n",
    "                return False #Devuelve falso si hay una reina\n",
    "        return True\n",
    "\n",
    "        \n",
    "\n",
    "    for row in range (len(s)): # para la fila dentro de el tablero o estado\n",
    "        for col in range (len(s)): # que mire cada elemento de la fila\n",
    "            if s[row][col]!=0: # si este es diferente de 0 o sea que encontro una reina; row va ir de fila en fila y col de columna en columna va a dar algo como esto (0,0)-> este va a ser el primer elemento de nuestro estado s (board)\n",
    "                if queen_is_valid(row, col): # funcion que recibe dos variables\n",
    "                    pass  \n",
    "                else:\n",
    "                    return False\n",
    "    return True\n",
    "\n",
    "\n",
    "def states(s):\n",
    "    for y in range(queen): # Para y en el rango de reinas (se mueve en las y) \n",
    "        for x  in range(queen): # Se mueve en el rango de las x \n",
    "            ns=copy.deepcopy(s) # Creamos una copia del estado \n",
    "            if ns[y][x] == 0: # Si es igual a '0' pon un '1' en esa posición \n",
    "                ns[y][x]=1\n",
    "                yield ns # Devuelve ese estado\n",
    "\n",
    "    \n",
    "\n",
    "def estado_final(s,queen): # funcion que cuente las reinas que hay\n",
    "    contador_reinas=0\n",
    "    for y in range(queen):\n",
    "        for x in range(queen):\n",
    "            if s[y][x] ==1:\n",
    "                contador_reinas+=1\n",
    "    return contador_reinas"
   ]
  },
  {
   "attachments": {},
   "cell_type": "markdown",
   "metadata": {},
   "source": [
    "Generamos el tablero"
   ]
  },
  {
   "cell_type": "code",
   "execution_count": 6,
   "metadata": {},
   "outputs": [
    {
     "name": "stdout",
     "output_type": "stream",
     "text": [
      "[0, 0, 0, 0]\n",
      "[0, 0, 0, 0]\n",
      "[0, 0, 0, 0]\n",
      "[0, 0, 0, 0]\n"
     ]
    }
   ],
   "source": [
    "board = []\n",
    "queen=4\n",
    "# Creamos el bucle que crea las listas vacias que tenga el rango de las reinas\n",
    "for i in range(queen):\n",
    "    board.append([])\n",
    "    # print(i)\n",
    "\n",
    "    # añadimos los 0 a esas listas creadas \n",
    "    for j in range(queen):\n",
    "        board[i].append(0)\n",
    "\n",
    "# para cada fila dentro de tablero vamos a ir de una en una mostrandola\n",
    "for row in board:\n",
    "    print(row)\n",
    "\n",
    "\n"
   ]
  },
  {
   "attachments": {},
   "cell_type": "markdown",
   "metadata": {},
   "source": [
    "SOLUCIÓN"
   ]
  },
  {
   "cell_type": "code",
   "execution_count": 7,
   "metadata": {},
   "outputs": [
    {
     "name": "stdout",
     "output_type": "stream",
     "text": [
      "[0, 1, 0, 0]\n",
      "[0, 0, 0, 1]\n",
      "[1, 0, 0, 0]\n",
      "[0, 0, 1, 0]\n"
     ]
    }
   ],
   "source": [
    "abiertos = [board]\n",
    "cerrados = []\n",
    "actual = abiertos[0]\n",
    "\n",
    "while not estado_final(actual,queen)==queen and len(abiertos)>0:\n",
    "    cerrados.append(actual)\n",
    "    for ns in states(actual):\n",
    "        if is_valid_state(ns) and ns not in cerrados:\n",
    "            abiertos.append(ns)\n",
    "    actual=abiertos[0]\n",
    "    abiertos.pop(0)\n",
    "\n",
    "\n",
    "if estado_final(actual,queen)==queen:\n",
    "  for row in actual:\n",
    "    print(row)\n",
    "else:\n",
    "  print(\"No hay solución válida\")"
   ]
  },
  {
   "attachments": {},
   "cell_type": "markdown",
   "metadata": {},
   "source": [
    "Busqueda de todas las posibles soluciones"
   ]
  },
  {
   "cell_type": "code",
   "execution_count": 8,
   "metadata": {},
   "outputs": [
    {
     "name": "stdout",
     "output_type": "stream",
     "text": [
      "\n",
      "Solucion 1:\n",
      "[0, 1, 0, 0]\n",
      "[0, 0, 0, 1]\n",
      "[1, 0, 0, 0]\n",
      "[0, 0, 1, 0]\n",
      "\n",
      "Solucion 2:\n",
      "[0, 0, 1, 0]\n",
      "[1, 0, 0, 0]\n",
      "[0, 0, 0, 1]\n",
      "[0, 1, 0, 0]\n"
     ]
    }
   ],
   "source": [
    "# Busqueda de todas las soluciones \n",
    "def busquedaProfundidadAll(actual, path=[]):\n",
    "    if estado_final(actual,queen)==queen:\n",
    "        path.append(actual) #Añadimos la solución al path para que busque una distinta\n",
    "        yield actual\n",
    "    else: \n",
    "        path.append(actual)\n",
    "        for ns in states(actual):\n",
    "            if is_valid_state(ns) and ns not in path:\n",
    "                yield from busquedaProfundidadAll(ns,path) \n",
    "        \n",
    "        \n",
    "c = 1\n",
    "for solucion in busquedaProfundidadAll(board):\n",
    "    print(f\"\\nSolucion {c}:\")\n",
    "    for fila in solucion:\n",
    "      print(fila)\n",
    "    c+=1"
   ]
  }
 ],
 "metadata": {
  "kernelspec": {
   "display_name": "base",
   "language": "python",
   "name": "python3"
  },
  "language_info": {
   "codemirror_mode": {
    "name": "ipython",
    "version": 3
   },
   "file_extension": ".py",
   "mimetype": "text/x-python",
   "name": "python",
   "nbconvert_exporter": "python",
   "pygments_lexer": "ipython3",
   "version": "3.9.13 (main, Aug 25 2022, 23:51:50) [MSC v.1916 64 bit (AMD64)]"
  },
  "orig_nbformat": 4,
  "vscode": {
   "interpreter": {
    "hash": "e1bee68c6db56f03f674faff4012d44b34b8b9d3c95b6771c36d57d8aaac0630"
   }
  }
 },
 "nbformat": 4,
 "nbformat_minor": 2
}
