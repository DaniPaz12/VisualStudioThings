{
 "cells": [
  {
   "cell_type": "code",
   "execution_count": null,
   "metadata": {},
   "outputs": [],
   "source": [
    "import pandas as pd\n",
    "\n",
    "def load_vinos_data():\n",
    "    csv_path =\"winequality-red.csv\"#trayectoria completa del fichero\n",
    "    print(\"leyendo:\",csv_path)\n",
    "    return pd.read_csv(csv_path)\n",
    "    "
   ]
  }
 ],
 "metadata": {
  "kernelspec": {
   "display_name": "base",
   "language": "python",
   "name": "python3"
  },
  "language_info": {
   "name": "python",
   "version": "3.9.13 (main, Aug 25 2022, 23:51:50) [MSC v.1916 64 bit (AMD64)]"
  },
  "orig_nbformat": 4,
  "vscode": {
   "interpreter": {
    "hash": "a0725c8e48c6ee7d9f6fae2d2a7d7e18db402909bac0dacffca04f8db9bffccf"
   }
  }
 },
 "nbformat": 4,
 "nbformat_minor": 2
}
