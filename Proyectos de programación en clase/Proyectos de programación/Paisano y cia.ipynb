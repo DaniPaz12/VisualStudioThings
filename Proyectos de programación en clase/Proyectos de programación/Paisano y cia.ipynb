{
 "cells": [
  {
   "cell_type": "code",
   "execution_count": 1,
   "metadata": {},
   "outputs": [
    {
     "name": "stdout",
     "output_type": "stream",
     "text": [
      "[{'C', 'L', 'H'}, {'P'}]\n",
      "[{'L', 'H'}, {'C', 'P'}]\n",
      "[{'C', 'H'}, {'P', 'L'}]\n",
      "[{'C', 'L'}, {'H', 'P'}]\n"
     ]
    }
   ],
   "source": [
    "import copy;#permite guardar un objeto\n",
    "# Qué es un estado\n",
    "# 'Set' significa conjunto (cosas no repetidas), podríamos decir que 'set' es la orilla ennuestro problema\n",
    "estado_inicial = [{'P', 'L', 'C', 'H'}, set()]\n",
    "estado_final = [set(), {'P', 'L', 'C', 'H'}]\n",
    "\n",
    "# 'S' significa estado\n",
    "def is_valid_state(s):\n",
    "    assert type(s)==list and len(s)==2;#Comprobamos que sea una lista y que dicha lista tenga 2 elementos\n",
    "    assert type(s[0])==set;#orilla izquierda\n",
    "    assert type(s[1])==set;#basicamente que tiene que haber un conjunto tanto en el primer termino como en el segundo del estado \n",
    "    \n",
    "    #Esta 's' no tiene nada que ver con la de arriba y significa shore\n",
    "    def is_valid_shore(s):\n",
    "        assert s <= {'P','L','C','H'}\n",
    "        if {'P'}      <= s: return True#si el paisano está en la orilla\n",
    "        if {'L', 'C'} <= s: return False#si el cordero y el lobo están juntos\n",
    "        if {'C', 'H'} <= s: return False#si el cordero y el heno están juntos\n",
    "        return True;\n",
    "    \n",
    "    if is_valid_shore(s[0]) and is_valid_shore(s[1]): return True\n",
    "    else:                                             return False\n",
    "    #comprueba en la función si la orilla de la derecha e izquierda son validas,si es así es verdadero, si no, falsa\n",
    "\n",
    "# esta s no tiene que ver con las demás \n",
    "def states(s):\n",
    "    assert type(s)==list and len(s)==2;#Comprobamos que sea una lista y que dicha lista tenga 2 elementos\n",
    "    assert type(s[0])==set;#orilla derecha\n",
    "    assert type(s[1])==set;#basicamente que tiene que haber un conjunto tanto en el primer termino como en el segundo del estado\n",
    "    \n",
    "    #lp (lado del paisano)\n",
    "    lp=0 if 'P' in s[0] else 1;#Lado en el que está el paisano\n",
    "    #np (no está el paisano)\n",
    "    np=1 if 'P' in s[0] else 0;#Lado en el que NO está el paisano\n",
    "    #ns (nuevo estado)\n",
    "    ns=copy.deepcopy(s)#copia profunda de 's'\n",
    "    ns[np].add('P')#añadimos al paisano en el conjunto np (donde no está el paisano)\n",
    "    ns[lp].remove('P')#quitamos el paisano al conjunto lp (donde SI está el paisano)\n",
    "    yield ns;#nos devuelve ns, vuelve desde donde lo dejó\n",
    "    \n",
    "    for c in s[lp].difference({'P'}):#va d elemento en elemento en ese conjunto y hace los estados posibles (c es uno de los elementos de la lista que contiene 'C','H','L')\n",
    "        ns=copy.deepcopy(s)\n",
    "        ns[np].add('P')\n",
    "        ns[np].add(c)\n",
    "        ns[lp].remove('P')\n",
    "        ns[lp].remove(c)\n",
    "        yield ns\n",
    "\n",
    "\n",
    "for s in states(estado_inicial):#imprime todas las combinaciones posibles (pero primero el estado inicial)\n",
    "    print(s)\n",
    "    "
   ]
  },
  {
   "cell_type": "code",
   "execution_count": 2,
   "metadata": {},
   "outputs": [
    {
     "name": "stdout",
     "output_type": "stream",
     "text": [
      "Hay solución\n"
     ]
    }
   ],
   "source": [
    "abiertos=[estado_inicial]\n",
    "cerrados=[]\n",
    "\n",
    "actual=abiertos[0]\n",
    "while actual!=estado_final and len(abiertos)>0:#mientras actual no sea el estado final y en abiertos haya algo\n",
    "    abiertos.pop(0)#quita ese estado(en este caso el primero por eso es '0')\n",
    "    cerrados.append(actual)#el estado actual se añade a estados cerrados \n",
    "    for ns in states(actual):#ns es nuevo estado (va a recorrer a sus nuevos hijos)\n",
    "        if is_valid_state(ns):#si el estado es valido\n",
    "            abiertos.append(ns)#significa que habrá que vistar ese estado\n",
    "    \n",
    "    actual=abiertos[0]\n",
    "    \n",
    "if actual==estado_final:\n",
    "    print(\"Hay solución\")\n",
    "    \n",
    "else:\n",
    "    print(\"No hay solución\")"
   ]
  },
  {
   "cell_type": "code",
   "execution_count": 3,
   "metadata": {},
   "outputs": [
    {
     "data": {
      "text/plain": [
       "[[{'C', 'H', 'L', 'P'}, set()],\n",
       " [{'H', 'L'}, {'C', 'P'}],\n",
       " [{'H', 'L', 'P'}, {'C'}],\n",
       " [{'L'}, {'C', 'H', 'P'}],\n",
       " [{'C', 'L', 'P'}, {'H'}],\n",
       " [{'C'}, {'H', 'L', 'P'}],\n",
       " [{'C', 'P'}, {'H', 'L'}],\n",
       " [set(), {'C', 'H', 'L', 'P'}]]"
      ]
     },
     "execution_count": 3,
     "metadata": {},
     "output_type": "execute_result"
    }
   ],
   "source": [
    "#Función recursiva (el camino para llegar a la solución) Primera solución\n",
    "def búsquedaProfundidad(actual, cerrados=[]):\n",
    "    #En una función recursiva es importante saber que casos no son posibles\n",
    "    if actual==estado_final:\n",
    "        return [actual]\n",
    "    else:\n",
    "        for ns in states(actual):#se van generando los hijos\n",
    "            if is_valid_state(ns) and ns not in cerrados:#si es valido el estado (el hijo) y si NO LO HE VISITADO\n",
    "                cerrados.append(ns)\n",
    "                r=búsquedaProfundidad(ns, cerrados)#cuando llega al estado final; vuelve desde el estado final por los hijos (o estados) que atravesó para llegar a estado final \n",
    "                if r!=[]:#si r es diferente a vacio (osea que el estado es válido)\n",
    "                    r.insert(0, actual)#por lo que si encuentra un estado valido lo que hace es que, recursivamente vuelve y va marcando cuales son los estados con los que llegó a esa solución; ejemplo(si el estado final es [6] va hacer lo siguiente:1)[5,6]; 2)[4,6] y así hasta llegar [0,6])\n",
    "                    \n",
    "                    return r\n",
    "        return[]\n",
    "\n",
    "solución = búsquedaProfundidad(estado_inicial)\n",
    "solución"
   ]
  },
  {
   "cell_type": "code",
   "execution_count": 4,
   "metadata": {},
   "outputs": [
    {
     "name": "stdout",
     "output_type": "stream",
     "text": [
      "Solución:\n",
      "\t [{'C', 'P', 'L', 'H'}, set()]\n",
      "\t [{'L', 'H'}, {'C', 'P'}]\n",
      "\t [{'H', 'P', 'L'}, {'C'}]\n",
      "\t [{'L'}, {'C', 'P', 'H'}]\n",
      "\t [{'C', 'P', 'L'}, {'H'}]\n",
      "\t [{'C'}, {'H', 'P', 'L'}]\n",
      "\t [{'C', 'P'}, {'H', 'L'}]\n",
      "\t [set(), {'C', 'P', 'L', 'H'}]\n",
      "Solución:\n",
      "\t [{'C', 'P', 'L', 'H'}, set()]\n",
      "\t [{'L', 'H'}, {'C', 'P'}]\n",
      "\t [{'H', 'P', 'L'}, {'C'}]\n",
      "\t [{'H'}, {'C', 'P', 'L'}]\n",
      "\t [{'H', 'P', 'C'}, {'L'}]\n",
      "\t [{'C'}, {'H', 'P', 'L'}]\n",
      "\t [{'C', 'P'}, {'H', 'L'}]\n",
      "\t [set(), {'C', 'P', 'L', 'H'}]\n"
     ]
    }
   ],
   "source": [
    "#Función recursiva (el camino para llegar a la solución)BUSQUEDA DE TODAS LAS SOLUCIONES\n",
    "def búsquedaProfundidadPlus(actual, path=[]):\n",
    "    #En una función recursiva es importante saber que casos no son posibles\n",
    "    if actual==estado_final:\n",
    "        print(\"Solución:\")#imprime la solución y sigue\n",
    "        for s in path: #imprime el los hijos donde va consiguiendo solución\n",
    "            print(\"\\t\",s)\n",
    "        print(\"\\t\",estado_final)#imprime el estado final al que llega\n",
    "\n",
    "    else:\n",
    "        path.append(actual)#se añade a si misma a la derecha\n",
    "        for ns in states(actual):#se van generando los hijos de actual\n",
    "            if is_valid_state(ns) and ns not in path:#si es valido el estado (el hijo) y no se genera un ciclo (no está en el path)\n",
    "                búsquedaProfundidadPlus(ns,path)\n",
    "        path.pop()\n",
    "        \n",
    "\n",
    "solución = búsquedaProfundidadPlus(estado_inicial)\n",
    "solución"
   ]
  },
  {
   "cell_type": "code",
   "execution_count": 5,
   "metadata": {},
   "outputs": [
    {
     "name": "stdout",
     "output_type": "stream",
     "text": [
      "\n",
      " Solución [[{'C', 'P', 'L', 'H'}, set()], [{'L', 'H'}, {'C', 'P'}], [{'H', 'P', 'L'}, {'C'}], [{'L'}, {'C', 'P', 'H'}], [{'C', 'P', 'L'}, {'H'}], [{'C'}, {'H', 'P', 'L'}], [{'C', 'P'}, {'H', 'L'}], [set(), {'H', 'P', 'L', 'C'}]]\n",
      "\n",
      " Solución [[{'C', 'P', 'L', 'H'}, set()], [{'L', 'H'}, {'C', 'P'}], [{'H', 'P', 'L'}, {'C'}], [{'H'}, {'C', 'P', 'L'}], [{'H', 'P', 'C'}, {'L'}], [{'C'}, {'H', 'P', 'L'}], [{'C', 'P'}, {'H', 'L'}], [set(), {'H', 'P', 'L', 'C'}]]\n"
     ]
    }
   ],
   "source": [
    "#Función con yield\n",
    "def búsquedaProfundidadPlus(actual, path=[]):\n",
    "    #En una función recursiva es importante saber que casos no son posibles\n",
    "    if actual==estado_final:\n",
    "        yield path + [actual]#devuelve path más el estado actual\n",
    "\n",
    "    else:\n",
    "        path.append(actual)#se añade a si misma a la derecha\n",
    "        for ns in states(actual):#se van generando los hijos de actual\n",
    "            if is_valid_state(ns) and ns not in path:#si es valido el estado (el hijo) y no se genera un ciclo \n",
    "                yield from búsquedaProfundidadPlus(ns,path)#el yield from indica de donde va a hacer el yield \n",
    "        path.pop()\n",
    "        \n",
    "for solución in búsquedaProfundidadPlus(estado_inicial):\n",
    "    print(\"\\n Solución\",solución)"
   ]
  }
 ],
 "metadata": {
  "kernelspec": {
   "display_name": "base",
   "language": "python",
   "name": "python3"
  },
  "language_info": {
   "codemirror_mode": {
    "name": "ipython",
    "version": 3
   },
   "file_extension": ".py",
   "mimetype": "text/x-python",
   "name": "python",
   "nbconvert_exporter": "python",
   "pygments_lexer": "ipython3",
   "version": "3.9.13 (main, Aug 25 2022, 23:51:50) [MSC v.1916 64 bit (AMD64)]"
  },
  "orig_nbformat": 4,
  "vscode": {
   "interpreter": {
    "hash": "a0725c8e48c6ee7d9f6fae2d2a7d7e18db402909bac0dacffca04f8db9bffccf"
   }
  }
 },
 "nbformat": 4,
 "nbformat_minor": 2
}
