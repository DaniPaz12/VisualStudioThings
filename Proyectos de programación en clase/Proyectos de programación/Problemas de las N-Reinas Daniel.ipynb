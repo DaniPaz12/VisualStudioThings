{
 "cells": [
  {
   "cell_type": "markdown",
   "metadata": {},
   "source": [
    "Problema de las N-Reinas"
   ]
  },
  {
   "attachments": {},
   "cell_type": "markdown",
   "metadata": {
    "vscode": {
     "languageId": "python"
    }
   },
   "source": [
    "Importes\n"
   ]
  },
  {
   "cell_type": "code",
   "execution_count": null,
   "metadata": {},
   "outputs": [],
   "source": [
    "import copy"
   ]
  },
  {
   "attachments": {},
   "cell_type": "markdown",
   "metadata": {},
   "source": [
    "Celda de Pruebas\n"
   ]
  },
  {
   "cell_type": "code",
   "execution_count": 51,
   "metadata": {},
   "outputs": [
    {
     "name": "stdout",
     "output_type": "stream",
     "text": [
      "[[0, 0, 0], [0, 0, 0], [0, 0, 0]]\n",
      "[0, 0, 0]\n",
      "0\n",
      "0\n",
      "0\n",
      "[0, 0, 0]\n",
      "0\n",
      "0\n",
      "0\n",
      "[0, 0, 0]\n",
      "0\n",
      "0\n",
      "0\n"
     ]
    }
   ],
   "source": [
    "board = []\n",
    "queen = 3\n",
    "# Creamos el bucle que crea las listas vacias que tenga el rango de las reinas\n",
    "for i in range(queen):\n",
    "    board.append([])\n",
    "    # print(i)\n",
    "\n",
    "    # añadimos los 0 a esas listas creadas \n",
    "    for j in range(queen):\n",
    "        board[i].append(0)\n",
    "\n",
    "# for i in range (len(board)):\n",
    "#     print(board[i])\n",
    "\n",
    "\n",
    "\n",
    "print(board)\n",
    "# para cada fila dentro de tablero vamos a ir de una en una mostrandola\n",
    "for row in board:\n",
    "    print(row)\n",
    "\n",
    "    for i in row: # Para cada elemento de es fila la vamos a ir moostrando\n",
    "        print(i)\n",
    "\n"
   ]
  },
  {
   "attachments": {},
   "cell_type": "markdown",
   "metadata": {},
   "source": [
    "Clases"
   ]
  },
  {
   "cell_type": "code",
   "execution_count": 56,
   "metadata": {},
   "outputs": [],
   "source": [
    "def is_valid_state(s): #definimos los posibles estados\n",
    "\n",
    "    def queen_is_valid(x, y):\n",
    "        # miramos si en la fila hay otro reina\n",
    "        for x_col in range (queen): # va del 0 hasta el valor de queen que va de elemento en eleemento de la fila\n",
    "            print(x_col,y)\n",
    "            if s[y][x_col]==1 and not s[y][x_col]: # si en el estado en la fila y en la columna hay una reina que devuelva falso 'y' (fila) y x_row(va a ser las x o diferentes estados de la fila)\n",
    "                return False\n",
    "        \n",
    "        for y_row in range (queen):\n",
    "            #Ahora las columnas van a ser fijas y vamos a buscar en las filas \n",
    "            if s[y_row][x]==1 and not s[y_row][x]: # y que no cuente esa misma posicion (es lo que hace el and not)\n",
    "                return False\n",
    "            \n",
    "        return True\n",
    "\n",
    "    for row in range (len(s)): # para la fila dentro de el tablero o estado\n",
    "        for col in range (len(s)): # que mire cada elemento de la fila\n",
    "            if s[row][col]!=0: # si este es diferente de 0 o sea que encontro una reina; row va ir de fila en fila y col de columna en columna va a dar algo como esto (0,0)-> este va a ser el primer elemento de nuestro estado s (board)\n",
    "                if queen_is_valid(row, col): # funcion que recibe dos variables\n",
    "                    pass  \n",
    "                else:\n",
    "                    return False\n",
    "    return True\n",
    "\n",
    "                "
   ]
  },
  {
   "cell_type": "code",
   "execution_count": 57,
   "metadata": {},
   "outputs": [
    {
     "name": "stdout",
     "output_type": "stream",
     "text": [
      "0 2\n",
      "1 2\n",
      "2 2\n",
      "True\n"
     ]
    }
   ],
   "source": [
    "board =[\n",
    "    [0,0,0],\n",
    "    [0,0,0],\n",
    "    [0,0,1]\n",
    "\n",
    "]\n",
    "\n",
    "print(is_valid_state(board))"
   ]
  },
  {
   "attachments": {},
   "cell_type": "markdown",
   "metadata": {},
   "source": [
    "SOLUCIÓN"
   ]
  },
  {
   "cell_type": "code",
   "execution_count": null,
   "metadata": {},
   "outputs": [],
   "source": [
    "#######################################################################################################################################################################    \n",
    "\n",
    "# Función recursiva (el camino para llegar a la solución) Primera solución\n",
    "def búsquedaProfundidad(actual, cerrados=[]):\n",
    "    # En una función recursiva es importante saber que casos no son posibles\n",
    "    if actual==estado_final: # Si el estado actual es el final, que lo devuelva si no que siga al otro if\n",
    "        return [actual]\n",
    "    else:\n",
    "        for ns in states(actual): # Se van generando los hijos\n",
    "            if is_valid_state(ns) and ns not in cerrados: # Si es valido el estado (el hijo) y si NO LO HE VISITADO\n",
    "                cerrados.append(ns)\n",
    "                r=búsquedaProfundidad(ns, cerrados) # Cuando llega al estado final; vuelve desde el estado final por los hijos (o estados) que atravesó para llegar a estado final \n",
    "                if r!=[]: # si r es diferente a vacio (osea que el estado es válido)\n",
    "                    r.insert(0, actual) # por lo que si encuentra un estado valido lo que hace es que, recursivamente vuelve y va marcando cuales son los estados con los que llegó a esa solución; ejemplo(si el estado final es [6] va hacer lo siguiente:1)[5,6]; 2)[4,6] y así hasta llegar [0,6])\n",
    "                    \n",
    "                    return r\n",
    "        return[]\n",
    "\n",
    "solución = búsquedaProfundidad(estado_inicial)\n",
    "\n",
    "c = 1\n",
    "for i in solución:\n",
    "    print(f\"{c}: {i}\")\n",
    "    c+=1"
   ]
  }
 ],
 "metadata": {
  "kernelspec": {
   "display_name": "base",
   "language": "python",
   "name": "python3"
  },
  "language_info": {
   "codemirror_mode": {
    "name": "ipython",
    "version": 3
   },
   "file_extension": ".py",
   "mimetype": "text/x-python",
   "name": "python",
   "nbconvert_exporter": "python",
   "pygments_lexer": "ipython3",
   "version": "3.9.13"
  },
  "orig_nbformat": 4,
  "vscode": {
   "interpreter": {
    "hash": "a0725c8e48c6ee7d9f6fae2d2a7d7e18db402909bac0dacffca04f8db9bffccf"
   }
  }
 },
 "nbformat": 4,
 "nbformat_minor": 2
}
