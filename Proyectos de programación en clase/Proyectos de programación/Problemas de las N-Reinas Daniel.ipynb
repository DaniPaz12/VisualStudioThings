{
 "cells": [
  {
   "cell_type": "markdown",
   "metadata": {},
   "source": [
    "Problema de las N-Reinas"
   ]
  },
  {
   "attachments": {},
   "cell_type": "markdown",
   "metadata": {
    "vscode": {
     "languageId": "python"
    }
   },
   "source": [
    "Importes\n"
   ]
  },
  {
   "cell_type": "code",
   "execution_count": null,
   "metadata": {},
   "outputs": [],
   "source": [
    "import copy"
   ]
  },
  {
   "attachments": {},
   "cell_type": "markdown",
   "metadata": {},
   "source": [
    "Celda de Pruebas\n"
   ]
  },
  {
   "cell_type": "code",
   "execution_count": 1,
   "metadata": {},
   "outputs": [
    {
     "ename": "IndentationError",
     "evalue": "expected an indented block (1783691507.py, line 10)",
     "output_type": "error",
     "traceback": [
      "\u001b[1;36m  File \u001b[1;32m\"C:\\Users\\daniel.alejandro.paz\\AppData\\Local\\Temp\\ipykernel_10844\\1783691507.py\"\u001b[1;36m, line \u001b[1;32m10\u001b[0m\n\u001b[1;33m    def place_queens(row, queens, N): # Función que implementa la parte recursiva y nos va a encontrar la solución\u001b[0m\n\u001b[1;37m    ^\u001b[0m\n\u001b[1;31mIndentationError\u001b[0m\u001b[1;31m:\u001b[0m expected an indented block\n"
     ]
    }
   ],
   "source": [
    "\n",
    "global queens\n",
    "\n",
    "queens = 4\n",
    "\n",
    "N = 0 # Filas y columnas del tablero\n",
    "\n",
    "def is_valid_state(row, col, queens): # Si es valido el estado\n",
    "\n",
    "\n",
    "def place_queens(row, queens, N): # Función que implementa la parte recursiva y nos va a encontrar la solución\n",
    "    if row == N: # Si en el caso de que se incremento una vez más al valor, quiere decir que encontró una solución\n",
    "        print(queens) # solo para mostrar la solución\n",
    "        return 1 \n",
    "    \n",
    "    else: # Si no, creamos una variable que nos permita sumar si encontramos alguna solución\n",
    "        total_solutions = 0 # Creamos la variable y la inicializamos a 0\n",
    "        for col in range(N): # Recorre para las filas que estamos evaluando, todas las columnas\n",
    "            if is_valid_state(row, col, queens): # Si la posición es valida, no está siendo atacada por otra reina\n",
    "                queens[row] = col# En caso de que sea válida, colocamos en queens en el indice de la fila colocamos la columna\n",
    "                total_solutions += place_queens(row+1, queens, N) # Incrementamos 1 para que siga a la siguiente fila, con su devida columna y con el arreglo de queens\n",
    "#total solutions va ir sumando las posibles soluciones que encontremos\n",
    "        return total_solutions\n",
    "\n",
    "def n_queens(N): # Función que genera el tablero\n",
    "    queens = ['  ']*N # Nos lleva las posiciones\n",
    "    row = 0 # Iniciamos en nuestra fila 0\n",
    "    return place_queens(row, queens, N) # Llamamos una función que nos permita colocar las reinas en el tablero\n",
    "\n",
    "###lacam\n",
    "\n"
   ]
  },
  {
   "attachments": {},
   "cell_type": "markdown",
   "metadata": {},
   "source": [
    "Clases"
   ]
  },
  {
   "cell_type": "code",
   "execution_count": null,
   "metadata": {},
   "outputs": [],
   "source": [
    "global N # Marcamos como global a N (cantidade de reinas)\n",
    "\n",
    "N = 4 # Cantidad de reinas "
   ]
  },
  {
   "attachments": {},
   "cell_type": "markdown",
   "metadata": {},
   "source": [
    "SOLUCIÓN"
   ]
  },
  {
   "cell_type": "code",
   "execution_count": null,
   "metadata": {},
   "outputs": [],
   "source": []
  }
 ],
 "metadata": {
  "kernelspec": {
   "display_name": "base",
   "language": "python",
   "name": "python3"
  },
  "language_info": {
   "codemirror_mode": {
    "name": "ipython",
    "version": 3
   },
   "file_extension": ".py",
   "mimetype": "text/x-python",
   "name": "python",
   "nbconvert_exporter": "python",
   "pygments_lexer": "ipython3",
   "version": "3.9.13"
  },
  "orig_nbformat": 4,
  "vscode": {
   "interpreter": {
    "hash": "a0725c8e48c6ee7d9f6fae2d2a7d7e18db402909bac0dacffca04f8db9bffccf"
   }
  }
 },
 "nbformat": 4,
 "nbformat_minor": 2
}
