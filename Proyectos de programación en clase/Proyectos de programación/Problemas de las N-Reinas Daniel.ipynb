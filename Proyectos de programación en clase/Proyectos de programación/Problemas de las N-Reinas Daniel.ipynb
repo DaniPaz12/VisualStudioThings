{
 "cells": [
  {
   "cell_type": "markdown",
   "metadata": {},
   "source": [
    "Problema de las N-Reinas"
   ]
  },
  {
   "attachments": {},
   "cell_type": "markdown",
   "metadata": {
    "vscode": {
     "languageId": "python"
    }
   },
   "source": [
    "Importes\n"
   ]
  },
  {
   "cell_type": "code",
   "execution_count": null,
   "metadata": {},
   "outputs": [],
   "source": [
    "import copy"
   ]
  },
  {
   "attachments": {},
   "cell_type": "markdown",
   "metadata": {},
   "source": [
    "Celda de Pruebas\n"
   ]
  },
  {
   "cell_type": "code",
   "execution_count": 36,
   "metadata": {},
   "outputs": [
    {
     "name": "stdout",
     "output_type": "stream",
     "text": [
      "[[], [], [], [0]]\n",
      "[[], [], [], [0]]\n",
      "[[], [], [], [0]]\n",
      "[[], [], [], [0]]\n",
      "[[], [], [], [0, 0]]\n",
      "[[], [], [], [0, 0]]\n",
      "[[], [], [], [0, 0]]\n",
      "[[], [], [], [0, 0]]\n",
      "[[], [], [], [0, 0, 0]]\n",
      "[[], [], [], [0, 0, 0]]\n",
      "[[], [], [], [0, 0, 0]]\n",
      "[[], [], [], [0, 0, 0]]\n",
      "[[], [], [], [0, 0, 0, 0]]\n",
      "[[], [], [], [0, 0, 0, 0]]\n",
      "[[], [], [], [0, 0, 0, 0]]\n",
      "[[], [], [], [0, 0, 0, 0]]\n"
     ]
    }
   ],
   "source": [
    "board = []\n",
    "\n",
    "N = 4\n",
    "\n",
    "for r in range(N):\n",
    "    board.append([])\n",
    "\n",
    "for c in range(N):\n",
    "    board[r].append(0)\n",
    "\n",
    "for i in board:\n",
    "    print(board)\n",
    "\n",
    "\n",
    "\n"
   ]
  },
  {
   "attachments": {},
   "cell_type": "markdown",
   "metadata": {},
   "source": [
    "Clases"
   ]
  },
  {
   "cell_type": "code",
   "execution_count": null,
   "metadata": {},
   "outputs": [],
   "source": [
    "global N # Marcamos como global a N (cantidade de reinas)\n",
    "\n",
    "N = 4 # Cantidad de reinas "
   ]
  },
  {
   "attachments": {},
   "cell_type": "markdown",
   "metadata": {},
   "source": [
    "SOLUCIÓN"
   ]
  },
  {
   "cell_type": "code",
   "execution_count": null,
   "metadata": {},
   "outputs": [],
   "source": []
  }
 ],
 "metadata": {
  "kernelspec": {
   "display_name": "base",
   "language": "python",
   "name": "python3"
  },
  "language_info": {
   "codemirror_mode": {
    "name": "ipython",
    "version": 3
   },
   "file_extension": ".py",
   "mimetype": "text/x-python",
   "name": "python",
   "nbconvert_exporter": "python",
   "pygments_lexer": "ipython3",
   "version": "3.9.13"
  },
  "orig_nbformat": 4,
  "vscode": {
   "interpreter": {
    "hash": "a0725c8e48c6ee7d9f6fae2d2a7d7e18db402909bac0dacffca04f8db9bffccf"
   }
  }
 },
 "nbformat": 4,
 "nbformat_minor": 2
}
