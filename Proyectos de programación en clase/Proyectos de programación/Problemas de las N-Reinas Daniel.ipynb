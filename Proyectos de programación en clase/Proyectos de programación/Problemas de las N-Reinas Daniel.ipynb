{
 "cells": [
  {
   "cell_type": "markdown",
   "metadata": {},
   "source": [
    "Problema de las N-Reinas"
   ]
  },
  {
   "attachments": {},
   "cell_type": "markdown",
   "metadata": {
    "vscode": {
     "languageId": "python"
    }
   },
   "source": [
    "Importes\n"
   ]
  },
  {
   "cell_type": "code",
   "execution_count": 4,
   "metadata": {},
   "outputs": [],
   "source": [
    "import copy"
   ]
  },
  {
   "attachments": {},
   "cell_type": "markdown",
   "metadata": {},
   "source": [
    "Celda de Pruebas\n"
   ]
  },
  {
   "cell_type": "code",
   "execution_count": 5,
   "metadata": {},
   "outputs": [
    {
     "name": "stdout",
     "output_type": "stream",
     "text": [
      "[[0, 0, 0], [0, 0, 0], [0, 0, 0]]\n",
      "[0, 0, 0]\n",
      "0\n",
      "0\n",
      "0\n",
      "[0, 0, 0]\n",
      "0\n",
      "0\n",
      "0\n",
      "[0, 0, 0]\n",
      "0\n",
      "0\n",
      "0\n"
     ]
    }
   ],
   "source": [
    "board = []\n",
    "queen = 3\n",
    "# Creamos el bucle que crea las listas vacias que tenga el rango de las reinas\n",
    "for i in range(queen):\n",
    "    board.append([])\n",
    "    # print(i)\n",
    "\n",
    "    # añadimos los 0 a esas listas creadas \n",
    "    for j in range(queen):\n",
    "        board[i].append(0)\n",
    "\n",
    "# for i in range (len(board)):\n",
    "#     print(board[i])\n",
    "\n",
    "\n",
    "\n",
    "print(board)\n",
    "# para cada fila dentro de tablero vamos a ir de una en una mostrandola\n",
    "for row in board:\n",
    "    print(row)\n",
    "\n",
    "    for i in row: # Para cada elemento de es fila la vamos a ir moostrando\n",
    "        print(i)\n",
    "\n"
   ]
  },
  {
   "attachments": {},
   "cell_type": "markdown",
   "metadata": {},
   "source": [
    "Clases"
   ]
  },
  {
   "cell_type": "code",
   "execution_count": 6,
   "metadata": {},
   "outputs": [],
   "source": [
    "def is_valid_state(s): #definimos los posibles estados\n",
    "\n",
    "    def queen_is_valid(x, y):\n",
    "        # miramos si en la fila hay otro reina\n",
    "        for x_col in range (queen): # va del 0 hasta el valor de queen que va de elemento en eleemento de la fila\n",
    "            print(x_col,y)\n",
    "            if s[y][x_col]==1 and not s[y][x_col]: # si en el estado en la fila y en la columna hay una reina que devuelva falso 'y' (fila) y x_row(va a ser las x o diferentes estados de la fila)\n",
    "                return False\n",
    "            \n",
    "        #Ahora las columnas van a ser fijas y vamos a buscar en las filas \n",
    "        for y_row in range (queen):\n",
    "            if s[y_row][x]==1 and not s[y_row][x]: # y que no cuente esa misma posicion (es lo que hace el and not)\n",
    "                return False\n",
    "        \n",
    "        # Miramos la primera diagonal\n",
    "        for cont in range (queen):\n",
    "            if x + cont >= queen and y - cont < 0: # si el contador con 'x' iguala las reinas y el de las 'y' es menor a 0, significa que se va de rango, por lo que salimos del bucle\n",
    "                break\n",
    "\n",
    "            if s[y-cont][x+cont]==1 and y-cont !=y and x+cont != x: # a la 'y' le restamos el contador y a la 'x' se lo sumamos\n",
    "                return False  # Y devuelve falso si hay una reina \n",
    "        \n",
    "        # Miramos la segunda diagonal\n",
    "        for cont in range(queen):\n",
    "            if x + cont >= queen and y + cont >= queen : \n",
    "                break\n",
    "                \n",
    "            if s[y+cont][x+cont]==1 and y+cont !=y and x+cont !=x: # esto en el caso de que haya una reina en el lugar \n",
    "                return False #Devuelve falso si hay una reina\n",
    "        return True\n",
    "\n",
    "        \n",
    "\n",
    "    for row in range (len(s)): # para la fila dentro de el tablero o estado\n",
    "        for col in range (len(s)): # que mire cada elemento de la fila\n",
    "            if s[row][col]!=0: # si este es diferente de 0 o sea que encontro una reina; row va ir de fila en fila y col de columna en columna va a dar algo como esto (0,0)-> este va a ser el primer elemento de nuestro estado s (board)\n",
    "                if queen_is_valid(row, col): # funcion que recibe dos variables\n",
    "                    pass  \n",
    "                else:\n",
    "                    return False\n",
    "    return True\n",
    "\n",
    "\n",
    "def states(s):\n",
    "    for y in range(queen): # Para y en el rango de reinas (se mueve en las y) \n",
    "        for x  in range(queen): # Se mueve en el rango de las x \n",
    "            ns=copy.deepcopy(s) # Creamos una copia del estado \n",
    "            if s[y][x] == 0: # Si es igual a '0' pon un '1' en esa posición \n",
    "                ns[y][x]==1\n",
    "                yield ns # Devuelve ese estado\n",
    "\n",
    "    \n",
    "\n",
    "def estado_final(s): # funcion que cuente las reinas que hay\n",
    "    contador_reinas=0\n",
    "    for y in range(queen):\n",
    "        for x in range(queen):\n",
    "            if s[y][x] ==1:\n",
    "                contador_reinas+=1\n",
    "    return contador_reinas"
   ]
  },
  {
   "cell_type": "code",
   "execution_count": 3,
   "metadata": {},
   "outputs": [
    {
     "ename": "NameError",
     "evalue": "name 'queen' is not defined",
     "output_type": "error",
     "traceback": [
      "\u001b[1;31m---------------------------------------------------------------------------\u001b[0m",
      "\u001b[1;31mNameError\u001b[0m                                 Traceback (most recent call last)",
      "\u001b[1;32m~\\AppData\\Local\\Temp\\ipykernel_6552\\2297566016.py\u001b[0m in \u001b[0;36m<module>\u001b[1;34m\u001b[0m\n\u001b[0;32m      6\u001b[0m ]\n\u001b[0;32m      7\u001b[0m \u001b[1;33m\u001b[0m\u001b[0m\n\u001b[1;32m----> 8\u001b[1;33m \u001b[0mprint\u001b[0m\u001b[1;33m(\u001b[0m\u001b[0mis_valid_state\u001b[0m\u001b[1;33m(\u001b[0m\u001b[0mboard\u001b[0m\u001b[1;33m)\u001b[0m\u001b[1;33m)\u001b[0m\u001b[1;33m\u001b[0m\u001b[1;33m\u001b[0m\u001b[0m\n\u001b[0m",
      "\u001b[1;32m~\\AppData\\Local\\Temp\\ipykernel_6552\\3041196377.py\u001b[0m in \u001b[0;36mis_valid_state\u001b[1;34m(s)\u001b[0m\n\u001b[0;32m     35\u001b[0m         \u001b[1;32mfor\u001b[0m \u001b[0mcol\u001b[0m \u001b[1;32min\u001b[0m \u001b[0mrange\u001b[0m \u001b[1;33m(\u001b[0m\u001b[0mlen\u001b[0m\u001b[1;33m(\u001b[0m\u001b[0ms\u001b[0m\u001b[1;33m)\u001b[0m\u001b[1;33m)\u001b[0m\u001b[1;33m:\u001b[0m \u001b[1;31m# que mire cada elemento de la fila\u001b[0m\u001b[1;33m\u001b[0m\u001b[1;33m\u001b[0m\u001b[0m\n\u001b[0;32m     36\u001b[0m             \u001b[1;32mif\u001b[0m \u001b[0ms\u001b[0m\u001b[1;33m[\u001b[0m\u001b[0mrow\u001b[0m\u001b[1;33m]\u001b[0m\u001b[1;33m[\u001b[0m\u001b[0mcol\u001b[0m\u001b[1;33m]\u001b[0m\u001b[1;33m!=\u001b[0m\u001b[1;36m0\u001b[0m\u001b[1;33m:\u001b[0m \u001b[1;31m# si este es diferente de 0 o sea que encontro una reina; row va ir de fila en fila y col de columna en columna va a dar algo como esto (0,0)-> este va a ser el primer elemento de nuestro estado s (board)\u001b[0m\u001b[1;33m\u001b[0m\u001b[1;33m\u001b[0m\u001b[0m\n\u001b[1;32m---> 37\u001b[1;33m                 \u001b[1;32mif\u001b[0m \u001b[0mqueen_is_valid\u001b[0m\u001b[1;33m(\u001b[0m\u001b[0mrow\u001b[0m\u001b[1;33m,\u001b[0m \u001b[0mcol\u001b[0m\u001b[1;33m)\u001b[0m\u001b[1;33m:\u001b[0m \u001b[1;31m# funcion que recibe dos variables\u001b[0m\u001b[1;33m\u001b[0m\u001b[1;33m\u001b[0m\u001b[0m\n\u001b[0m\u001b[0;32m     38\u001b[0m                     \u001b[1;32mpass\u001b[0m\u001b[1;33m\u001b[0m\u001b[1;33m\u001b[0m\u001b[0m\n\u001b[0;32m     39\u001b[0m                 \u001b[1;32melse\u001b[0m\u001b[1;33m:\u001b[0m\u001b[1;33m\u001b[0m\u001b[1;33m\u001b[0m\u001b[0m\n",
      "\u001b[1;32m~\\AppData\\Local\\Temp\\ipykernel_6552\\3041196377.py\u001b[0m in \u001b[0;36mqueen_is_valid\u001b[1;34m(x, y)\u001b[0m\n\u001b[0;32m      3\u001b[0m     \u001b[1;32mdef\u001b[0m \u001b[0mqueen_is_valid\u001b[0m\u001b[1;33m(\u001b[0m\u001b[0mx\u001b[0m\u001b[1;33m,\u001b[0m \u001b[0my\u001b[0m\u001b[1;33m)\u001b[0m\u001b[1;33m:\u001b[0m\u001b[1;33m\u001b[0m\u001b[1;33m\u001b[0m\u001b[0m\n\u001b[0;32m      4\u001b[0m         \u001b[1;31m# miramos si en la fila hay otro reina\u001b[0m\u001b[1;33m\u001b[0m\u001b[1;33m\u001b[0m\u001b[0m\n\u001b[1;32m----> 5\u001b[1;33m         \u001b[1;32mfor\u001b[0m \u001b[0mx_col\u001b[0m \u001b[1;32min\u001b[0m \u001b[0mrange\u001b[0m \u001b[1;33m(\u001b[0m\u001b[0mqueen\u001b[0m\u001b[1;33m)\u001b[0m\u001b[1;33m:\u001b[0m \u001b[1;31m# va del 0 hasta el valor de queen que va de elemento en eleemento de la fila\u001b[0m\u001b[1;33m\u001b[0m\u001b[1;33m\u001b[0m\u001b[0m\n\u001b[0m\u001b[0;32m      6\u001b[0m             \u001b[0mprint\u001b[0m\u001b[1;33m(\u001b[0m\u001b[0mx_col\u001b[0m\u001b[1;33m,\u001b[0m\u001b[0my\u001b[0m\u001b[1;33m)\u001b[0m\u001b[1;33m\u001b[0m\u001b[1;33m\u001b[0m\u001b[0m\n\u001b[0;32m      7\u001b[0m             \u001b[1;32mif\u001b[0m \u001b[0ms\u001b[0m\u001b[1;33m[\u001b[0m\u001b[0my\u001b[0m\u001b[1;33m]\u001b[0m\u001b[1;33m[\u001b[0m\u001b[0mx_col\u001b[0m\u001b[1;33m]\u001b[0m\u001b[1;33m==\u001b[0m\u001b[1;36m1\u001b[0m \u001b[1;32mand\u001b[0m \u001b[1;32mnot\u001b[0m \u001b[0ms\u001b[0m\u001b[1;33m[\u001b[0m\u001b[0my\u001b[0m\u001b[1;33m]\u001b[0m\u001b[1;33m[\u001b[0m\u001b[0mx_col\u001b[0m\u001b[1;33m]\u001b[0m\u001b[1;33m:\u001b[0m \u001b[1;31m# si en el estado en la fila y en la columna hay una reina que devuelva falso 'y' (fila) y x_row(va a ser las x o diferentes estados de la fila)\u001b[0m\u001b[1;33m\u001b[0m\u001b[1;33m\u001b[0m\u001b[0m\n",
      "\u001b[1;31mNameError\u001b[0m: name 'queen' is not defined"
     ]
    }
   ],
   "source": [
    "# board =[\n",
    "#     [1,0,0],\n",
    "#     [0,0,0],\n",
    "#     [0,0,1]\n",
    "\n",
    "# ]\n",
    "\n",
    "# print(is_valid_state(board))"
   ]
  },
  {
   "cell_type": "code",
   "execution_count": null,
   "metadata": {},
   "outputs": [],
   "source": []
  },
  {
   "attachments": {},
   "cell_type": "markdown",
   "metadata": {},
   "source": [
    "SOLUCIÓN"
   ]
  },
  {
   "cell_type": "code",
   "execution_count": 8,
   "metadata": {},
   "outputs": [],
   "source": [
    "\n",
    "#######################################################################################################################################################################    \n",
    "\n",
    "# Función recursiva (el camino para llegar a la solución) Primera solución\n",
    "def búsquedaProfundidad(actual, cerrados=[]):\n",
    "    # En una función recursiva es importante saber que casos no son posibles\n",
    "    if estado_final(actual)==queen: # Si el estado actual es el final, que lo devuelva si no que siga al otro if\n",
    "        return [actual]\n",
    "    else:\n",
    "        for ns in states(actual): # Se van generando los hijos\n",
    "            if is_valid_state(ns) and ns not in cerrados: # Si es valido el estado (el hijo) y si NO LO HE VISITADO\n",
    "                cerrados.append(ns)\n",
    "                r=búsquedaProfundidad(ns, cerrados) # Cuando llega al estado final; vuelve desde el estado final por los hijos (o estados) que atravesó para llegar a estado final \n",
    "                if r!=[]: # si r es diferente a vacio (osea que el estado es válido)\n",
    "                    r.insert(0, actual) # por lo que si encuentra un estado valido lo que hace es que, recursivamente vuelve y va marcando cuales son los estados con los que llegó a esa solución; ejemplo(si el estado final es [6] va hacer lo siguiente:1)[5,6]; 2)[4,6] y así hasta llegar [0,6])\n",
    "                    \n",
    "                    return r\n",
    "        return[]\n",
    "\n",
    "solución = búsquedaProfundidad(board)\n",
    "\n"
   ]
  }
 ],
 "metadata": {
  "kernelspec": {
   "display_name": "base",
   "language": "python",
   "name": "python3"
  },
  "language_info": {
   "codemirror_mode": {
    "name": "ipython",
    "version": 3
   },
   "file_extension": ".py",
   "mimetype": "text/x-python",
   "name": "python",
   "nbconvert_exporter": "python",
   "pygments_lexer": "ipython3",
   "version": "3.9.13"
  },
  "orig_nbformat": 4,
  "vscode": {
   "interpreter": {
    "hash": "a0725c8e48c6ee7d9f6fae2d2a7d7e18db402909bac0dacffca04f8db9bffccf"
   }
  }
 },
 "nbformat": 4,
 "nbformat_minor": 2
}
