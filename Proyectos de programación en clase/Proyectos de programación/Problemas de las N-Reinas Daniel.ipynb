{
 "cells": [
  {
   "cell_type": "markdown",
   "metadata": {},
   "source": [
    "Problema de las N-Reinas"
   ]
  },
  {
   "cell_type": "code",
   "execution_count": null,
   "metadata": {},
   "outputs": [],
   "source": []
  }
 ],
 "metadata": {
  "kernelspec": {
   "display_name": "base",
   "language": "python",
   "name": "python3"
  },
  "language_info": {
   "name": "python",
   "version": "3.9.13 (main, Aug 25 2022, 23:51:50) [MSC v.1916 64 bit (AMD64)]"
  },
  "orig_nbformat": 4,
  "vscode": {
   "interpreter": {
    "hash": "a0725c8e48c6ee7d9f6fae2d2a7d7e18db402909bac0dacffca04f8db9bffccf"
   }
  }
 },
 "nbformat": 4,
 "nbformat_minor": 2
}
