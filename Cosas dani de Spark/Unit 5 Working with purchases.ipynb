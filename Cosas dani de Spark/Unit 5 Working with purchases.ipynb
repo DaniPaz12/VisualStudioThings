{
 "cells": [
  {
   "cell_type": "markdown",
   "metadata": {},
   "source": [
    "# Working with purchases using DataFrames"
   ]
  },
  {
   "cell_type": "markdown",
   "metadata": {},
   "source": [
    "## Load data"
   ]
  },
  {
   "cell_type": "code",
   "execution_count": 1,
   "metadata": {},
   "outputs": [],
   "source": [
    "rdd = sc.textFile('PURCHASES/purchases.txt')"
   ]
  },
  {
   "cell_type": "markdown",
   "metadata": {},
   "source": [
    "## Convert to a DataFrame"
   ]
  },
  {
   "cell_type": "code",
   "execution_count": 3,
   "metadata": {},
   "outputs": [],
   "source": [
    "from pyspark.sql import Row\n",
    "\n",
    "def parse_row(line):\n",
    "    \"\"\"Converts a line into a Row\n",
    "       If the line is a data line it is converted to a Row and returned as a list with that Row,\n",
    "       otherwise an empty list is returned.\n",
    "    \"\"\"\n",
    "    if len(line.split('\\t'))==6:\n",
    "        data, hora, cidade, tipo, custo, pago = line.split('\\t')\n",
    "        return [Row(data=data, hora=hora, cidade=cidade, tipo=tipo, custo=float(custo), pago=pago)]\n",
    "    return []"
   ]
  },
  {
   "cell_type": "markdown",
   "metadata": {},
   "source": [
    "Using flatMap we have the flexibility to return nothing from a call to the function, this is accomplished returning and empty array."
   ]
  },
  {
   "cell_type": "code",
   "execution_count": 4,
   "metadata": {},
   "outputs": [],
   "source": [
    "data = rdd.flatMap(parse_row).toDF()"
   ]
  },
  {
   "cell_type": "code",
   "execution_count": 65,
   "metadata": {},
   "outputs": [],
   "source": [
    "# Imprime o esquema do Dataframe"
   ]
  },
  {
   "cell_type": "code",
   "execution_count": 5,
   "metadata": {},
   "outputs": [
    {
     "name": "stdout",
     "output_type": "stream",
     "text": [
      "root\n",
      " |-- cidade: string (nullable = true)\n",
      " |-- custo: double (nullable = true)\n",
      " |-- data: string (nullable = true)\n",
      " |-- hora: string (nullable = true)\n",
      " |-- pago: string (nullable = true)\n",
      " |-- tipo: string (nullable = true)\n",
      "\n"
     ]
    }
   ],
   "source": [
    "data.printSchema()"
   ]
  },
  {
   "cell_type": "code",
   "execution_count": 66,
   "metadata": {},
   "outputs": [],
   "source": [
    "# Mostra algunhas liñas do Dataframe"
   ]
  },
  {
   "cell_type": "code",
   "execution_count": 6,
   "metadata": {},
   "outputs": [
    {
     "name": "stdout",
     "output_type": "stream",
     "text": [
      "+----------+------+----------+-----+--------+----------------+\n",
      "|    cidade| custo|      data| hora|    pago|            tipo|\n",
      "+----------+------+----------+-----+--------+----------------+\n",
      "|  San Jose|214.05|2012-01-01|09:00|    Amex|  Men's Clothing|\n",
      "|Fort Worth|153.57|2012-01-01|09:00|    Visa|Women's Clothing|\n",
      "| San Diego| 66.08|2012-01-01|09:00|    Cash|           Music|\n",
      "|Pittsburgh|493.51|2012-01-01|09:00|Discover|    Pet Supplies|\n",
      "+----------+------+----------+-----+--------+----------------+\n",
      "only showing top 4 rows\n",
      "\n"
     ]
    }
   ],
   "source": [
    "data.show(4)"
   ]
  },
  {
   "cell_type": "markdown",
   "metadata": {},
   "source": [
    "## Count the number of points"
   ]
  },
  {
   "cell_type": "code",
   "execution_count": 19,
   "metadata": {},
   "outputs": [
    {
     "data": {
      "text/plain": [
       "4138476"
      ]
     },
     "execution_count": 19,
     "metadata": {},
     "output_type": "execute_result"
    }
   ],
   "source": [
    "data.count() # Datos totales del dataset"
   ]
  },
  {
   "cell_type": "markdown",
   "metadata": {},
   "source": [
    "## Count the number of points per city"
   ]
  },
  {
   "cell_type": "code",
   "execution_count": 25,
   "metadata": {},
   "outputs": [
    {
     "name": "stdout",
     "output_type": "stream",
     "text": [
      "+---------------+-----+\n",
      "|         cidade|count|\n",
      "+---------------+-----+\n",
      "|North Las Vegas|40013|\n",
      "|        Phoenix|40333|\n",
      "|          Omaha|40209|\n",
      "|      Anchorage|39806|\n",
      "|        Anaheim|40086|\n",
      "|     Greensboro|40232|\n",
      "|         Dallas|40368|\n",
      "|         Laredo|40342|\n",
      "|        Oakland|39728|\n",
      "|     Scottsdale|40173|\n",
      "|    San Antonio|40197|\n",
      "|    Bakersfield|40326|\n",
      "|    Chula Vista|40080|\n",
      "|        Raleigh|40261|\n",
      "|     Louisville|40099|\n",
      "|   Philadelphia|40748|\n",
      "|    Los Angeles|40254|\n",
      "|       Chandler|39826|\n",
      "|     Sacramento|40561|\n",
      "|   Indianapolis|40321|\n",
      "+---------------+-----+\n",
      "only showing top 20 rows\n",
      "\n"
     ]
    }
   ],
   "source": [
    "data.groupby('cidade').count().show() # cuantas veces aparece cada ciudad"
   ]
  },
  {
   "cell_type": "markdown",
   "metadata": {},
   "source": [
    "## Top 10 cities with more purchases (lines)"
   ]
  },
  {
   "cell_type": "code",
   "execution_count": 30,
   "metadata": {},
   "outputs": [
    {
     "name": "stdout",
     "output_type": "stream",
     "text": [
      "+-------------+-----+\n",
      "|       cidade|count|\n",
      "+-------------+-----+\n",
      "| Philadelphia|40748|\n",
      "|       Newark|40577|\n",
      "|   Sacramento|40561|\n",
      "|    Charlotte|40509|\n",
      "|   Washington|40503|\n",
      "|       Durham|40501|\n",
      "|    Rochester|40455|\n",
      "|   Cincinnati|40452|\n",
      "|Oklahoma City|40446|\n",
      "|   Fort Wayne|40439|\n",
      "+-------------+-----+\n",
      "only showing top 10 rows\n",
      "\n"
     ]
    }
   ],
   "source": [
    "from pyspark.sql.functions import desc, count\n",
    "data.groupby('cidade').agg(count('*').alias('count')).orderBy(desc('count')).show(10)\n"
   ]
  },
  {
   "cell_type": "markdown",
   "metadata": {},
   "source": [
    "## Filter Music data"
   ]
  },
  {
   "cell_type": "code",
   "execution_count": 41,
   "metadata": {},
   "outputs": [
    {
     "name": "stdout",
     "output_type": "stream",
     "text": [
      "+-------------+------+----------+-----+----------+-----+\n",
      "|       cidade| custo|      data| hora|      pago| tipo|\n",
      "+-------------+------+----------+-----+----------+-----+\n",
      "|    San Diego| 66.08|2012-01-01|09:00|      Cash|Music|\n",
      "|San Francisco|260.65|2012-01-01|09:00|  Discover|Music|\n",
      "|    Anchorage|298.86|2012-01-01|09:01|MasterCard|Music|\n",
      "|   Pittsburgh| 46.99|2012-01-01|09:03|  Discover|Music|\n",
      "|  Jersey City| 11.29|2012-01-01|09:04|      Cash|Music|\n",
      "|      Houston|461.11|2012-01-01|09:05|  Discover|Music|\n",
      "|   Scottsdale| 461.2|2012-01-01|09:06|      Amex|Music|\n",
      "|  Kansas City|364.24|2012-01-01|09:06|      Amex|Music|\n",
      "|      Houston|331.68|2012-01-01|09:06|MasterCard|Music|\n",
      "|      Phoenix|  94.3|2012-01-01|09:08|      Visa|Music|\n",
      "+-------------+------+----------+-----+----------+-----+\n",
      "only showing top 10 rows\n",
      "\n"
     ]
    }
   ],
   "source": [
    "music = data.filter(data.tipo == \"Music\")\n",
    "music.show(10)"
   ]
  },
  {
   "cell_type": "markdown",
   "metadata": {},
   "source": [
    "## Find the total purchases cost per day of Music in San Diego"
   ]
  },
  {
   "cell_type": "code",
   "execution_count": 42,
   "metadata": {},
   "outputs": [],
   "source": [
    "from pyspark.sql.functions import sum"
   ]
  },
  {
   "cell_type": "code",
   "execution_count": 43,
   "metadata": {},
   "outputs": [
    {
     "name": "stdout",
     "output_type": "stream",
     "text": [
      "('Valor de compras en San Diego:', 553940.6799999995)\n"
     ]
    }
   ],
   "source": [
    "sandiego_music = music.filter(music.cidade == \"San Diego\")\n",
    "\n",
    "cost = sandiego_music.select(sum('custo')).collect()[0][0]\n",
    "\n",
    "print(\"Valor de compras en San Diego:\", (cost))"
   ]
  }
 ],
 "metadata": {
  "kernelspec": {
   "display_name": "Python 2",
   "language": "python",
   "name": "python2"
  },
  "language_info": {
   "codemirror_mode": {
    "name": "ipython",
    "version": 2
   },
   "file_extension": ".py",
   "mimetype": "text/x-python",
   "name": "python",
   "nbconvert_exporter": "python",
   "pygments_lexer": "ipython2",
   "version": "2.7.15"
  }
 },
 "nbformat": 4,
 "nbformat_minor": 2
}
