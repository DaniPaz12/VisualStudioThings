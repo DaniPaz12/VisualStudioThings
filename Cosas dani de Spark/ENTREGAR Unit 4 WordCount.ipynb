{
 "cells": [
  {
   "cell_type": "markdown",
   "metadata": {},
   "source": [
    "# WordCount"
   ]
  },
  {
   "cell_type": "markdown",
   "metadata": {},
   "source": [
    "## Load data"
   ]
  },
  {
   "cell_type": "code",
   "execution_count": null,
   "metadata": {
    "collapsed": true,
    "jupyter": {
     "outputs_hidden": true
    }
   },
   "outputs": [],
   "source": [
    "lines = sc.textFile('datasets/slurmd/slurmd.log.c6601')"
   ]
  },
  {
   "cell_type": "code",
   "execution_count": 4,
   "metadata": {},
   "outputs": [
    {
     "data": {
      "text/plain": [
       "[u'1494920290 2017 May 16 09:38:10 c6601 user info slurmstepd in _window_manager',\n",
       " u'1484749103 2017 Jan 18 15:18:23 c6601 user info slurmstepd task/cgroup: /slurm/uid_12244/job_414569/step_0: alloc=5120MB mem.limit=5120MB memsw.limit=unlimited',\n",
       " u'1484579003 2017 Jan 16 16:03:23 c6601 daemon info slurmd launch task 412592.0 request from 12249.113@10.118.68.11 (port 30688)',\n",
       " u'1487760351 2017 Feb 22 11:45:51 c6601 user info slurmstepd task/cgroup: /slurm/uid_12525/job_454738: alloc=5120MB mem.limit=5120MB memsw.limit=unlimited',\n",
       " u'1490784682 2017 Mar 29 12:51:22 c6601 daemon info slurmd launch task 578020.0 request from 12099.104@10.118.68.12 (port 1472)']"
      ]
     },
     "execution_count": 4,
     "metadata": {},
     "output_type": "execute_result"
    }
   ],
   "source": [
    "lines.takeSample(withReplacement=False, num = 5) #Mostramos 5 aleatorias"
   ]
  },
  {
   "cell_type": "markdown",
   "metadata": {},
   "source": [
    "## Split lines into words"
   ]
  },
  {
   "cell_type": "code",
   "execution_count": 23,
   "metadata": {
    "jupyter": {
     "outputs_hidden": true
    },
    "scrolled": true
   },
   "outputs": [],
   "source": [
    "words = lines.flatMap(lambda w: w.split(' ')) # separamos las lineas en palabras (cada palabra está separada por espacios por eso (' '))\n",
    "# flatMap desglosa mejor la información"
   ]
  },
  {
   "cell_type": "code",
   "execution_count": 26,
   "metadata": {},
   "outputs": [
    {
     "data": {
      "text/plain": [
       "[u'1482336831',\n",
       " u'2016',\n",
       " u'Dec',\n",
       " u'21',\n",
       " u'17:13:51',\n",
       " u'c6601',\n",
       " u'daemon',\n",
       " u'info',\n",
       " u'slurmd',\n",
       " u'launch']"
      ]
     },
     "execution_count": 26,
     "metadata": {},
     "output_type": "execute_result"
    }
   ],
   "source": [
    "words.take(10) # vemos que nos la separa"
   ]
  },
  {
   "cell_type": "code",
   "execution_count": 21,
   "metadata": {},
   "outputs": [
    {
     "data": {
      "text/plain": [
       "[[u'1482336831',\n",
       "  u'2016',\n",
       "  u'Dec',\n",
       "  u'21',\n",
       "  u'17:13:51',\n",
       "  u'c6601',\n",
       "  u'daemon',\n",
       "  u'info',\n",
       "  u'slurmd',\n",
       "  u'launch',\n",
       "  u'task',\n",
       "  u'387796.0',\n",
       "  u'request',\n",
       "  u'from',\n",
       "  u'10946.113@10.118.68.11',\n",
       "  u'(port',\n",
       "  u'42900)'],\n",
       " [u'1482336831',\n",
       "  u'2016',\n",
       "  u'Dec',\n",
       "  u'21',\n",
       "  u'17:13:51',\n",
       "  u'c6601',\n",
       "  u'daemon',\n",
       "  u'err',\n",
       "  u'slurmd',\n",
       "  u'error:',\n",
       "  u'gres/mic',\n",
       "  u'unable',\n",
       "  u'to',\n",
       "  u'set',\n",
       "  u'OFFLOAD_DEVICES,',\n",
       "  u'no',\n",
       "  u'device',\n",
       "  u'files',\n",
       "  u'configured'],\n",
       " [u'1482336831',\n",
       "  u'2016',\n",
       "  u'Dec',\n",
       "  u'21',\n",
       "  u'17:13:51',\n",
       "  u'c6601',\n",
       "  u'daemon',\n",
       "  u'info',\n",
       "  u'slurmd',\n",
       "  u'_run_prolog:',\n",
       "  u'run',\n",
       "  u'job',\n",
       "  u'script',\n",
       "  u'took',\n",
       "  u'usec=60615'],\n",
       " [u'1482336831',\n",
       "  u'2016',\n",
       "  u'Dec',\n",
       "  u'21',\n",
       "  u'17:13:51',\n",
       "  u'c6601',\n",
       "  u'daemon',\n",
       "  u'info',\n",
       "  u'slurmd',\n",
       "  u'_run_prolog:',\n",
       "  u'prolog',\n",
       "  u'with',\n",
       "  u'lock',\n",
       "  u'for',\n",
       "  u'job',\n",
       "  u'387796',\n",
       "  u'ran',\n",
       "  u'for',\n",
       "  u'0',\n",
       "  u'seconds'],\n",
       " [u'1482336899',\n",
       "  u'2016',\n",
       "  u'Dec',\n",
       "  u'21',\n",
       "  u'17:14:59',\n",
       "  u'c6601',\n",
       "  u'daemon',\n",
       "  u'info',\n",
       "  u'slurmd',\n",
       "  u'launch',\n",
       "  u'task',\n",
       "  u'387797.0',\n",
       "  u'request',\n",
       "  u'from',\n",
       "  u'10946.113@10.118.68.11',\n",
       "  u'(port',\n",
       "  u'62868)']]"
      ]
     },
     "execution_count": 21,
     "metadata": {},
     "output_type": "execute_result"
    }
   ],
   "source": [
    "words = lines.map(lambda w: w.split(' '))\n",
    "words.take(5) \n",
    "# vemos que map te hace una lista de lista, lo que en algunos casos no es util"
   ]
  },
  {
   "cell_type": "markdown",
   "metadata": {},
   "source": [
    "## Transform in a Pair RDD: word -> (word, 1)"
   ]
  },
  {
   "cell_type": "code",
   "execution_count": 30,
   "metadata": {
    "jupyter": {
     "outputs_hidden": true
    }
   },
   "outputs": [
    {
     "data": {
      "text/plain": [
       "[(u'1482336831', 1),\n",
       " (u'2016', 1),\n",
       " (u'Dec', 1),\n",
       " (u'21', 1),\n",
       " (u'17:13:51', 1),\n",
       " (u'c6601', 1),\n",
       " (u'daemon', 1),\n",
       " (u'info', 1),\n",
       " (u'slurmd', 1),\n",
       " (u'launch', 1)]"
      ]
     },
     "execution_count": 30,
     "metadata": {},
     "output_type": "execute_result"
    }
   ],
   "source": [
    "counts = words.map(lambda x: (x,1)) # Le agrega el numero 1 a cada palabra\n",
    "counts.take(10)"
   ]
  },
  {
   "cell_type": "markdown",
   "metadata": {},
   "source": [
    "## Aggregate counts"
   ]
  },
  {
   "cell_type": "code",
   "execution_count": 40,
   "metadata": {
    "jupyter": {
     "outputs_hidden": true
    }
   },
   "outputs": [
    {
     "data": {
      "text/plain": [
       "[(u'', 8073),\n",
       " (u'11:59:51', 8),\n",
       " (u'3986)', 1),\n",
       " (u'11:59:55', 8),\n",
       " (u'47233)', 1),\n",
       " (u'/slurm/uid_10795/job_392998/step_0:', 1),\n",
       " (u'37092)', 1),\n",
       " (u'usec=34154', 1),\n",
       " (u'19:10:03', 1),\n",
       " (u'/slurm/uid_11953/job_416890:', 1)]"
      ]
     },
     "execution_count": 40,
     "metadata": {},
     "output_type": "execute_result"
    }
   ],
   "source": [
    "aggregated = counts.map(lambda x: x).reduceByKey(lambda x,y: x + y) # counts.map(lambda x: x) nos agarra la palabra\n",
    "#reduceByKey(lambda x,y: x + y) -> nos agarra la palabra y la clave y suma la cantidad de veces que se repite esa palabra\n",
    "\n",
    "aggregated.take(10)"
   ]
  },
  {
   "cell_type": "markdown",
   "metadata": {},
   "source": [
    "## Show the 10 most common words"
   ]
  },
  {
   "cell_type": "markdown",
   "metadata": {},
   "source": [
    "Invert the tuple contents so that the key is the number of occurrences"
   ]
  },
  {
   "cell_type": "code",
   "execution_count": 58,
   "metadata": {
    "jupyter": {
     "outputs_hidden": true
    }
   },
   "outputs": [
    {
     "data": {
      "text/plain": [
       "[(29478, u'c6601'),\n",
       " (27084, u'2017'),\n",
       " (19924, u'info'),\n",
       " (15476, u'slurmstepd'),\n",
       " (15446, u'user'),\n",
       " (12439, u'slurmd'),\n",
       " (12384, u'daemon'),\n",
       " (9285, u'job'),\n",
       " (8073, u''),\n",
       " (7911, u'err')]"
      ]
     },
     "execution_count": 58,
     "metadata": {},
     "output_type": "execute_result"
    }
   ],
   "source": [
    "result = aggregated.map(lambda (x,y): (y,x)) # cambiamos el lugar (la clave pasa a ir primero antes de la palabra)\n",
    "result.sortByKey(False).take(10) # hacemos un sort por la clave (False para que vaya de mayor a menor ) y que nos agarre 10 "
   ]
  },
  {
   "cell_type": "code",
   "execution_count": null,
   "metadata": {},
   "outputs": [],
   "source": []
  },
  {
   "cell_type": "markdown",
   "metadata": {},
   "source": [
    "Sort and take the 10 first elements:"
   ]
  },
  {
   "cell_type": "code",
   "execution_count": 57,
   "metadata": {},
   "outputs": [
    {
     "data": {
      "text/plain": [
       "[(8073, u''),\n",
       " (8, u'11:59:51'),\n",
       " (1, u'531335'),\n",
       " (1, u'750633'),\n",
       " (1, u'47233)'),\n",
       " (1, u'11:55:35'),\n",
       " (1, u'37092)'),\n",
       " (1, u'usec=34154'),\n",
       " (1, u'19:10:03'),\n",
       " (1, u'/slurm/uid_11953/job_416890:')]"
      ]
     },
     "execution_count": 57,
     "metadata": {},
     "output_type": "execute_result"
    }
   ],
   "source": []
  }
 ],
 "metadata": {
  "kernelspec": {
   "display_name": "Python 2",
   "language": "python",
   "name": "python2"
  },
  "language_info": {
   "codemirror_mode": {
    "name": "ipython",
    "version": 2
   },
   "file_extension": ".py",
   "mimetype": "text/x-python",
   "name": "python",
   "nbconvert_exporter": "python",
   "pygments_lexer": "ipython2",
   "version": "2.7.15"
  }
 },
 "nbformat": 4,
 "nbformat_minor": 4
}
