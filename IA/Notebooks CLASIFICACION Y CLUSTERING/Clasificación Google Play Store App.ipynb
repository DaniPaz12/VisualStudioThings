{
 "cells": [
  {
   "cell_type": "code",
   "execution_count": 123,
   "metadata": {},
   "outputs": [],
   "source": [
    "# Python ≥3.5 is required\n",
    "import sys\n",
    "assert sys.version_info >= (3, 5)\n",
    "\n",
    "# Is this notebook running on Colab or Kaggle?\n",
    "IS_COLAB = \"google.colab\" in sys.modules\n",
    "IS_KAGGLE = \"kaggle_secrets\" in sys.modules\n",
    "\n",
    "# Scikit-Learn ≥0.20 is required\n",
    "import sklearn\n",
    "assert sklearn.__version__ >= \"0.20\"\n",
    "\n",
    "# Common imports\n",
    "import numpy as np\n",
    "import os\n",
    "\n",
    "# to make this notebook's output stable across runs\n",
    "np.random.seed(42)\n",
    "\n",
    "# To plot pretty figures\n",
    "%matplotlib inline\n",
    "import matplotlib as mpl\n",
    "import matplotlib.pyplot as plt\n",
    "mpl.rc('axes', labelsize=14)\n",
    "mpl.rc('xtick', labelsize=12)\n",
    "mpl.rc('ytick', labelsize=12)"
   ]
  },
  {
   "cell_type": "code",
   "execution_count": 124,
   "metadata": {},
   "outputs": [],
   "source": [
    "import pandas as pd\n",
    "import seaborn as sns"
   ]
  },
  {
   "attachments": {},
   "cell_type": "markdown",
   "metadata": {},
   "source": [
    "# Leemos el Dataset"
   ]
  },
  {
   "cell_type": "code",
   "execution_count": 125,
   "metadata": {},
   "outputs": [
    {
     "data": {
      "text/plain": [
       "(10841, 13)"
      ]
     },
     "execution_count": 125,
     "metadata": {},
     "output_type": "execute_result"
    }
   ],
   "source": [
    "Apps = pd.read_csv('googleplaystore.csv')\n",
    "Apps.shape # Filas y columnas que contiene el dataset"
   ]
  },
  {
   "cell_type": "code",
   "execution_count": 126,
   "metadata": {},
   "outputs": [
    {
     "name": "stdout",
     "output_type": "stream",
     "text": [
      "<class 'pandas.core.frame.DataFrame'>\n",
      "RangeIndex: 10841 entries, 0 to 10840\n",
      "Data columns (total 13 columns):\n",
      " #   Column          Non-Null Count  Dtype  \n",
      "---  ------          --------------  -----  \n",
      " 0   App             10841 non-null  object \n",
      " 1   Category        10841 non-null  object \n",
      " 2   Rating          9367 non-null   float64\n",
      " 3   Reviews         10841 non-null  object \n",
      " 4   Size            10841 non-null  object \n",
      " 5   Installs        10841 non-null  object \n",
      " 6   Type            10840 non-null  object \n",
      " 7   Price           10841 non-null  object \n",
      " 8   Content Rating  10840 non-null  object \n",
      " 9   Genres          10841 non-null  object \n",
      " 10  Last Updated    10841 non-null  object \n",
      " 11  Current Ver     10833 non-null  object \n",
      " 12  Android Ver     10838 non-null  object \n",
      "dtypes: float64(1), object(12)\n",
      "memory usage: 1.1+ MB\n"
     ]
    }
   ],
   "source": [
    "Apps.info()"
   ]
  },
  {
   "cell_type": "code",
   "execution_count": 127,
   "metadata": {},
   "outputs": [
    {
     "data": {
      "text/plain": [
       "App                  0\n",
       "Category             0\n",
       "Rating            1474\n",
       "Reviews              0\n",
       "Size                 0\n",
       "Installs             0\n",
       "Type                 1\n",
       "Price                0\n",
       "Content Rating       1\n",
       "Genres               0\n",
       "Last Updated         0\n",
       "Current Ver          8\n",
       "Android Ver          3\n",
       "dtype: int64"
      ]
     },
     "execution_count": 127,
     "metadata": {},
     "output_type": "execute_result"
    }
   ],
   "source": [
    "Apps.isnull().sum() # Vemos la cantidad de nulos"
   ]
  },
  {
   "attachments": {},
   "cell_type": "markdown",
   "metadata": {},
   "source": [
    "### Eliminamos los nulos \n",
    " "
   ]
  },
  {
   "cell_type": "code",
   "execution_count": 128,
   "metadata": {},
   "outputs": [
    {
     "data": {
      "text/plain": [
       "App               0\n",
       "Category          0\n",
       "Rating            0\n",
       "Reviews           0\n",
       "Size              0\n",
       "Installs          0\n",
       "Type              0\n",
       "Price             0\n",
       "Content Rating    0\n",
       "Genres            0\n",
       "Last Updated      0\n",
       "Current Ver       0\n",
       "Android Ver       0\n",
       "dtype: int64"
      ]
     },
     "execution_count": 128,
     "metadata": {},
     "output_type": "execute_result"
    }
   ],
   "source": [
    "Apps.dropna(how='any', inplace=True) # Eliminamos las filas con valores faltantes \n",
    "# how(se eliminarán todas las filas que contengan al menos un valor faltante)\n",
    "# inplace=True (que haga el cambio en el propio dataset y no en una copia)\n",
    "\n",
    "Apps.isnull().sum() "
   ]
  },
  {
   "attachments": {},
   "cell_type": "markdown",
   "metadata": {},
   "source": [
    "Vemos que hemos eliminado los valores nulos "
   ]
  },
  {
   "cell_type": "code",
   "execution_count": 129,
   "metadata": {},
   "outputs": [
    {
     "data": {
      "text/plain": [
       "(9360, 13)"
      ]
     },
     "execution_count": 129,
     "metadata": {},
     "output_type": "execute_result"
    }
   ],
   "source": [
    "Apps.shape"
   ]
  },
  {
   "attachments": {},
   "cell_type": "markdown",
   "metadata": {},
   "source": [
    "Vemos que la mayoría de columnas son de tipo objeto "
   ]
  },
  {
   "cell_type": "code",
   "execution_count": 130,
   "metadata": {},
   "outputs": [
    {
     "name": "stdout",
     "output_type": "stream",
     "text": [
      "<class 'pandas.core.frame.DataFrame'>\n",
      "Int64Index: 9360 entries, 0 to 10840\n",
      "Data columns (total 13 columns):\n",
      " #   Column          Non-Null Count  Dtype  \n",
      "---  ------          --------------  -----  \n",
      " 0   App             9360 non-null   object \n",
      " 1   Category        9360 non-null   object \n",
      " 2   Rating          9360 non-null   float64\n",
      " 3   Reviews         9360 non-null   object \n",
      " 4   Size            9360 non-null   object \n",
      " 5   Installs        9360 non-null   object \n",
      " 6   Type            9360 non-null   object \n",
      " 7   Price           9360 non-null   object \n",
      " 8   Content Rating  9360 non-null   object \n",
      " 9   Genres          9360 non-null   object \n",
      " 10  Last Updated    9360 non-null   object \n",
      " 11  Current Ver     9360 non-null   object \n",
      " 12  Android Ver     9360 non-null   object \n",
      "dtypes: float64(1), object(12)\n",
      "memory usage: 1023.8+ KB\n"
     ]
    }
   ],
   "source": [
    "Apps.info()"
   ]
  },
  {
   "attachments": {},
   "cell_type": "markdown",
   "metadata": {},
   "source": [
    "Antes de codificar las columnas de tipo objeto, haremos un drop a algunas columnas que, desde nuestra perspectiva no aportan datos importantes\n"
   ]
  },
  {
   "cell_type": "code",
   "execution_count": 131,
   "metadata": {},
   "outputs": [
    {
     "name": "stdout",
     "output_type": "stream",
     "text": [
      "<class 'pandas.core.frame.DataFrame'>\n",
      "Int64Index: 9360 entries, 0 to 10840\n",
      "Data columns (total 8 columns):\n",
      " #   Column          Non-Null Count  Dtype  \n",
      "---  ------          --------------  -----  \n",
      " 0   Category        9360 non-null   object \n",
      " 1   Rating          9360 non-null   float64\n",
      " 2   Reviews         9360 non-null   object \n",
      " 3   Size            9360 non-null   object \n",
      " 4   Installs        9360 non-null   object \n",
      " 5   Type            9360 non-null   object \n",
      " 6   Content Rating  9360 non-null   object \n",
      " 7   Genres          9360 non-null   object \n",
      "dtypes: float64(1), object(7)\n",
      "memory usage: 658.1+ KB\n"
     ]
    }
   ],
   "source": [
    "Apps_c = Apps.copy()\n",
    "\n",
    "Apps_drop = Apps_c.drop(['App', 'Price', 'Last Updated', 'Current Ver', 'Android Ver'], axis=1)\n",
    "Apps_drop.info()"
   ]
  },
  {
   "attachments": {},
   "cell_type": "markdown",
   "metadata": {},
   "source": [
    "Ahora con las columnas dropeadas, codificaremos las columnas de tipo objeto"
   ]
  },
  {
   "cell_type": "code",
   "execution_count": 132,
   "metadata": {},
   "outputs": [
    {
     "data": {
      "text/html": [
       "<div>\n",
       "<style scoped>\n",
       "    .dataframe tbody tr th:only-of-type {\n",
       "        vertical-align: middle;\n",
       "    }\n",
       "\n",
       "    .dataframe tbody tr th {\n",
       "        vertical-align: top;\n",
       "    }\n",
       "\n",
       "    .dataframe thead th {\n",
       "        text-align: right;\n",
       "    }\n",
       "</style>\n",
       "<table border=\"1\" class=\"dataframe\">\n",
       "  <thead>\n",
       "    <tr style=\"text-align: right;\">\n",
       "      <th></th>\n",
       "      <th>Type</th>\n",
       "    </tr>\n",
       "  </thead>\n",
       "  <tbody>\n",
       "    <tr>\n",
       "      <th>0</th>\n",
       "      <td>Free</td>\n",
       "    </tr>\n",
       "    <tr>\n",
       "      <th>1</th>\n",
       "      <td>Free</td>\n",
       "    </tr>\n",
       "    <tr>\n",
       "      <th>2</th>\n",
       "      <td>Free</td>\n",
       "    </tr>\n",
       "    <tr>\n",
       "      <th>3</th>\n",
       "      <td>Free</td>\n",
       "    </tr>\n",
       "    <tr>\n",
       "      <th>4</th>\n",
       "      <td>Free</td>\n",
       "    </tr>\n",
       "    <tr>\n",
       "      <th>...</th>\n",
       "      <td>...</td>\n",
       "    </tr>\n",
       "    <tr>\n",
       "      <th>10834</th>\n",
       "      <td>Free</td>\n",
       "    </tr>\n",
       "    <tr>\n",
       "      <th>10836</th>\n",
       "      <td>Free</td>\n",
       "    </tr>\n",
       "    <tr>\n",
       "      <th>10837</th>\n",
       "      <td>Free</td>\n",
       "    </tr>\n",
       "    <tr>\n",
       "      <th>10839</th>\n",
       "      <td>Free</td>\n",
       "    </tr>\n",
       "    <tr>\n",
       "      <th>10840</th>\n",
       "      <td>Free</td>\n",
       "    </tr>\n",
       "  </tbody>\n",
       "</table>\n",
       "<p>9360 rows × 1 columns</p>\n",
       "</div>"
      ],
      "text/plain": [
       "       Type\n",
       "0      Free\n",
       "1      Free\n",
       "2      Free\n",
       "3      Free\n",
       "4      Free\n",
       "...     ...\n",
       "10834  Free\n",
       "10836  Free\n",
       "10837  Free\n",
       "10839  Free\n",
       "10840  Free\n",
       "\n",
       "[9360 rows x 1 columns]"
      ]
     },
     "execution_count": 132,
     "metadata": {},
     "output_type": "execute_result"
    }
   ],
   "source": [
    "Apps_type = Apps_c[ ['Type'] ]\n",
    "Apps_type"
   ]
  },
  {
   "cell_type": "code",
   "execution_count": 133,
   "metadata": {},
   "outputs": [
    {
     "data": {
      "text/html": [
       "<div>\n",
       "<style scoped>\n",
       "    .dataframe tbody tr th:only-of-type {\n",
       "        vertical-align: middle;\n",
       "    }\n",
       "\n",
       "    .dataframe tbody tr th {\n",
       "        vertical-align: top;\n",
       "    }\n",
       "\n",
       "    .dataframe thead th {\n",
       "        text-align: right;\n",
       "    }\n",
       "</style>\n",
       "<table border=\"1\" class=\"dataframe\">\n",
       "  <thead>\n",
       "    <tr style=\"text-align: right;\">\n",
       "      <th></th>\n",
       "      <th>Category</th>\n",
       "    </tr>\n",
       "  </thead>\n",
       "  <tbody>\n",
       "    <tr>\n",
       "      <th>0</th>\n",
       "      <td>ART_AND_DESIGN</td>\n",
       "    </tr>\n",
       "    <tr>\n",
       "      <th>1</th>\n",
       "      <td>ART_AND_DESIGN</td>\n",
       "    </tr>\n",
       "    <tr>\n",
       "      <th>2</th>\n",
       "      <td>ART_AND_DESIGN</td>\n",
       "    </tr>\n",
       "    <tr>\n",
       "      <th>3</th>\n",
       "      <td>ART_AND_DESIGN</td>\n",
       "    </tr>\n",
       "    <tr>\n",
       "      <th>4</th>\n",
       "      <td>ART_AND_DESIGN</td>\n",
       "    </tr>\n",
       "    <tr>\n",
       "      <th>...</th>\n",
       "      <td>...</td>\n",
       "    </tr>\n",
       "    <tr>\n",
       "      <th>10834</th>\n",
       "      <td>FAMILY</td>\n",
       "    </tr>\n",
       "    <tr>\n",
       "      <th>10836</th>\n",
       "      <td>FAMILY</td>\n",
       "    </tr>\n",
       "    <tr>\n",
       "      <th>10837</th>\n",
       "      <td>FAMILY</td>\n",
       "    </tr>\n",
       "    <tr>\n",
       "      <th>10839</th>\n",
       "      <td>BOOKS_AND_REFERENCE</td>\n",
       "    </tr>\n",
       "    <tr>\n",
       "      <th>10840</th>\n",
       "      <td>LIFESTYLE</td>\n",
       "    </tr>\n",
       "  </tbody>\n",
       "</table>\n",
       "<p>9360 rows × 1 columns</p>\n",
       "</div>"
      ],
      "text/plain": [
       "                  Category\n",
       "0           ART_AND_DESIGN\n",
       "1           ART_AND_DESIGN\n",
       "2           ART_AND_DESIGN\n",
       "3           ART_AND_DESIGN\n",
       "4           ART_AND_DESIGN\n",
       "...                    ...\n",
       "10834               FAMILY\n",
       "10836               FAMILY\n",
       "10837               FAMILY\n",
       "10839  BOOKS_AND_REFERENCE\n",
       "10840            LIFESTYLE\n",
       "\n",
       "[9360 rows x 1 columns]"
      ]
     },
     "execution_count": 133,
     "metadata": {},
     "output_type": "execute_result"
    }
   ],
   "source": [
    "Apps_category = Apps_c[ ['Category'] ]\n",
    "Apps_category"
   ]
  },
  {
   "attachments": {},
   "cell_type": "markdown",
   "metadata": {},
   "source": [
    "A la columna Type y Category si le podemos codificar con OneHotEncoder"
   ]
  },
  {
   "cell_type": "code",
   "execution_count": 134,
   "metadata": {},
   "outputs": [],
   "source": [
    "from sklearn.preprocessing import OneHotEncoder\n",
    "\n",
    "encoder = OneHotEncoder(sparse=False) # Nuestro encoder\n",
    "Apps_drop.reset_index(drop=True, inplace=True) # Al modificar nuestro dataframe puede cambiar el indice "
   ]
  },
  {
   "attachments": {},
   "cell_type": "markdown",
   "metadata": {},
   "source": [
    "Ahora tenemos que eliminar esas columnas del dataset para poder insertar las codificadas (ya que si no las dropeamos estas se duplicarían; una codificada y otra no)"
   ]
  },
  {
   "cell_type": "code",
   "execution_count": 135,
   "metadata": {},
   "outputs": [
    {
     "name": "stdout",
     "output_type": "stream",
     "text": [
      "<class 'pandas.core.frame.DataFrame'>\n",
      "RangeIndex: 9360 entries, 0 to 9359\n",
      "Data columns (total 6 columns):\n",
      " #   Column          Non-Null Count  Dtype  \n",
      "---  ------          --------------  -----  \n",
      " 0   Rating          9360 non-null   float64\n",
      " 1   Reviews         9360 non-null   object \n",
      " 2   Size            9360 non-null   object \n",
      " 3   Installs        9360 non-null   object \n",
      " 4   Content Rating  9360 non-null   object \n",
      " 5   Genres          9360 non-null   object \n",
      "dtypes: float64(1), object(5)\n",
      "memory usage: 438.9+ KB\n"
     ]
    }
   ],
   "source": [
    "Apps_drop = Apps_drop.drop(['Category', 'Type'], axis=1) # Dropeamos las columnas para que luego no se dupliquen\n",
    "Apps_drop.info()"
   ]
  },
  {
   "attachments": {},
   "cell_type": "markdown",
   "metadata": {},
   "source": [
    "Codificamos la columna de 'Type' y la agregamos al dataframe"
   ]
  },
  {
   "cell_type": "code",
   "execution_count": 136,
   "metadata": {},
   "outputs": [
    {
     "data": {
      "text/plain": [
       "array([[1., 0.],\n",
       "       [1., 0.],\n",
       "       [1., 0.],\n",
       "       ...,\n",
       "       [1., 0.],\n",
       "       [1., 0.],\n",
       "       [1., 0.]])"
      ]
     },
     "execution_count": 136,
     "metadata": {},
     "output_type": "execute_result"
    }
   ],
   "source": [
    "Apps_type_1hot = encoder.fit_transform(Apps_type) # Codificamos la columna 'type'\n",
    "Apps_type_1hot"
   ]
  },
  {
   "cell_type": "code",
   "execution_count": 137,
   "metadata": {},
   "outputs": [
    {
     "name": "stdout",
     "output_type": "stream",
     "text": [
      "<class 'pandas.core.frame.DataFrame'>\n",
      "RangeIndex: 9360 entries, 0 to 9359\n",
      "Data columns (total 8 columns):\n",
      " #   Column          Non-Null Count  Dtype  \n",
      "---  ------          --------------  -----  \n",
      " 0   Rating          9360 non-null   float64\n",
      " 1   Reviews         9360 non-null   object \n",
      " 2   Size            9360 non-null   object \n",
      " 3   Installs        9360 non-null   object \n",
      " 4   Content Rating  9360 non-null   object \n",
      " 5   Genres          9360 non-null   object \n",
      " 6   Free            9360 non-null   float64\n",
      " 7   Paid            9360 non-null   float64\n",
      "dtypes: float64(3), object(5)\n",
      "memory usage: 585.1+ KB\n"
     ]
    }
   ],
   "source": [
    "Apps_drop = Apps_drop.join(pd.DataFrame(Apps_type_1hot,columns=[cat for cat in encoder.categories_[0]])) # Unimos el dataframe de la columna 'type' codificada con el dataframe original\n",
    "Apps_drop.info()"
   ]
  },
  {
   "attachments": {},
   "cell_type": "markdown",
   "metadata": {},
   "source": [
    "- Codificamos la columna 'Category' y la unimos con el dataframe"
   ]
  },
  {
   "cell_type": "code",
   "execution_count": 138,
   "metadata": {},
   "outputs": [
    {
     "data": {
      "text/plain": [
       "array([[1., 0., 0., ..., 0., 0., 0.],\n",
       "       [1., 0., 0., ..., 0., 0., 0.],\n",
       "       [1., 0., 0., ..., 0., 0., 0.],\n",
       "       ...,\n",
       "       [0., 0., 0., ..., 0., 0., 0.],\n",
       "       [0., 0., 0., ..., 0., 0., 0.],\n",
       "       [0., 0., 0., ..., 0., 0., 0.]])"
      ]
     },
     "execution_count": 138,
     "metadata": {},
     "output_type": "execute_result"
    }
   ],
   "source": [
    "Apps_category_1hot = encoder.fit_transform(Apps_category) # Codificamos la columna 'category'\n",
    "Apps_category_1hot"
   ]
  },
  {
   "cell_type": "code",
   "execution_count": 139,
   "metadata": {},
   "outputs": [
    {
     "name": "stdout",
     "output_type": "stream",
     "text": [
      "<class 'pandas.core.frame.DataFrame'>\n",
      "RangeIndex: 9360 entries, 0 to 9359\n",
      "Data columns (total 41 columns):\n",
      " #   Column               Non-Null Count  Dtype  \n",
      "---  ------               --------------  -----  \n",
      " 0   Rating               9360 non-null   float64\n",
      " 1   Reviews              9360 non-null   object \n",
      " 2   Size                 9360 non-null   object \n",
      " 3   Installs             9360 non-null   object \n",
      " 4   Content Rating       9360 non-null   object \n",
      " 5   Genres               9360 non-null   object \n",
      " 6   Free                 9360 non-null   float64\n",
      " 7   Paid                 9360 non-null   float64\n",
      " 8   ART_AND_DESIGN       9360 non-null   float64\n",
      " 9   AUTO_AND_VEHICLES    9360 non-null   float64\n",
      " 10  BEAUTY               9360 non-null   float64\n",
      " 11  BOOKS_AND_REFERENCE  9360 non-null   float64\n",
      " 12  BUSINESS             9360 non-null   float64\n",
      " 13  COMICS               9360 non-null   float64\n",
      " 14  COMMUNICATION        9360 non-null   float64\n",
      " 15  DATING               9360 non-null   float64\n",
      " 16  EDUCATION            9360 non-null   float64\n",
      " 17  ENTERTAINMENT        9360 non-null   float64\n",
      " 18  EVENTS               9360 non-null   float64\n",
      " 19  FAMILY               9360 non-null   float64\n",
      " 20  FINANCE              9360 non-null   float64\n",
      " 21  FOOD_AND_DRINK       9360 non-null   float64\n",
      " 22  GAME                 9360 non-null   float64\n",
      " 23  HEALTH_AND_FITNESS   9360 non-null   float64\n",
      " 24  HOUSE_AND_HOME       9360 non-null   float64\n",
      " 25  LIBRARIES_AND_DEMO   9360 non-null   float64\n",
      " 26  LIFESTYLE            9360 non-null   float64\n",
      " 27  MAPS_AND_NAVIGATION  9360 non-null   float64\n",
      " 28  MEDICAL              9360 non-null   float64\n",
      " 29  NEWS_AND_MAGAZINES   9360 non-null   float64\n",
      " 30  PARENTING            9360 non-null   float64\n",
      " 31  PERSONALIZATION      9360 non-null   float64\n",
      " 32  PHOTOGRAPHY          9360 non-null   float64\n",
      " 33  PRODUCTIVITY         9360 non-null   float64\n",
      " 34  SHOPPING             9360 non-null   float64\n",
      " 35  SOCIAL               9360 non-null   float64\n",
      " 36  SPORTS               9360 non-null   float64\n",
      " 37  TOOLS                9360 non-null   float64\n",
      " 38  TRAVEL_AND_LOCAL     9360 non-null   float64\n",
      " 39  VIDEO_PLAYERS        9360 non-null   float64\n",
      " 40  WEATHER              9360 non-null   float64\n",
      "dtypes: float64(36), object(5)\n",
      "memory usage: 2.9+ MB\n"
     ]
    }
   ],
   "source": [
    "Apps_drop = Apps_drop.join(pd.DataFrame(Apps_category_1hot,columns=[cat for cat in encoder.categories_[0]])) # Unimos la columna 'category' codificada con el dataframe\n",
    "Apps_drop.info()"
   ]
  },
  {
   "attachments": {},
   "cell_type": "markdown",
   "metadata": {},
   "source": [
    "- Cambiamos el tipo de dato de la columna 'Reviews' y la unimos al dataset"
   ]
  },
  {
   "cell_type": "code",
   "execution_count": 140,
   "metadata": {},
   "outputs": [
    {
     "name": "stdout",
     "output_type": "stream",
     "text": [
      "<class 'pandas.core.frame.DataFrame'>\n",
      "RangeIndex: 9360 entries, 0 to 9359\n",
      "Data columns (total 41 columns):\n",
      " #   Column               Non-Null Count  Dtype  \n",
      "---  ------               --------------  -----  \n",
      " 0   Rating               9360 non-null   float64\n",
      " 1   Reviews              9360 non-null   float64\n",
      " 2   Size                 9360 non-null   object \n",
      " 3   Installs             9360 non-null   object \n",
      " 4   Content Rating       9360 non-null   object \n",
      " 5   Genres               9360 non-null   object \n",
      " 6   Free                 9360 non-null   float64\n",
      " 7   Paid                 9360 non-null   float64\n",
      " 8   ART_AND_DESIGN       9360 non-null   float64\n",
      " 9   AUTO_AND_VEHICLES    9360 non-null   float64\n",
      " 10  BEAUTY               9360 non-null   float64\n",
      " 11  BOOKS_AND_REFERENCE  9360 non-null   float64\n",
      " 12  BUSINESS             9360 non-null   float64\n",
      " 13  COMICS               9360 non-null   float64\n",
      " 14  COMMUNICATION        9360 non-null   float64\n",
      " 15  DATING               9360 non-null   float64\n",
      " 16  EDUCATION            9360 non-null   float64\n",
      " 17  ENTERTAINMENT        9360 non-null   float64\n",
      " 18  EVENTS               9360 non-null   float64\n",
      " 19  FAMILY               9360 non-null   float64\n",
      " 20  FINANCE              9360 non-null   float64\n",
      " 21  FOOD_AND_DRINK       9360 non-null   float64\n",
      " 22  GAME                 9360 non-null   float64\n",
      " 23  HEALTH_AND_FITNESS   9360 non-null   float64\n",
      " 24  HOUSE_AND_HOME       9360 non-null   float64\n",
      " 25  LIBRARIES_AND_DEMO   9360 non-null   float64\n",
      " 26  LIFESTYLE            9360 non-null   float64\n",
      " 27  MAPS_AND_NAVIGATION  9360 non-null   float64\n",
      " 28  MEDICAL              9360 non-null   float64\n",
      " 29  NEWS_AND_MAGAZINES   9360 non-null   float64\n",
      " 30  PARENTING            9360 non-null   float64\n",
      " 31  PERSONALIZATION      9360 non-null   float64\n",
      " 32  PHOTOGRAPHY          9360 non-null   float64\n",
      " 33  PRODUCTIVITY         9360 non-null   float64\n",
      " 34  SHOPPING             9360 non-null   float64\n",
      " 35  SOCIAL               9360 non-null   float64\n",
      " 36  SPORTS               9360 non-null   float64\n",
      " 37  TOOLS                9360 non-null   float64\n",
      " 38  TRAVEL_AND_LOCAL     9360 non-null   float64\n",
      " 39  VIDEO_PLAYERS        9360 non-null   float64\n",
      " 40  WEATHER              9360 non-null   float64\n",
      "dtypes: float64(37), object(4)\n",
      "memory usage: 2.9+ MB\n"
     ]
    }
   ],
   "source": [
    "Apps_drop['Reviews'] = Apps_drop['Reviews'].astype(float) # La columna reviews ya era números por lo que solo le cambiamos el tipo de dato con astype\n",
    "Apps_drop.info()"
   ]
  },
  {
   "attachments": {},
   "cell_type": "markdown",
   "metadata": {},
   "source": [
    "- Codificamos la columna 'Content Rating' y la unimos al dataset"
   ]
  },
  {
   "cell_type": "code",
   "execution_count": 141,
   "metadata": {},
   "outputs": [
    {
     "data": {
      "text/html": [
       "<div>\n",
       "<style scoped>\n",
       "    .dataframe tbody tr th:only-of-type {\n",
       "        vertical-align: middle;\n",
       "    }\n",
       "\n",
       "    .dataframe tbody tr th {\n",
       "        vertical-align: top;\n",
       "    }\n",
       "\n",
       "    .dataframe thead th {\n",
       "        text-align: right;\n",
       "    }\n",
       "</style>\n",
       "<table border=\"1\" class=\"dataframe\">\n",
       "  <thead>\n",
       "    <tr style=\"text-align: right;\">\n",
       "      <th></th>\n",
       "      <th>Content Rating</th>\n",
       "    </tr>\n",
       "  </thead>\n",
       "  <tbody>\n",
       "    <tr>\n",
       "      <th>0</th>\n",
       "      <td>Everyone</td>\n",
       "    </tr>\n",
       "    <tr>\n",
       "      <th>1</th>\n",
       "      <td>Everyone</td>\n",
       "    </tr>\n",
       "    <tr>\n",
       "      <th>2</th>\n",
       "      <td>Everyone</td>\n",
       "    </tr>\n",
       "    <tr>\n",
       "      <th>3</th>\n",
       "      <td>Teen</td>\n",
       "    </tr>\n",
       "    <tr>\n",
       "      <th>4</th>\n",
       "      <td>Everyone</td>\n",
       "    </tr>\n",
       "    <tr>\n",
       "      <th>...</th>\n",
       "      <td>...</td>\n",
       "    </tr>\n",
       "    <tr>\n",
       "      <th>9355</th>\n",
       "      <td>Everyone</td>\n",
       "    </tr>\n",
       "    <tr>\n",
       "      <th>9356</th>\n",
       "      <td>Everyone</td>\n",
       "    </tr>\n",
       "    <tr>\n",
       "      <th>9357</th>\n",
       "      <td>Everyone</td>\n",
       "    </tr>\n",
       "    <tr>\n",
       "      <th>9358</th>\n",
       "      <td>Mature 17+</td>\n",
       "    </tr>\n",
       "    <tr>\n",
       "      <th>9359</th>\n",
       "      <td>Everyone</td>\n",
       "    </tr>\n",
       "  </tbody>\n",
       "</table>\n",
       "<p>9360 rows × 1 columns</p>\n",
       "</div>"
      ],
      "text/plain": [
       "     Content Rating\n",
       "0          Everyone\n",
       "1          Everyone\n",
       "2          Everyone\n",
       "3              Teen\n",
       "4          Everyone\n",
       "...             ...\n",
       "9355       Everyone\n",
       "9356       Everyone\n",
       "9357       Everyone\n",
       "9358     Mature 17+\n",
       "9359       Everyone\n",
       "\n",
       "[9360 rows x 1 columns]"
      ]
     },
     "execution_count": 141,
     "metadata": {},
     "output_type": "execute_result"
    }
   ],
   "source": [
    "Apps_content = Apps_drop[ ['Content Rating'] ] # Creamos la variable con la columna 'Content Rating'\n",
    "Apps_content"
   ]
  },
  {
   "cell_type": "code",
   "execution_count": 142,
   "metadata": {},
   "outputs": [],
   "source": [
    "Apps_drop = Apps_drop.drop(['Content Rating'], axis=1) # La eliminamos de nuestro dataset "
   ]
  },
  {
   "cell_type": "code",
   "execution_count": 143,
   "metadata": {},
   "outputs": [
    {
     "data": {
      "text/html": [
       "<div>\n",
       "<style scoped>\n",
       "    .dataframe tbody tr th:only-of-type {\n",
       "        vertical-align: middle;\n",
       "    }\n",
       "\n",
       "    .dataframe tbody tr th {\n",
       "        vertical-align: top;\n",
       "    }\n",
       "\n",
       "    .dataframe thead th {\n",
       "        text-align: right;\n",
       "    }\n",
       "</style>\n",
       "<table border=\"1\" class=\"dataframe\">\n",
       "  <thead>\n",
       "    <tr style=\"text-align: right;\">\n",
       "      <th></th>\n",
       "      <th>Rating</th>\n",
       "      <th>Reviews</th>\n",
       "      <th>Size</th>\n",
       "      <th>Installs</th>\n",
       "      <th>Genres</th>\n",
       "      <th>Free</th>\n",
       "      <th>Paid</th>\n",
       "      <th>ART_AND_DESIGN</th>\n",
       "      <th>AUTO_AND_VEHICLES</th>\n",
       "      <th>BEAUTY</th>\n",
       "      <th>...</th>\n",
       "      <th>TOOLS</th>\n",
       "      <th>TRAVEL_AND_LOCAL</th>\n",
       "      <th>VIDEO_PLAYERS</th>\n",
       "      <th>WEATHER</th>\n",
       "      <th>Adults only 18+</th>\n",
       "      <th>Everyone</th>\n",
       "      <th>Everyone 10+</th>\n",
       "      <th>Mature 17+</th>\n",
       "      <th>Teen</th>\n",
       "      <th>Unrated</th>\n",
       "    </tr>\n",
       "  </thead>\n",
       "  <tbody>\n",
       "    <tr>\n",
       "      <th>0</th>\n",
       "      <td>4.1</td>\n",
       "      <td>159.0</td>\n",
       "      <td>19M</td>\n",
       "      <td>10,000+</td>\n",
       "      <td>Art &amp; Design</td>\n",
       "      <td>1.0</td>\n",
       "      <td>0.0</td>\n",
       "      <td>1.0</td>\n",
       "      <td>0.0</td>\n",
       "      <td>0.0</td>\n",
       "      <td>...</td>\n",
       "      <td>0.0</td>\n",
       "      <td>0.0</td>\n",
       "      <td>0.0</td>\n",
       "      <td>0.0</td>\n",
       "      <td>0.0</td>\n",
       "      <td>1.0</td>\n",
       "      <td>0.0</td>\n",
       "      <td>0.0</td>\n",
       "      <td>0.0</td>\n",
       "      <td>0.0</td>\n",
       "    </tr>\n",
       "    <tr>\n",
       "      <th>1</th>\n",
       "      <td>3.9</td>\n",
       "      <td>967.0</td>\n",
       "      <td>14M</td>\n",
       "      <td>500,000+</td>\n",
       "      <td>Art &amp; Design;Pretend Play</td>\n",
       "      <td>1.0</td>\n",
       "      <td>0.0</td>\n",
       "      <td>1.0</td>\n",
       "      <td>0.0</td>\n",
       "      <td>0.0</td>\n",
       "      <td>...</td>\n",
       "      <td>0.0</td>\n",
       "      <td>0.0</td>\n",
       "      <td>0.0</td>\n",
       "      <td>0.0</td>\n",
       "      <td>0.0</td>\n",
       "      <td>1.0</td>\n",
       "      <td>0.0</td>\n",
       "      <td>0.0</td>\n",
       "      <td>0.0</td>\n",
       "      <td>0.0</td>\n",
       "    </tr>\n",
       "    <tr>\n",
       "      <th>2</th>\n",
       "      <td>4.7</td>\n",
       "      <td>87510.0</td>\n",
       "      <td>8.7M</td>\n",
       "      <td>5,000,000+</td>\n",
       "      <td>Art &amp; Design</td>\n",
       "      <td>1.0</td>\n",
       "      <td>0.0</td>\n",
       "      <td>1.0</td>\n",
       "      <td>0.0</td>\n",
       "      <td>0.0</td>\n",
       "      <td>...</td>\n",
       "      <td>0.0</td>\n",
       "      <td>0.0</td>\n",
       "      <td>0.0</td>\n",
       "      <td>0.0</td>\n",
       "      <td>0.0</td>\n",
       "      <td>1.0</td>\n",
       "      <td>0.0</td>\n",
       "      <td>0.0</td>\n",
       "      <td>0.0</td>\n",
       "      <td>0.0</td>\n",
       "    </tr>\n",
       "    <tr>\n",
       "      <th>3</th>\n",
       "      <td>4.5</td>\n",
       "      <td>215644.0</td>\n",
       "      <td>25M</td>\n",
       "      <td>50,000,000+</td>\n",
       "      <td>Art &amp; Design</td>\n",
       "      <td>1.0</td>\n",
       "      <td>0.0</td>\n",
       "      <td>1.0</td>\n",
       "      <td>0.0</td>\n",
       "      <td>0.0</td>\n",
       "      <td>...</td>\n",
       "      <td>0.0</td>\n",
       "      <td>0.0</td>\n",
       "      <td>0.0</td>\n",
       "      <td>0.0</td>\n",
       "      <td>0.0</td>\n",
       "      <td>0.0</td>\n",
       "      <td>0.0</td>\n",
       "      <td>0.0</td>\n",
       "      <td>1.0</td>\n",
       "      <td>0.0</td>\n",
       "    </tr>\n",
       "    <tr>\n",
       "      <th>4</th>\n",
       "      <td>4.3</td>\n",
       "      <td>967.0</td>\n",
       "      <td>2.8M</td>\n",
       "      <td>100,000+</td>\n",
       "      <td>Art &amp; Design;Creativity</td>\n",
       "      <td>1.0</td>\n",
       "      <td>0.0</td>\n",
       "      <td>1.0</td>\n",
       "      <td>0.0</td>\n",
       "      <td>0.0</td>\n",
       "      <td>...</td>\n",
       "      <td>0.0</td>\n",
       "      <td>0.0</td>\n",
       "      <td>0.0</td>\n",
       "      <td>0.0</td>\n",
       "      <td>0.0</td>\n",
       "      <td>1.0</td>\n",
       "      <td>0.0</td>\n",
       "      <td>0.0</td>\n",
       "      <td>0.0</td>\n",
       "      <td>0.0</td>\n",
       "    </tr>\n",
       "    <tr>\n",
       "      <th>...</th>\n",
       "      <td>...</td>\n",
       "      <td>...</td>\n",
       "      <td>...</td>\n",
       "      <td>...</td>\n",
       "      <td>...</td>\n",
       "      <td>...</td>\n",
       "      <td>...</td>\n",
       "      <td>...</td>\n",
       "      <td>...</td>\n",
       "      <td>...</td>\n",
       "      <td>...</td>\n",
       "      <td>...</td>\n",
       "      <td>...</td>\n",
       "      <td>...</td>\n",
       "      <td>...</td>\n",
       "      <td>...</td>\n",
       "      <td>...</td>\n",
       "      <td>...</td>\n",
       "      <td>...</td>\n",
       "      <td>...</td>\n",
       "      <td>...</td>\n",
       "    </tr>\n",
       "    <tr>\n",
       "      <th>9355</th>\n",
       "      <td>4.0</td>\n",
       "      <td>7.0</td>\n",
       "      <td>2.6M</td>\n",
       "      <td>500+</td>\n",
       "      <td>Education</td>\n",
       "      <td>1.0</td>\n",
       "      <td>0.0</td>\n",
       "      <td>0.0</td>\n",
       "      <td>0.0</td>\n",
       "      <td>0.0</td>\n",
       "      <td>...</td>\n",
       "      <td>0.0</td>\n",
       "      <td>0.0</td>\n",
       "      <td>0.0</td>\n",
       "      <td>0.0</td>\n",
       "      <td>0.0</td>\n",
       "      <td>1.0</td>\n",
       "      <td>0.0</td>\n",
       "      <td>0.0</td>\n",
       "      <td>0.0</td>\n",
       "      <td>0.0</td>\n",
       "    </tr>\n",
       "    <tr>\n",
       "      <th>9356</th>\n",
       "      <td>4.5</td>\n",
       "      <td>38.0</td>\n",
       "      <td>53M</td>\n",
       "      <td>5,000+</td>\n",
       "      <td>Education</td>\n",
       "      <td>1.0</td>\n",
       "      <td>0.0</td>\n",
       "      <td>0.0</td>\n",
       "      <td>0.0</td>\n",
       "      <td>0.0</td>\n",
       "      <td>...</td>\n",
       "      <td>0.0</td>\n",
       "      <td>0.0</td>\n",
       "      <td>0.0</td>\n",
       "      <td>0.0</td>\n",
       "      <td>0.0</td>\n",
       "      <td>1.0</td>\n",
       "      <td>0.0</td>\n",
       "      <td>0.0</td>\n",
       "      <td>0.0</td>\n",
       "      <td>0.0</td>\n",
       "    </tr>\n",
       "    <tr>\n",
       "      <th>9357</th>\n",
       "      <td>5.0</td>\n",
       "      <td>4.0</td>\n",
       "      <td>3.6M</td>\n",
       "      <td>100+</td>\n",
       "      <td>Education</td>\n",
       "      <td>1.0</td>\n",
       "      <td>0.0</td>\n",
       "      <td>0.0</td>\n",
       "      <td>0.0</td>\n",
       "      <td>0.0</td>\n",
       "      <td>...</td>\n",
       "      <td>0.0</td>\n",
       "      <td>0.0</td>\n",
       "      <td>0.0</td>\n",
       "      <td>0.0</td>\n",
       "      <td>0.0</td>\n",
       "      <td>1.0</td>\n",
       "      <td>0.0</td>\n",
       "      <td>0.0</td>\n",
       "      <td>0.0</td>\n",
       "      <td>0.0</td>\n",
       "    </tr>\n",
       "    <tr>\n",
       "      <th>9358</th>\n",
       "      <td>4.5</td>\n",
       "      <td>114.0</td>\n",
       "      <td>Varies with device</td>\n",
       "      <td>1,000+</td>\n",
       "      <td>Books &amp; Reference</td>\n",
       "      <td>1.0</td>\n",
       "      <td>0.0</td>\n",
       "      <td>0.0</td>\n",
       "      <td>0.0</td>\n",
       "      <td>0.0</td>\n",
       "      <td>...</td>\n",
       "      <td>0.0</td>\n",
       "      <td>0.0</td>\n",
       "      <td>0.0</td>\n",
       "      <td>0.0</td>\n",
       "      <td>0.0</td>\n",
       "      <td>0.0</td>\n",
       "      <td>0.0</td>\n",
       "      <td>1.0</td>\n",
       "      <td>0.0</td>\n",
       "      <td>0.0</td>\n",
       "    </tr>\n",
       "    <tr>\n",
       "      <th>9359</th>\n",
       "      <td>4.5</td>\n",
       "      <td>398307.0</td>\n",
       "      <td>19M</td>\n",
       "      <td>10,000,000+</td>\n",
       "      <td>Lifestyle</td>\n",
       "      <td>1.0</td>\n",
       "      <td>0.0</td>\n",
       "      <td>0.0</td>\n",
       "      <td>0.0</td>\n",
       "      <td>0.0</td>\n",
       "      <td>...</td>\n",
       "      <td>0.0</td>\n",
       "      <td>0.0</td>\n",
       "      <td>0.0</td>\n",
       "      <td>0.0</td>\n",
       "      <td>0.0</td>\n",
       "      <td>1.0</td>\n",
       "      <td>0.0</td>\n",
       "      <td>0.0</td>\n",
       "      <td>0.0</td>\n",
       "      <td>0.0</td>\n",
       "    </tr>\n",
       "  </tbody>\n",
       "</table>\n",
       "<p>9360 rows × 46 columns</p>\n",
       "</div>"
      ],
      "text/plain": [
       "      Rating   Reviews                Size     Installs  \\\n",
       "0        4.1     159.0                 19M      10,000+   \n",
       "1        3.9     967.0                 14M     500,000+   \n",
       "2        4.7   87510.0                8.7M   5,000,000+   \n",
       "3        4.5  215644.0                 25M  50,000,000+   \n",
       "4        4.3     967.0                2.8M     100,000+   \n",
       "...      ...       ...                 ...          ...   \n",
       "9355     4.0       7.0                2.6M         500+   \n",
       "9356     4.5      38.0                 53M       5,000+   \n",
       "9357     5.0       4.0                3.6M         100+   \n",
       "9358     4.5     114.0  Varies with device       1,000+   \n",
       "9359     4.5  398307.0                 19M  10,000,000+   \n",
       "\n",
       "                         Genres  Free  Paid  ART_AND_DESIGN  \\\n",
       "0                  Art & Design   1.0   0.0             1.0   \n",
       "1     Art & Design;Pretend Play   1.0   0.0             1.0   \n",
       "2                  Art & Design   1.0   0.0             1.0   \n",
       "3                  Art & Design   1.0   0.0             1.0   \n",
       "4       Art & Design;Creativity   1.0   0.0             1.0   \n",
       "...                         ...   ...   ...             ...   \n",
       "9355                  Education   1.0   0.0             0.0   \n",
       "9356                  Education   1.0   0.0             0.0   \n",
       "9357                  Education   1.0   0.0             0.0   \n",
       "9358          Books & Reference   1.0   0.0             0.0   \n",
       "9359                  Lifestyle   1.0   0.0             0.0   \n",
       "\n",
       "      AUTO_AND_VEHICLES  BEAUTY  ...  TOOLS  TRAVEL_AND_LOCAL  VIDEO_PLAYERS  \\\n",
       "0                   0.0     0.0  ...    0.0               0.0            0.0   \n",
       "1                   0.0     0.0  ...    0.0               0.0            0.0   \n",
       "2                   0.0     0.0  ...    0.0               0.0            0.0   \n",
       "3                   0.0     0.0  ...    0.0               0.0            0.0   \n",
       "4                   0.0     0.0  ...    0.0               0.0            0.0   \n",
       "...                 ...     ...  ...    ...               ...            ...   \n",
       "9355                0.0     0.0  ...    0.0               0.0            0.0   \n",
       "9356                0.0     0.0  ...    0.0               0.0            0.0   \n",
       "9357                0.0     0.0  ...    0.0               0.0            0.0   \n",
       "9358                0.0     0.0  ...    0.0               0.0            0.0   \n",
       "9359                0.0     0.0  ...    0.0               0.0            0.0   \n",
       "\n",
       "      WEATHER  Adults only 18+  Everyone  Everyone 10+  Mature 17+  Teen  \\\n",
       "0         0.0              0.0       1.0           0.0         0.0   0.0   \n",
       "1         0.0              0.0       1.0           0.0         0.0   0.0   \n",
       "2         0.0              0.0       1.0           0.0         0.0   0.0   \n",
       "3         0.0              0.0       0.0           0.0         0.0   1.0   \n",
       "4         0.0              0.0       1.0           0.0         0.0   0.0   \n",
       "...       ...              ...       ...           ...         ...   ...   \n",
       "9355      0.0              0.0       1.0           0.0         0.0   0.0   \n",
       "9356      0.0              0.0       1.0           0.0         0.0   0.0   \n",
       "9357      0.0              0.0       1.0           0.0         0.0   0.0   \n",
       "9358      0.0              0.0       0.0           0.0         1.0   0.0   \n",
       "9359      0.0              0.0       1.0           0.0         0.0   0.0   \n",
       "\n",
       "      Unrated  \n",
       "0         0.0  \n",
       "1         0.0  \n",
       "2         0.0  \n",
       "3         0.0  \n",
       "4         0.0  \n",
       "...       ...  \n",
       "9355      0.0  \n",
       "9356      0.0  \n",
       "9357      0.0  \n",
       "9358      0.0  \n",
       "9359      0.0  \n",
       "\n",
       "[9360 rows x 46 columns]"
      ]
     },
     "execution_count": 143,
     "metadata": {},
     "output_type": "execute_result"
    }
   ],
   "source": [
    "Apps_content_1hot = encoder.fit_transform(Apps_content)\n",
    "\n",
    "Apps_drop.reset_index(drop=True, inplace=True) # Permite cambiar el indice actual por un nuevo indice para evitar errores al unir el dataframe (Drop= True permite cambiar el indice; inplace=True el dataframe original se modifica, no se crea una copia)\n",
    "\n",
    "Apps_drop = Apps_drop.join(pd.DataFrame(Apps_content_1hot,columns=[cat for cat in encoder.categories_[0]]))\n",
    "Apps_drop\n",
    "\n"
   ]
  },
  {
   "attachments": {},
   "cell_type": "markdown",
   "metadata": {},
   "source": [
    "- Codificamos la columna 'Genres' y la unimos al dataframe"
   ]
  },
  {
   "cell_type": "code",
   "execution_count": 144,
   "metadata": {},
   "outputs": [
    {
     "data": {
      "text/plain": [
       "array(['Art & Design', 'Art & Design;Pretend Play',\n",
       "       'Art & Design;Creativity', 'Auto & Vehicles', 'Beauty',\n",
       "       'Books & Reference', 'Business', 'Comics', 'Comics;Creativity',\n",
       "       'Communication', 'Dating', 'Education;Education', 'Education',\n",
       "       'Education;Creativity', 'Education;Music & Video',\n",
       "       'Education;Action & Adventure', 'Education;Pretend Play',\n",
       "       'Education;Brain Games', 'Entertainment',\n",
       "       'Entertainment;Music & Video', 'Entertainment;Brain Games',\n",
       "       'Entertainment;Creativity', 'Events', 'Finance', 'Food & Drink',\n",
       "       'Health & Fitness', 'House & Home', 'Libraries & Demo',\n",
       "       'Lifestyle', 'Lifestyle;Pretend Play',\n",
       "       'Adventure;Action & Adventure', 'Arcade', 'Casual', 'Card',\n",
       "       'Casual;Pretend Play', 'Action', 'Strategy', 'Puzzle', 'Sports',\n",
       "       'Music', 'Word', 'Racing', 'Casual;Creativity',\n",
       "       'Casual;Action & Adventure', 'Simulation', 'Adventure', 'Board',\n",
       "       'Trivia', 'Role Playing', 'Simulation;Education',\n",
       "       'Action;Action & Adventure', 'Casual;Brain Games',\n",
       "       'Simulation;Action & Adventure', 'Educational;Creativity',\n",
       "       'Puzzle;Brain Games', 'Educational;Education', 'Card;Brain Games',\n",
       "       'Educational;Brain Games', 'Educational;Pretend Play',\n",
       "       'Entertainment;Education', 'Casual;Education',\n",
       "       'Music;Music & Video', 'Racing;Action & Adventure',\n",
       "       'Arcade;Pretend Play', 'Role Playing;Action & Adventure',\n",
       "       'Simulation;Pretend Play', 'Puzzle;Creativity',\n",
       "       'Sports;Action & Adventure', 'Educational;Action & Adventure',\n",
       "       'Arcade;Action & Adventure', 'Entertainment;Action & Adventure',\n",
       "       'Puzzle;Action & Adventure', 'Strategy;Action & Adventure',\n",
       "       'Music & Audio;Music & Video', 'Health & Fitness;Education',\n",
       "       'Adventure;Education', 'Board;Brain Games',\n",
       "       'Board;Action & Adventure', 'Board;Pretend Play',\n",
       "       'Casual;Music & Video', 'Role Playing;Pretend Play',\n",
       "       'Entertainment;Pretend Play', 'Video Players & Editors;Creativity',\n",
       "       'Card;Action & Adventure', 'Medical', 'Social', 'Shopping',\n",
       "       'Photography', 'Travel & Local',\n",
       "       'Travel & Local;Action & Adventure', 'Tools', 'Tools;Education',\n",
       "       'Personalization', 'Productivity', 'Parenting',\n",
       "       'Parenting;Music & Video', 'Parenting;Brain Games',\n",
       "       'Parenting;Education', 'Weather', 'Video Players & Editors',\n",
       "       'Video Players & Editors;Music & Video', 'News & Magazines',\n",
       "       'Maps & Navigation', 'Health & Fitness;Action & Adventure',\n",
       "       'Educational', 'Casino', 'Adventure;Brain Games',\n",
       "       'Lifestyle;Education', 'Books & Reference;Education',\n",
       "       'Puzzle;Education', 'Role Playing;Brain Games',\n",
       "       'Strategy;Education', 'Racing;Pretend Play',\n",
       "       'Communication;Creativity', 'Strategy;Creativity'], dtype=object)"
      ]
     },
     "execution_count": 144,
     "metadata": {},
     "output_type": "execute_result"
    }
   ],
   "source": [
    "Apps_drop['Genres'].unique()"
   ]
  },
  {
   "cell_type": "code",
   "execution_count": 145,
   "metadata": {},
   "outputs": [
    {
     "data": {
      "text/html": [
       "<div>\n",
       "<style scoped>\n",
       "    .dataframe tbody tr th:only-of-type {\n",
       "        vertical-align: middle;\n",
       "    }\n",
       "\n",
       "    .dataframe tbody tr th {\n",
       "        vertical-align: top;\n",
       "    }\n",
       "\n",
       "    .dataframe thead th {\n",
       "        text-align: right;\n",
       "    }\n",
       "</style>\n",
       "<table border=\"1\" class=\"dataframe\">\n",
       "  <thead>\n",
       "    <tr style=\"text-align: right;\">\n",
       "      <th></th>\n",
       "      <th>Genres</th>\n",
       "    </tr>\n",
       "  </thead>\n",
       "  <tbody>\n",
       "    <tr>\n",
       "      <th>0</th>\n",
       "      <td>Art &amp; Design</td>\n",
       "    </tr>\n",
       "    <tr>\n",
       "      <th>1</th>\n",
       "      <td>Art &amp; Design;Pretend Play</td>\n",
       "    </tr>\n",
       "    <tr>\n",
       "      <th>2</th>\n",
       "      <td>Art &amp; Design</td>\n",
       "    </tr>\n",
       "    <tr>\n",
       "      <th>3</th>\n",
       "      <td>Art &amp; Design</td>\n",
       "    </tr>\n",
       "    <tr>\n",
       "      <th>4</th>\n",
       "      <td>Art &amp; Design;Creativity</td>\n",
       "    </tr>\n",
       "    <tr>\n",
       "      <th>...</th>\n",
       "      <td>...</td>\n",
       "    </tr>\n",
       "    <tr>\n",
       "      <th>9355</th>\n",
       "      <td>Education</td>\n",
       "    </tr>\n",
       "    <tr>\n",
       "      <th>9356</th>\n",
       "      <td>Education</td>\n",
       "    </tr>\n",
       "    <tr>\n",
       "      <th>9357</th>\n",
       "      <td>Education</td>\n",
       "    </tr>\n",
       "    <tr>\n",
       "      <th>9358</th>\n",
       "      <td>Books &amp; Reference</td>\n",
       "    </tr>\n",
       "    <tr>\n",
       "      <th>9359</th>\n",
       "      <td>Lifestyle</td>\n",
       "    </tr>\n",
       "  </tbody>\n",
       "</table>\n",
       "<p>9360 rows × 1 columns</p>\n",
       "</div>"
      ],
      "text/plain": [
       "                         Genres\n",
       "0                  Art & Design\n",
       "1     Art & Design;Pretend Play\n",
       "2                  Art & Design\n",
       "3                  Art & Design\n",
       "4       Art & Design;Creativity\n",
       "...                         ...\n",
       "9355                  Education\n",
       "9356                  Education\n",
       "9357                  Education\n",
       "9358          Books & Reference\n",
       "9359                  Lifestyle\n",
       "\n",
       "[9360 rows x 1 columns]"
      ]
     },
     "execution_count": 145,
     "metadata": {},
     "output_type": "execute_result"
    }
   ],
   "source": [
    "Apps_genres = Apps_drop[ ['Genres'] ]\n",
    "Apps_genres"
   ]
  },
  {
   "cell_type": "code",
   "execution_count": 146,
   "metadata": {},
   "outputs": [],
   "source": [
    "Apps_drop = Apps_drop.drop(['Genres'], axis=1) # La eliminamos de nuestro dataset "
   ]
  },
  {
   "cell_type": "code",
   "execution_count": 147,
   "metadata": {},
   "outputs": [
    {
     "data": {
      "text/plain": [
       "array([[0., 0., 0., ..., 0., 0., 0.],\n",
       "       [0., 0., 0., ..., 0., 0., 0.],\n",
       "       [0., 0., 0., ..., 0., 0., 0.],\n",
       "       ...,\n",
       "       [0., 0., 0., ..., 0., 0., 0.],\n",
       "       [0., 0., 0., ..., 0., 0., 0.],\n",
       "       [0., 0., 0., ..., 0., 0., 0.]])"
      ]
     },
     "execution_count": 147,
     "metadata": {},
     "output_type": "execute_result"
    }
   ],
   "source": [
    "Apps_genres_1hot = encoder.fit_transform(Apps_genres) # Codificamos la columna 'Genres' \n",
    "Apps_genres_1hot"
   ]
  },
  {
   "cell_type": "code",
   "execution_count": 148,
   "metadata": {},
   "outputs": [
    {
     "data": {
      "text/html": [
       "<div>\n",
       "<style scoped>\n",
       "    .dataframe tbody tr th:only-of-type {\n",
       "        vertical-align: middle;\n",
       "    }\n",
       "\n",
       "    .dataframe tbody tr th {\n",
       "        vertical-align: top;\n",
       "    }\n",
       "\n",
       "    .dataframe thead th {\n",
       "        text-align: right;\n",
       "    }\n",
       "</style>\n",
       "<table border=\"1\" class=\"dataframe\">\n",
       "  <thead>\n",
       "    <tr style=\"text-align: right;\">\n",
       "      <th></th>\n",
       "      <th>Rating</th>\n",
       "      <th>Reviews</th>\n",
       "      <th>Size</th>\n",
       "      <th>Installs</th>\n",
       "      <th>Free</th>\n",
       "      <th>Paid</th>\n",
       "      <th>ART_AND_DESIGN</th>\n",
       "      <th>AUTO_AND_VEHICLES</th>\n",
       "      <th>BEAUTY</th>\n",
       "      <th>BOOKS_AND_REFERENCE</th>\n",
       "      <th>...</th>\n",
       "      <th>Tools</th>\n",
       "      <th>Tools;Education</th>\n",
       "      <th>Travel &amp; Local</th>\n",
       "      <th>Travel &amp; Local;Action &amp; Adventure</th>\n",
       "      <th>Trivia</th>\n",
       "      <th>Video Players &amp; Editors</th>\n",
       "      <th>Video Players &amp; Editors;Creativity</th>\n",
       "      <th>Video Players &amp; Editors;Music &amp; Video</th>\n",
       "      <th>Weather</th>\n",
       "      <th>Word</th>\n",
       "    </tr>\n",
       "  </thead>\n",
       "  <tbody>\n",
       "    <tr>\n",
       "      <th>0</th>\n",
       "      <td>4.1</td>\n",
       "      <td>159.0</td>\n",
       "      <td>19M</td>\n",
       "      <td>10,000+</td>\n",
       "      <td>1.0</td>\n",
       "      <td>0.0</td>\n",
       "      <td>1.0</td>\n",
       "      <td>0.0</td>\n",
       "      <td>0.0</td>\n",
       "      <td>0.0</td>\n",
       "      <td>...</td>\n",
       "      <td>0.0</td>\n",
       "      <td>0.0</td>\n",
       "      <td>0.0</td>\n",
       "      <td>0.0</td>\n",
       "      <td>0.0</td>\n",
       "      <td>0.0</td>\n",
       "      <td>0.0</td>\n",
       "      <td>0.0</td>\n",
       "      <td>0.0</td>\n",
       "      <td>0.0</td>\n",
       "    </tr>\n",
       "    <tr>\n",
       "      <th>1</th>\n",
       "      <td>3.9</td>\n",
       "      <td>967.0</td>\n",
       "      <td>14M</td>\n",
       "      <td>500,000+</td>\n",
       "      <td>1.0</td>\n",
       "      <td>0.0</td>\n",
       "      <td>1.0</td>\n",
       "      <td>0.0</td>\n",
       "      <td>0.0</td>\n",
       "      <td>0.0</td>\n",
       "      <td>...</td>\n",
       "      <td>0.0</td>\n",
       "      <td>0.0</td>\n",
       "      <td>0.0</td>\n",
       "      <td>0.0</td>\n",
       "      <td>0.0</td>\n",
       "      <td>0.0</td>\n",
       "      <td>0.0</td>\n",
       "      <td>0.0</td>\n",
       "      <td>0.0</td>\n",
       "      <td>0.0</td>\n",
       "    </tr>\n",
       "    <tr>\n",
       "      <th>2</th>\n",
       "      <td>4.7</td>\n",
       "      <td>87510.0</td>\n",
       "      <td>8.7M</td>\n",
       "      <td>5,000,000+</td>\n",
       "      <td>1.0</td>\n",
       "      <td>0.0</td>\n",
       "      <td>1.0</td>\n",
       "      <td>0.0</td>\n",
       "      <td>0.0</td>\n",
       "      <td>0.0</td>\n",
       "      <td>...</td>\n",
       "      <td>0.0</td>\n",
       "      <td>0.0</td>\n",
       "      <td>0.0</td>\n",
       "      <td>0.0</td>\n",
       "      <td>0.0</td>\n",
       "      <td>0.0</td>\n",
       "      <td>0.0</td>\n",
       "      <td>0.0</td>\n",
       "      <td>0.0</td>\n",
       "      <td>0.0</td>\n",
       "    </tr>\n",
       "    <tr>\n",
       "      <th>3</th>\n",
       "      <td>4.5</td>\n",
       "      <td>215644.0</td>\n",
       "      <td>25M</td>\n",
       "      <td>50,000,000+</td>\n",
       "      <td>1.0</td>\n",
       "      <td>0.0</td>\n",
       "      <td>1.0</td>\n",
       "      <td>0.0</td>\n",
       "      <td>0.0</td>\n",
       "      <td>0.0</td>\n",
       "      <td>...</td>\n",
       "      <td>0.0</td>\n",
       "      <td>0.0</td>\n",
       "      <td>0.0</td>\n",
       "      <td>0.0</td>\n",
       "      <td>0.0</td>\n",
       "      <td>0.0</td>\n",
       "      <td>0.0</td>\n",
       "      <td>0.0</td>\n",
       "      <td>0.0</td>\n",
       "      <td>0.0</td>\n",
       "    </tr>\n",
       "    <tr>\n",
       "      <th>4</th>\n",
       "      <td>4.3</td>\n",
       "      <td>967.0</td>\n",
       "      <td>2.8M</td>\n",
       "      <td>100,000+</td>\n",
       "      <td>1.0</td>\n",
       "      <td>0.0</td>\n",
       "      <td>1.0</td>\n",
       "      <td>0.0</td>\n",
       "      <td>0.0</td>\n",
       "      <td>0.0</td>\n",
       "      <td>...</td>\n",
       "      <td>0.0</td>\n",
       "      <td>0.0</td>\n",
       "      <td>0.0</td>\n",
       "      <td>0.0</td>\n",
       "      <td>0.0</td>\n",
       "      <td>0.0</td>\n",
       "      <td>0.0</td>\n",
       "      <td>0.0</td>\n",
       "      <td>0.0</td>\n",
       "      <td>0.0</td>\n",
       "    </tr>\n",
       "    <tr>\n",
       "      <th>...</th>\n",
       "      <td>...</td>\n",
       "      <td>...</td>\n",
       "      <td>...</td>\n",
       "      <td>...</td>\n",
       "      <td>...</td>\n",
       "      <td>...</td>\n",
       "      <td>...</td>\n",
       "      <td>...</td>\n",
       "      <td>...</td>\n",
       "      <td>...</td>\n",
       "      <td>...</td>\n",
       "      <td>...</td>\n",
       "      <td>...</td>\n",
       "      <td>...</td>\n",
       "      <td>...</td>\n",
       "      <td>...</td>\n",
       "      <td>...</td>\n",
       "      <td>...</td>\n",
       "      <td>...</td>\n",
       "      <td>...</td>\n",
       "      <td>...</td>\n",
       "    </tr>\n",
       "    <tr>\n",
       "      <th>9355</th>\n",
       "      <td>4.0</td>\n",
       "      <td>7.0</td>\n",
       "      <td>2.6M</td>\n",
       "      <td>500+</td>\n",
       "      <td>1.0</td>\n",
       "      <td>0.0</td>\n",
       "      <td>0.0</td>\n",
       "      <td>0.0</td>\n",
       "      <td>0.0</td>\n",
       "      <td>0.0</td>\n",
       "      <td>...</td>\n",
       "      <td>0.0</td>\n",
       "      <td>0.0</td>\n",
       "      <td>0.0</td>\n",
       "      <td>0.0</td>\n",
       "      <td>0.0</td>\n",
       "      <td>0.0</td>\n",
       "      <td>0.0</td>\n",
       "      <td>0.0</td>\n",
       "      <td>0.0</td>\n",
       "      <td>0.0</td>\n",
       "    </tr>\n",
       "    <tr>\n",
       "      <th>9356</th>\n",
       "      <td>4.5</td>\n",
       "      <td>38.0</td>\n",
       "      <td>53M</td>\n",
       "      <td>5,000+</td>\n",
       "      <td>1.0</td>\n",
       "      <td>0.0</td>\n",
       "      <td>0.0</td>\n",
       "      <td>0.0</td>\n",
       "      <td>0.0</td>\n",
       "      <td>0.0</td>\n",
       "      <td>...</td>\n",
       "      <td>0.0</td>\n",
       "      <td>0.0</td>\n",
       "      <td>0.0</td>\n",
       "      <td>0.0</td>\n",
       "      <td>0.0</td>\n",
       "      <td>0.0</td>\n",
       "      <td>0.0</td>\n",
       "      <td>0.0</td>\n",
       "      <td>0.0</td>\n",
       "      <td>0.0</td>\n",
       "    </tr>\n",
       "    <tr>\n",
       "      <th>9357</th>\n",
       "      <td>5.0</td>\n",
       "      <td>4.0</td>\n",
       "      <td>3.6M</td>\n",
       "      <td>100+</td>\n",
       "      <td>1.0</td>\n",
       "      <td>0.0</td>\n",
       "      <td>0.0</td>\n",
       "      <td>0.0</td>\n",
       "      <td>0.0</td>\n",
       "      <td>0.0</td>\n",
       "      <td>...</td>\n",
       "      <td>0.0</td>\n",
       "      <td>0.0</td>\n",
       "      <td>0.0</td>\n",
       "      <td>0.0</td>\n",
       "      <td>0.0</td>\n",
       "      <td>0.0</td>\n",
       "      <td>0.0</td>\n",
       "      <td>0.0</td>\n",
       "      <td>0.0</td>\n",
       "      <td>0.0</td>\n",
       "    </tr>\n",
       "    <tr>\n",
       "      <th>9358</th>\n",
       "      <td>4.5</td>\n",
       "      <td>114.0</td>\n",
       "      <td>Varies with device</td>\n",
       "      <td>1,000+</td>\n",
       "      <td>1.0</td>\n",
       "      <td>0.0</td>\n",
       "      <td>0.0</td>\n",
       "      <td>0.0</td>\n",
       "      <td>0.0</td>\n",
       "      <td>1.0</td>\n",
       "      <td>...</td>\n",
       "      <td>0.0</td>\n",
       "      <td>0.0</td>\n",
       "      <td>0.0</td>\n",
       "      <td>0.0</td>\n",
       "      <td>0.0</td>\n",
       "      <td>0.0</td>\n",
       "      <td>0.0</td>\n",
       "      <td>0.0</td>\n",
       "      <td>0.0</td>\n",
       "      <td>0.0</td>\n",
       "    </tr>\n",
       "    <tr>\n",
       "      <th>9359</th>\n",
       "      <td>4.5</td>\n",
       "      <td>398307.0</td>\n",
       "      <td>19M</td>\n",
       "      <td>10,000,000+</td>\n",
       "      <td>1.0</td>\n",
       "      <td>0.0</td>\n",
       "      <td>0.0</td>\n",
       "      <td>0.0</td>\n",
       "      <td>0.0</td>\n",
       "      <td>0.0</td>\n",
       "      <td>...</td>\n",
       "      <td>0.0</td>\n",
       "      <td>0.0</td>\n",
       "      <td>0.0</td>\n",
       "      <td>0.0</td>\n",
       "      <td>0.0</td>\n",
       "      <td>0.0</td>\n",
       "      <td>0.0</td>\n",
       "      <td>0.0</td>\n",
       "      <td>0.0</td>\n",
       "      <td>0.0</td>\n",
       "    </tr>\n",
       "  </tbody>\n",
       "</table>\n",
       "<p>9360 rows × 160 columns</p>\n",
       "</div>"
      ],
      "text/plain": [
       "      Rating   Reviews                Size     Installs  Free  Paid  \\\n",
       "0        4.1     159.0                 19M      10,000+   1.0   0.0   \n",
       "1        3.9     967.0                 14M     500,000+   1.0   0.0   \n",
       "2        4.7   87510.0                8.7M   5,000,000+   1.0   0.0   \n",
       "3        4.5  215644.0                 25M  50,000,000+   1.0   0.0   \n",
       "4        4.3     967.0                2.8M     100,000+   1.0   0.0   \n",
       "...      ...       ...                 ...          ...   ...   ...   \n",
       "9355     4.0       7.0                2.6M         500+   1.0   0.0   \n",
       "9356     4.5      38.0                 53M       5,000+   1.0   0.0   \n",
       "9357     5.0       4.0                3.6M         100+   1.0   0.0   \n",
       "9358     4.5     114.0  Varies with device       1,000+   1.0   0.0   \n",
       "9359     4.5  398307.0                 19M  10,000,000+   1.0   0.0   \n",
       "\n",
       "      ART_AND_DESIGN  AUTO_AND_VEHICLES  BEAUTY  BOOKS_AND_REFERENCE  ...  \\\n",
       "0                1.0                0.0     0.0                  0.0  ...   \n",
       "1                1.0                0.0     0.0                  0.0  ...   \n",
       "2                1.0                0.0     0.0                  0.0  ...   \n",
       "3                1.0                0.0     0.0                  0.0  ...   \n",
       "4                1.0                0.0     0.0                  0.0  ...   \n",
       "...              ...                ...     ...                  ...  ...   \n",
       "9355             0.0                0.0     0.0                  0.0  ...   \n",
       "9356             0.0                0.0     0.0                  0.0  ...   \n",
       "9357             0.0                0.0     0.0                  0.0  ...   \n",
       "9358             0.0                0.0     0.0                  1.0  ...   \n",
       "9359             0.0                0.0     0.0                  0.0  ...   \n",
       "\n",
       "      Tools  Tools;Education  Travel & Local  \\\n",
       "0       0.0              0.0             0.0   \n",
       "1       0.0              0.0             0.0   \n",
       "2       0.0              0.0             0.0   \n",
       "3       0.0              0.0             0.0   \n",
       "4       0.0              0.0             0.0   \n",
       "...     ...              ...             ...   \n",
       "9355    0.0              0.0             0.0   \n",
       "9356    0.0              0.0             0.0   \n",
       "9357    0.0              0.0             0.0   \n",
       "9358    0.0              0.0             0.0   \n",
       "9359    0.0              0.0             0.0   \n",
       "\n",
       "      Travel & Local;Action & Adventure  Trivia  Video Players & Editors  \\\n",
       "0                                   0.0     0.0                      0.0   \n",
       "1                                   0.0     0.0                      0.0   \n",
       "2                                   0.0     0.0                      0.0   \n",
       "3                                   0.0     0.0                      0.0   \n",
       "4                                   0.0     0.0                      0.0   \n",
       "...                                 ...     ...                      ...   \n",
       "9355                                0.0     0.0                      0.0   \n",
       "9356                                0.0     0.0                      0.0   \n",
       "9357                                0.0     0.0                      0.0   \n",
       "9358                                0.0     0.0                      0.0   \n",
       "9359                                0.0     0.0                      0.0   \n",
       "\n",
       "      Video Players & Editors;Creativity  \\\n",
       "0                                    0.0   \n",
       "1                                    0.0   \n",
       "2                                    0.0   \n",
       "3                                    0.0   \n",
       "4                                    0.0   \n",
       "...                                  ...   \n",
       "9355                                 0.0   \n",
       "9356                                 0.0   \n",
       "9357                                 0.0   \n",
       "9358                                 0.0   \n",
       "9359                                 0.0   \n",
       "\n",
       "      Video Players & Editors;Music & Video  Weather  Word  \n",
       "0                                       0.0      0.0   0.0  \n",
       "1                                       0.0      0.0   0.0  \n",
       "2                                       0.0      0.0   0.0  \n",
       "3                                       0.0      0.0   0.0  \n",
       "4                                       0.0      0.0   0.0  \n",
       "...                                     ...      ...   ...  \n",
       "9355                                    0.0      0.0   0.0  \n",
       "9356                                    0.0      0.0   0.0  \n",
       "9357                                    0.0      0.0   0.0  \n",
       "9358                                    0.0      0.0   0.0  \n",
       "9359                                    0.0      0.0   0.0  \n",
       "\n",
       "[9360 rows x 160 columns]"
      ]
     },
     "execution_count": 148,
     "metadata": {},
     "output_type": "execute_result"
    }
   ],
   "source": [
    "Apps_drop = Apps_drop.join(pd.DataFrame(Apps_genres_1hot,columns=[cat for cat in encoder.categories_[0]])) # Unimos el dataframe con la columna codificada a el dataframe original\n",
    "Apps_drop"
   ]
  },
  {
   "attachments": {},
   "cell_type": "markdown",
   "metadata": {},
   "source": [
    "- Codificamos la columna 'Installs' y la unimos al dataframe"
   ]
  },
  {
   "cell_type": "code",
   "execution_count": 149,
   "metadata": {},
   "outputs": [
    {
     "data": {
      "text/plain": [
       "0        10,000+\n",
       "1       500,000+\n",
       "2     5,000,000+\n",
       "3    50,000,000+\n",
       "4       100,000+\n",
       "5        50,000+\n",
       "6        50,000+\n",
       "7     1,000,000+\n",
       "8     1,000,000+\n",
       "9        10,000+\n",
       "Name: Installs, dtype: object"
      ]
     },
     "execution_count": 149,
     "metadata": {},
     "output_type": "execute_result"
    }
   ],
   "source": [
    "Apps_drop.Installs.head(10) # Vemos las 10 primeras lineas de la columna "
   ]
  },
  {
   "cell_type": "code",
   "execution_count": 150,
   "metadata": {},
   "outputs": [
    {
     "data": {
      "text/plain": [
       "array(['10,000+', '500,000+', '5,000,000+', '50,000,000+', '100,000+',\n",
       "       '50,000+', '1,000,000+', '10,000,000+', '5,000+', '100,000,000+',\n",
       "       '1,000,000,000+', '1,000+', '500,000,000+', '100+', '500+', '10+',\n",
       "       '5+', '50+', '1+'], dtype=object)"
      ]
     },
     "execution_count": 150,
     "metadata": {},
     "output_type": "execute_result"
    }
   ],
   "source": [
    "Apps_drop.Installs.unique() # Vemos los valores únicos de esta columna"
   ]
  },
  {
   "cell_type": "code",
   "execution_count": 151,
   "metadata": {},
   "outputs": [
    {
     "name": "stdout",
     "output_type": "stream",
     "text": [
      "0          10000\n",
      "1         500000\n",
      "2        5000000\n",
      "3       50000000\n",
      "4         100000\n",
      "          ...   \n",
      "9355         500\n",
      "9356        5000\n",
      "9357         100\n",
      "9358        1000\n",
      "9359    10000000\n",
      "Name: Installs, Length: 9360, dtype: int64\n"
     ]
    }
   ],
   "source": [
    "# Reemplazamos el símbolo '+' por algo vacío y la ',' igual\n",
    "\n",
    "Apps_drop.Installs = Apps_drop.Installs.apply(lambda x: x.replace('+', '').replace(',', '') ) # Remmplazamos el símbolo '+' por un espacio\n",
    "\n",
    "# Convertimos los datos que son str por int \n",
    "\n",
    "Apps_drop.Installs = Apps_drop.Installs.apply(lambda x: int(x)) # Cada elemento de la columna (x) se cambia el dato a int\n",
    "print(Apps_drop.Installs)"
   ]
  },
  {
   "cell_type": "code",
   "execution_count": 152,
   "metadata": {},
   "outputs": [
    {
     "name": "stdout",
     "output_type": "stream",
     "text": [
      "<class 'pandas.core.frame.DataFrame'>\n",
      "RangeIndex: 9360 entries, 0 to 9359\n",
      "Columns: 160 entries, Rating to Word\n",
      "dtypes: float64(158), int64(1), object(1)\n",
      "memory usage: 11.4+ MB\n"
     ]
    }
   ],
   "source": [
    "# Apps_drop.reset_index(drop=False, inplace=True)\n",
    "\n",
    "Apps_drop.info()"
   ]
  },
  {
   "attachments": {},
   "cell_type": "markdown",
   "metadata": {},
   "source": [
    "- Columna Size\n"
   ]
  },
  {
   "cell_type": "code",
   "execution_count": 153,
   "metadata": {},
   "outputs": [
    {
     "data": {
      "text/plain": [
       "Varies with device    1637\n",
       "14M                    165\n",
       "12M                    161\n",
       "15M                    159\n",
       "11M                    159\n",
       "                      ... \n",
       "383k                     1\n",
       "454k                     1\n",
       "812k                     1\n",
       "442k                     1\n",
       "619k                     1\n",
       "Name: Size, Length: 413, dtype: int64"
      ]
     },
     "execution_count": 153,
     "metadata": {},
     "output_type": "execute_result"
    }
   ],
   "source": [
    "Apps_drop['Size'].value_counts()"
   ]
  },
  {
   "cell_type": "code",
   "execution_count": 154,
   "metadata": {},
   "outputs": [
    {
     "data": {
      "text/plain": [
       "array(['19M', '14M', '8.7M', '25M', '2.8M', '5.6M', '29M', '33M', '3.1M',\n",
       "       '28M', '12M', '20M', '21M', '37M', '5.5M', '17M', '39M', '31M',\n",
       "       '4.2M', '23M', '6.0M', '6.1M', '4.6M', '9.2M', '5.2M', '11M',\n",
       "       '24M', 'Varies with device', '9.4M', '15M', '10M', '1.2M', '26M',\n",
       "       '8.0M', '7.9M', '56M', '57M', '35M', '54M', '201k', '3.6M', '5.7M',\n",
       "       '8.6M', '2.4M', '27M', '2.7M', '2.5M', '7.0M', '16M', '3.4M',\n",
       "       '8.9M', '3.9M', '2.9M', '38M', '32M', '5.4M', '18M', '1.1M',\n",
       "       '2.2M', '4.5M', '9.8M', '52M', '9.0M', '6.7M', '30M', '2.6M',\n",
       "       '7.1M', '22M', '6.4M', '3.2M', '8.2M', '4.9M', '9.5M', '5.0M',\n",
       "       '5.9M', '13M', '73M', '6.8M', '3.5M', '4.0M', '2.3M', '2.1M',\n",
       "       '42M', '9.1M', '55M', '23k', '7.3M', '6.5M', '1.5M', '7.5M', '51M',\n",
       "       '41M', '48M', '8.5M', '46M', '8.3M', '4.3M', '4.7M', '3.3M', '40M',\n",
       "       '7.8M', '8.8M', '6.6M', '5.1M', '61M', '66M', '79k', '8.4M',\n",
       "       '3.7M', '118k', '44M', '695k', '1.6M', '6.2M', '53M', '1.4M',\n",
       "       '3.0M', '7.2M', '5.8M', '3.8M', '9.6M', '45M', '63M', '49M', '77M',\n",
       "       '4.4M', '70M', '9.3M', '8.1M', '36M', '6.9M', '7.4M', '84M', '97M',\n",
       "       '2.0M', '1.9M', '1.8M', '5.3M', '47M', '556k', '526k', '76M',\n",
       "       '7.6M', '59M', '9.7M', '78M', '72M', '43M', '7.7M', '6.3M', '334k',\n",
       "       '93M', '65M', '79M', '100M', '58M', '50M', '68M', '64M', '34M',\n",
       "       '67M', '60M', '94M', '9.9M', '232k', '99M', '624k', '95M', '8.5k',\n",
       "       '41k', '292k', '80M', '1.7M', '10.0M', '74M', '62M', '69M', '75M',\n",
       "       '98M', '85M', '82M', '96M', '87M', '71M', '86M', '91M', '81M',\n",
       "       '92M', '83M', '88M', '704k', '862k', '899k', '378k', '4.8M',\n",
       "       '266k', '375k', '1.3M', '975k', '980k', '4.1M', '89M', '696k',\n",
       "       '544k', '525k', '920k', '779k', '853k', '720k', '713k', '772k',\n",
       "       '318k', '58k', '241k', '196k', '857k', '51k', '953k', '865k',\n",
       "       '251k', '930k', '540k', '313k', '746k', '203k', '26k', '314k',\n",
       "       '239k', '371k', '220k', '730k', '756k', '91k', '293k', '17k',\n",
       "       '74k', '14k', '317k', '78k', '924k', '818k', '81k', '939k', '169k',\n",
       "       '45k', '965k', '90M', '545k', '61k', '283k', '655k', '714k', '93k',\n",
       "       '872k', '121k', '322k', '976k', '206k', '954k', '444k', '717k',\n",
       "       '210k', '609k', '308k', '306k', '175k', '350k', '383k', '454k',\n",
       "       '1.0M', '70k', '812k', '442k', '842k', '417k', '412k', '459k',\n",
       "       '478k', '335k', '782k', '721k', '430k', '429k', '192k', '460k',\n",
       "       '728k', '496k', '816k', '414k', '506k', '887k', '613k', '778k',\n",
       "       '683k', '592k', '186k', '840k', '647k', '373k', '437k', '598k',\n",
       "       '716k', '585k', '982k', '219k', '55k', '323k', '691k', '511k',\n",
       "       '951k', '963k', '25k', '554k', '351k', '27k', '82k', '208k',\n",
       "       '551k', '29k', '103k', '116k', '153k', '209k', '499k', '173k',\n",
       "       '597k', '809k', '122k', '411k', '400k', '801k', '787k', '50k',\n",
       "       '643k', '986k', '516k', '837k', '780k', '20k', '498k', '600k',\n",
       "       '656k', '221k', '228k', '176k', '34k', '259k', '164k', '458k',\n",
       "       '629k', '28k', '288k', '775k', '785k', '636k', '916k', '994k',\n",
       "       '309k', '485k', '914k', '903k', '608k', '500k', '54k', '562k',\n",
       "       '847k', '948k', '811k', '270k', '48k', '523k', '784k', '280k',\n",
       "       '24k', '892k', '154k', '18k', '33k', '860k', '364k', '387k',\n",
       "       '626k', '161k', '879k', '39k', '170k', '141k', '160k', '144k',\n",
       "       '143k', '190k', '376k', '193k', '473k', '246k', '73k', '253k',\n",
       "       '957k', '420k', '72k', '404k', '470k', '226k', '240k', '89k',\n",
       "       '234k', '257k', '861k', '467k', '676k', '552k', '582k', '619k'],\n",
       "      dtype=object)"
      ]
     },
     "execution_count": 154,
     "metadata": {},
     "output_type": "execute_result"
    }
   ],
   "source": [
    "Apps_drop['Size'].unique()"
   ]
  },
  {
   "attachments": {},
   "cell_type": "markdown",
   "metadata": {},
   "source": [
    "Vemos que los datos estan en Megabyte y kilobyte, los replazamos por sus 0 correspondidos"
   ]
  },
  {
   "cell_type": "code",
   "execution_count": 155,
   "metadata": {},
   "outputs": [],
   "source": [
    "Apps_drop['Size'] = Apps_drop['Size'].replace(\"M\", \"000\",regex=True)\n",
    "Apps_drop['Size'] = Apps_drop['Size'].replace(\"k\", \"\",regex=True)\n",
    "Apps_drop['Size'] = Apps_drop['Size'].replace(\"\\+\", \"\",regex=True)\n",
    "Apps_drop['Size'] = Apps_drop['Size'].replace(\",\", \"\",regex=True)\n",
    "Apps_drop['Size'] = Apps_drop['Size'].replace(\"Varies with device\", np.nan,regex=True) # Cambiamos \"Varies with device\" por un nulo\n",
    "\n",
    "\n",
    "Apps_drop['Size'] = Apps_drop['Size'].astype(float)"
   ]
  },
  {
   "attachments": {},
   "cell_type": "markdown",
   "metadata": {},
   "source": [
    "Como cambiamos \"Varies with device\" por nulos ahora llenamos esos nulos con la media de la columna"
   ]
  },
  {
   "cell_type": "code",
   "execution_count": 156,
   "metadata": {},
   "outputs": [],
   "source": [
    "# calcula la media de la columna\n",
    "mean = Apps_drop['Size'].mean()\n",
    "\n",
    "# completa los valores nulos con la media\n",
    "Apps_drop['Size'] = Apps_drop['Size'].fillna(mean)"
   ]
  },
  {
   "cell_type": "code",
   "execution_count": 157,
   "metadata": {},
   "outputs": [],
   "source": [
    "# Creamos una variable con la columna Rating (ya que es la unica con valores numéricos) para luego unirla con las otras columnas codificadas\n",
    "Apps_all = Apps_c[ ['Rating'] ]"
   ]
  },
  {
   "attachments": {},
   "cell_type": "markdown",
   "metadata": {},
   "source": [
    "Aplicamos el codificador "
   ]
  },
  {
   "cell_type": "code",
   "execution_count": 158,
   "metadata": {},
   "outputs": [],
   "source": [
    "from sklearn.preprocessing import OneHotEncoder\n",
    "\n",
    "encoder = OneHotEncoder(sparse=False)\n",
    "Apps_drop.reset_index(drop=True, inplace=True) # Al modificar nuestro dataframe puede cambiar el indice "
   ]
  },
  {
   "attachments": {},
   "cell_type": "markdown",
   "metadata": {},
   "source": [
    "### Algunas visualizaciones "
   ]
  },
  {
   "attachments": {},
   "cell_type": "markdown",
   "metadata": {},
   "source": [
    "### Rating"
   ]
  },
  {
   "cell_type": "code",
   "execution_count": 159,
   "metadata": {},
   "outputs": [
    {
     "data": {
      "image/png": "[encoded data removed]",
      "text/plain": [
       "<Figure size 1000x800 with 1 Axes>"
      ]
     },
     "metadata": {},
     "output_type": "display_data"
    }
   ],
   "source": [
    "Apps['Rating'].hist(bins=50, figsize=(10,8))\n",
    "plt.show()"
   ]
  },
  {
   "cell_type": "code",
   "execution_count": 160,
   "metadata": {},
   "outputs": [
    {
     "data": {
      "text/plain": [
       "Text(0.5, 1.0, 'Distribución del Rating')"
      ]
     },
     "execution_count": 160,
     "metadata": {},
     "output_type": "execute_result"
    },
    {
     "data": {
      "image/png": "[encoded data removed]",
      "text/plain": [
       "<Figure size 1170x827 with 1 Axes>"
      ]
     },
     "metadata": {},
     "output_type": "display_data"
    }
   ],
   "source": [
    "from pylab import rcParams\n",
    "\n",
    "rcParams['figure.figsize'] = 11.7,8.27\n",
    "g = sns.kdeplot(Apps.Rating, color=\"Green\", shade = True)\n",
    "g.set_xlabel(\"Rating de la app\")\n",
    "g.set_ylabel(\"Frecuencia\")\n",
    "plt.title('Distribución del Rating',size = 20)"
   ]
  },
  {
   "attachments": {},
   "cell_type": "markdown",
   "metadata": {},
   "source": [
    "### Category"
   ]
  },
  {
   "cell_type": "code",
   "execution_count": 161,
   "metadata": {},
   "outputs": [
    {
     "name": "stdout",
     "output_type": "stream",
     "text": [
      "33 categories\n",
      "\n",
      " ['ART_AND_DESIGN' 'AUTO_AND_VEHICLES' 'BEAUTY' 'BOOKS_AND_REFERENCE'\n",
      " 'BUSINESS' 'COMICS' 'COMMUNICATION' 'DATING' 'EDUCATION' 'ENTERTAINMENT'\n",
      " 'EVENTS' 'FINANCE' 'FOOD_AND_DRINK' 'HEALTH_AND_FITNESS' 'HOUSE_AND_HOME'\n",
      " 'LIBRARIES_AND_DEMO' 'LIFESTYLE' 'GAME' 'FAMILY' 'MEDICAL' 'SOCIAL'\n",
      " 'SHOPPING' 'PHOTOGRAPHY' 'SPORTS' 'TRAVEL_AND_LOCAL' 'TOOLS'\n",
      " 'PERSONALIZATION' 'PRODUCTIVITY' 'PARENTING' 'WEATHER' 'VIDEO_PLAYERS'\n",
      " 'NEWS_AND_MAGAZINES' 'MAPS_AND_NAVIGATION']\n"
     ]
    }
   ],
   "source": [
    "print( len(Apps['Category'].unique()) , \"categories\") # Nos muestra las diferentes categorías que hay; 'unique' hace que las muestre pero sin repetidos\n",
    "\n",
    "print(\"\\n\", Apps['Category'].unique()) # Imprimimos cuales son esas 33 categorias; usamos '\\n' para que nos imprima una línea vacía antes de mostrar las categorías"
   ]
  },
  {
   "cell_type": "code",
   "execution_count": 162,
   "metadata": {},
   "outputs": [
    {
     "data": {
      "text/plain": [
       "Text(0.5, 1.0, 'Cuenta de las aplicaciones por categorías')"
      ]
     },
     "execution_count": 162,
     "metadata": {},
     "output_type": "execute_result"
    },
    {
     "data": {
      "image/png": "[encoded data removed]",
      "text/plain": [
       "<Figure size 1170x827 with 1 Axes>"
      ]
     },
     "metadata": {},
     "output_type": "display_data"
    }
   ],
   "source": [
    "graph = sns.countplot(x=\"Category\",data=Apps, palette = \"dark\") # papalette = \"dark\", asignamos una paleta de colores\n",
    "graph.set_xticklabels(graph.get_xticklabels(), rotation=90, ha=\"right\")\n",
    "graph \n",
    "plt.title('Cuenta de las aplicaciones por categorías',size = 20)"
   ]
  },
  {
   "attachments": {},
   "cell_type": "markdown",
   "metadata": {},
   "source": [
    "### Reviews"
   ]
  },
  {
   "cell_type": "code",
   "execution_count": 163,
   "metadata": {},
   "outputs": [
    {
     "data": {
      "text/plain": [
       "Text(0.5, 1.0, 'Distribution of Reveiw')"
      ]
     },
     "execution_count": 163,
     "metadata": {},
     "output_type": "execute_result"
    },
    {
     "data": {
      "image/png": "[encoded data removed]",
      "text/plain": [
       "<Figure size 1170x827 with 1 Axes>"
      ]
     },
     "metadata": {},
     "output_type": "display_data"
    }
   ],
   "source": [
    "rcParams['figure.figsize'] = 11.7,8.27\n",
    "g = sns.kdeplot(Apps_drop.Reviews, color=\"Green\", shade = True)\n",
    "g.set_xlabel(\"Reviews\")\n",
    "g.set_ylabel(\"Frequency\")\n",
    "plt.title('Distribution of Reveiw',size = 20)"
   ]
  },
  {
   "cell_type": "code",
   "execution_count": 164,
   "metadata": {},
   "outputs": [
    {
     "data": {
      "text/html": [
       "<div>\n",
       "<style scoped>\n",
       "    .dataframe tbody tr th:only-of-type {\n",
       "        vertical-align: middle;\n",
       "    }\n",
       "\n",
       "    .dataframe tbody tr th {\n",
       "        vertical-align: top;\n",
       "    }\n",
       "\n",
       "    .dataframe thead th {\n",
       "        text-align: right;\n",
       "    }\n",
       "</style>\n",
       "<table border=\"1\" class=\"dataframe\">\n",
       "  <thead>\n",
       "    <tr style=\"text-align: right;\">\n",
       "      <th></th>\n",
       "      <th>Rating</th>\n",
       "      <th>Reviews</th>\n",
       "      <th>Size</th>\n",
       "      <th>Installs</th>\n",
       "      <th>Free</th>\n",
       "      <th>Paid</th>\n",
       "      <th>ART_AND_DESIGN</th>\n",
       "      <th>AUTO_AND_VEHICLES</th>\n",
       "      <th>BEAUTY</th>\n",
       "      <th>BOOKS_AND_REFERENCE</th>\n",
       "      <th>...</th>\n",
       "      <th>Tools</th>\n",
       "      <th>Tools;Education</th>\n",
       "      <th>Travel &amp; Local</th>\n",
       "      <th>Travel &amp; Local;Action &amp; Adventure</th>\n",
       "      <th>Trivia</th>\n",
       "      <th>Video Players &amp; Editors</th>\n",
       "      <th>Video Players &amp; Editors;Creativity</th>\n",
       "      <th>Video Players &amp; Editors;Music &amp; Video</th>\n",
       "      <th>Weather</th>\n",
       "      <th>Word</th>\n",
       "    </tr>\n",
       "  </thead>\n",
       "  <tbody>\n",
       "    <tr>\n",
       "      <th>322</th>\n",
       "      <td>4.0</td>\n",
       "      <td>56642847.0</td>\n",
       "      <td>21104.397061</td>\n",
       "      <td>1000000000</td>\n",
       "      <td>1.0</td>\n",
       "      <td>0.0</td>\n",
       "      <td>0.0</td>\n",
       "      <td>0.0</td>\n",
       "      <td>0.0</td>\n",
       "      <td>0.0</td>\n",
       "      <td>...</td>\n",
       "      <td>0.0</td>\n",
       "      <td>0.0</td>\n",
       "      <td>0.0</td>\n",
       "      <td>0.0</td>\n",
       "      <td>0.0</td>\n",
       "      <td>0.0</td>\n",
       "      <td>0.0</td>\n",
       "      <td>0.0</td>\n",
       "      <td>0.0</td>\n",
       "      <td>0.0</td>\n",
       "    </tr>\n",
       "    <tr>\n",
       "      <th>323</th>\n",
       "      <td>4.4</td>\n",
       "      <td>69119316.0</td>\n",
       "      <td>21104.397061</td>\n",
       "      <td>1000000000</td>\n",
       "      <td>1.0</td>\n",
       "      <td>0.0</td>\n",
       "      <td>0.0</td>\n",
       "      <td>0.0</td>\n",
       "      <td>0.0</td>\n",
       "      <td>0.0</td>\n",
       "      <td>...</td>\n",
       "      <td>0.0</td>\n",
       "      <td>0.0</td>\n",
       "      <td>0.0</td>\n",
       "      <td>0.0</td>\n",
       "      <td>0.0</td>\n",
       "      <td>0.0</td>\n",
       "      <td>0.0</td>\n",
       "      <td>0.0</td>\n",
       "      <td>0.0</td>\n",
       "      <td>0.0</td>\n",
       "    </tr>\n",
       "    <tr>\n",
       "      <th>325</th>\n",
       "      <td>4.3</td>\n",
       "      <td>9642995.0</td>\n",
       "      <td>21104.397061</td>\n",
       "      <td>1000000000</td>\n",
       "      <td>1.0</td>\n",
       "      <td>0.0</td>\n",
       "      <td>0.0</td>\n",
       "      <td>0.0</td>\n",
       "      <td>0.0</td>\n",
       "      <td>0.0</td>\n",
       "      <td>...</td>\n",
       "      <td>0.0</td>\n",
       "      <td>0.0</td>\n",
       "      <td>0.0</td>\n",
       "      <td>0.0</td>\n",
       "      <td>0.0</td>\n",
       "      <td>0.0</td>\n",
       "      <td>0.0</td>\n",
       "      <td>0.0</td>\n",
       "      <td>0.0</td>\n",
       "      <td>0.0</td>\n",
       "    </tr>\n",
       "    <tr>\n",
       "      <th>329</th>\n",
       "      <td>4.3</td>\n",
       "      <td>11334799.0</td>\n",
       "      <td>21104.397061</td>\n",
       "      <td>500000000</td>\n",
       "      <td>1.0</td>\n",
       "      <td>0.0</td>\n",
       "      <td>0.0</td>\n",
       "      <td>0.0</td>\n",
       "      <td>0.0</td>\n",
       "      <td>0.0</td>\n",
       "      <td>...</td>\n",
       "      <td>0.0</td>\n",
       "      <td>0.0</td>\n",
       "      <td>0.0</td>\n",
       "      <td>0.0</td>\n",
       "      <td>0.0</td>\n",
       "      <td>0.0</td>\n",
       "      <td>0.0</td>\n",
       "      <td>0.0</td>\n",
       "      <td>0.0</td>\n",
       "      <td>0.0</td>\n",
       "    </tr>\n",
       "    <tr>\n",
       "      <th>338</th>\n",
       "      <td>4.5</td>\n",
       "      <td>5149854.0</td>\n",
       "      <td>21104.397061</td>\n",
       "      <td>100000000</td>\n",
       "      <td>1.0</td>\n",
       "      <td>0.0</td>\n",
       "      <td>0.0</td>\n",
       "      <td>0.0</td>\n",
       "      <td>0.0</td>\n",
       "      <td>0.0</td>\n",
       "      <td>...</td>\n",
       "      <td>0.0</td>\n",
       "      <td>0.0</td>\n",
       "      <td>0.0</td>\n",
       "      <td>0.0</td>\n",
       "      <td>0.0</td>\n",
       "      <td>0.0</td>\n",
       "      <td>0.0</td>\n",
       "      <td>0.0</td>\n",
       "      <td>0.0</td>\n",
       "      <td>0.0</td>\n",
       "    </tr>\n",
       "  </tbody>\n",
       "</table>\n",
       "<p>5 rows × 160 columns</p>\n",
       "</div>"
      ],
      "text/plain": [
       "     Rating     Reviews          Size    Installs  Free  Paid  ART_AND_DESIGN  \\\n",
       "322     4.0  56642847.0  21104.397061  1000000000   1.0   0.0             0.0   \n",
       "323     4.4  69119316.0  21104.397061  1000000000   1.0   0.0             0.0   \n",
       "325     4.3   9642995.0  21104.397061  1000000000   1.0   0.0             0.0   \n",
       "329     4.3  11334799.0  21104.397061   500000000   1.0   0.0             0.0   \n",
       "338     4.5   5149854.0  21104.397061   100000000   1.0   0.0             0.0   \n",
       "\n",
       "     AUTO_AND_VEHICLES  BEAUTY  BOOKS_AND_REFERENCE  ...  Tools  \\\n",
       "322                0.0     0.0                  0.0  ...    0.0   \n",
       "323                0.0     0.0                  0.0  ...    0.0   \n",
       "325                0.0     0.0                  0.0  ...    0.0   \n",
       "329                0.0     0.0                  0.0  ...    0.0   \n",
       "338                0.0     0.0                  0.0  ...    0.0   \n",
       "\n",
       "     Tools;Education  Travel & Local  Travel & Local;Action & Adventure  \\\n",
       "322              0.0             0.0                                0.0   \n",
       "323              0.0             0.0                                0.0   \n",
       "325              0.0             0.0                                0.0   \n",
       "329              0.0             0.0                                0.0   \n",
       "338              0.0             0.0                                0.0   \n",
       "\n",
       "     Trivia  Video Players & Editors  Video Players & Editors;Creativity  \\\n",
       "322     0.0                      0.0                                 0.0   \n",
       "323     0.0                      0.0                                 0.0   \n",
       "325     0.0                      0.0                                 0.0   \n",
       "329     0.0                      0.0                                 0.0   \n",
       "338     0.0                      0.0                                 0.0   \n",
       "\n",
       "     Video Players & Editors;Music & Video  Weather  Word  \n",
       "322                                    0.0      0.0   0.0  \n",
       "323                                    0.0      0.0   0.0  \n",
       "325                                    0.0      0.0   0.0  \n",
       "329                                    0.0      0.0   0.0  \n",
       "338                                    0.0      0.0   0.0  \n",
       "\n",
       "[5 rows x 160 columns]"
      ]
     },
     "execution_count": 164,
     "metadata": {},
     "output_type": "execute_result"
    }
   ],
   "source": [
    "Apps_drop[Apps_drop.Reviews > 5000000].head()"
   ]
  },
  {
   "cell_type": "code",
   "execution_count": 165,
   "metadata": {},
   "outputs": [
    {
     "name": "stderr",
     "output_type": "stream",
     "text": [
      "c:\\Users\\Daniel Paz\\anaconda3\\lib\\site-packages\\seaborn\\axisgrid.py:2182: UserWarning: The `size` parameter has been renamed to `height`; please update your code.\n",
      "  warnings.warn(msg, UserWarning)\n"
     ]
    },
    {
     "data": {
      "text/plain": [
       "<Figure size 1000x1000 with 0 Axes>"
      ]
     },
     "metadata": {},
     "output_type": "display_data"
    },
    {
     "data": {
      "image/png": "[encoded data removed]",
      "text/plain": [
       "<Figure size 800x800 with 3 Axes>"
      ]
     },
     "metadata": {},
     "output_type": "display_data"
    }
   ],
   "source": [
    "plt.figure(figsize = (10,10))\n",
    "g = sns.jointplot(x=\"Reviews\", y=\"Rating\",color = 'orange', data=Apps_drop,size = 8);"
   ]
  },
  {
   "attachments": {},
   "cell_type": "markdown",
   "metadata": {},
   "source": [
    "Podemos observar que a mayor 'Rating' tenga la aplicación van a tener más 'Reviews'"
   ]
  },
  {
   "attachments": {},
   "cell_type": "markdown",
   "metadata": {},
   "source": [
    "## Size"
   ]
  },
  {
   "attachments": {},
   "cell_type": "markdown",
   "metadata": {},
   "source": [
    "Comparativa entre Reting y size"
   ]
  },
  {
   "cell_type": "code",
   "execution_count": 166,
   "metadata": {},
   "outputs": [
    {
     "name": "stderr",
     "output_type": "stream",
     "text": [
      "c:\\Users\\Daniel Paz\\anaconda3\\lib\\site-packages\\seaborn\\axisgrid.py:2182: UserWarning: The `size` parameter has been renamed to `height`; please update your code.\n",
      "  warnings.warn(msg, UserWarning)\n"
     ]
    },
    {
     "data": {
      "text/plain": [
       "<Figure size 1000x1000 with 0 Axes>"
      ]
     },
     "metadata": {},
     "output_type": "display_data"
    },
    {
     "data": {
      "image/png": "[encoded data removed]",
      "text/plain": [
       "<Figure size 800x800 with 3 Axes>"
      ]
     },
     "metadata": {},
     "output_type": "display_data"
    }
   ],
   "source": [
    "plt.figure(figsize = (10,10))\n",
    "g = sns.jointplot(x=\"Size\", y=\"Rating\",color = 'orangered', data=Apps_drop, size = 8);"
   ]
  },
  {
   "attachments": {},
   "cell_type": "markdown",
   "metadata": {},
   "source": [
    "## Installs"
   ]
  },
  {
   "cell_type": "code",
   "execution_count": 167,
   "metadata": {},
   "outputs": [
    {
     "data": {
      "text/plain": [
       "Text(0.5, 1.0, 'Rating VS Installs')"
      ]
     },
     "execution_count": 167,
     "metadata": {},
     "output_type": "execute_result"
    },
    {
     "data": {
      "image/png": "[encoded data removed]",
      "text/plain": [
       "<Figure size 1000x1000 with 1 Axes>"
      ]
     },
     "metadata": {},
     "output_type": "display_data"
    }
   ],
   "source": [
    "plt.figure(figsize = (10,10))\n",
    "sns.regplot(x=\"Installs\", y=\"Rating\", color = 'teal',data=Apps_drop);\n",
    "plt.title('Rating VS Installs',size = 20)"
   ]
  },
  {
   "cell_type": "code",
   "execution_count": 168,
   "metadata": {},
   "outputs": [
    {
     "data": {
      "text/plain": [
       "4.4    1108\n",
       "4.3    1076\n",
       "4.5    1037\n",
       "4.2     951\n",
       "4.6     823\n",
       "4.1     707\n",
       "4.0     567\n",
       "4.7     499\n",
       "3.9     386\n",
       "3.8     303\n",
       "5.0     274\n",
       "3.7     239\n",
       "4.8     234\n",
       "3.6     174\n",
       "3.5     163\n",
       "3.4     128\n",
       "3.3     102\n",
       "4.9      87\n",
       "3.0      83\n",
       "3.1      69\n",
       "3.2      63\n",
       "2.9      45\n",
       "2.8      42\n",
       "2.7      25\n",
       "2.6      25\n",
       "2.5      21\n",
       "2.3      20\n",
       "2.4      19\n",
       "1.0      16\n",
       "2.2      14\n",
       "1.9      13\n",
       "2.0      12\n",
       "1.7       8\n",
       "1.8       8\n",
       "2.1       8\n",
       "1.6       4\n",
       "1.4       3\n",
       "1.5       3\n",
       "1.2       1\n",
       "Name: Rating, dtype: int64"
      ]
     },
     "execution_count": 168,
     "metadata": {},
     "output_type": "execute_result"
    }
   ],
   "source": [
    "Apps_drop['Rating'] = Apps_drop['Rating'].astype(str)\n",
    "Apps_drop['Rating'].value_counts()"
   ]
  },
  {
   "cell_type": "code",
   "execution_count": 169,
   "metadata": {},
   "outputs": [
    {
     "name": "stdout",
     "output_type": "stream",
     "text": [
      "<class 'pandas.core.frame.DataFrame'>\n",
      "RangeIndex: 9360 entries, 0 to 9359\n",
      "Columns: 160 entries, Rating to Word\n",
      "dtypes: float64(158), int64(1), object(1)\n",
      "memory usage: 11.4+ MB\n"
     ]
    }
   ],
   "source": [
    "Apps_drop.info() "
   ]
  },
  {
   "cell_type": "code",
   "execution_count": 170,
   "metadata": {},
   "outputs": [
    {
     "data": {
      "text/html": [
       "<div>\n",
       "<style scoped>\n",
       "    .dataframe tbody tr th:only-of-type {\n",
       "        vertical-align: middle;\n",
       "    }\n",
       "\n",
       "    .dataframe tbody tr th {\n",
       "        vertical-align: top;\n",
       "    }\n",
       "\n",
       "    .dataframe thead th {\n",
       "        text-align: right;\n",
       "    }\n",
       "</style>\n",
       "<table border=\"1\" class=\"dataframe\">\n",
       "  <thead>\n",
       "    <tr style=\"text-align: right;\">\n",
       "      <th></th>\n",
       "      <th>Reviews</th>\n",
       "      <th>Size</th>\n",
       "      <th>Installs</th>\n",
       "      <th>Free</th>\n",
       "      <th>Paid</th>\n",
       "      <th>ART_AND_DESIGN</th>\n",
       "      <th>AUTO_AND_VEHICLES</th>\n",
       "      <th>BEAUTY</th>\n",
       "      <th>BOOKS_AND_REFERENCE</th>\n",
       "      <th>BUSINESS</th>\n",
       "      <th>...</th>\n",
       "      <th>Tools</th>\n",
       "      <th>Tools;Education</th>\n",
       "      <th>Travel &amp; Local</th>\n",
       "      <th>Travel &amp; Local;Action &amp; Adventure</th>\n",
       "      <th>Trivia</th>\n",
       "      <th>Video Players &amp; Editors</th>\n",
       "      <th>Video Players &amp; Editors;Creativity</th>\n",
       "      <th>Video Players &amp; Editors;Music &amp; Video</th>\n",
       "      <th>Weather</th>\n",
       "      <th>Word</th>\n",
       "    </tr>\n",
       "  </thead>\n",
       "  <tbody>\n",
       "    <tr>\n",
       "      <th>Reviews</th>\n",
       "      <td>1.000000</td>\n",
       "      <td>0.127216</td>\n",
       "      <td>0.641605</td>\n",
       "      <td>0.043244</td>\n",
       "      <td>-0.043244</td>\n",
       "      <td>-0.012524</td>\n",
       "      <td>-0.014052</td>\n",
       "      <td>-0.010780</td>\n",
       "      <td>-0.017311</td>\n",
       "      <td>-0.027238</td>\n",
       "      <td>...</td>\n",
       "      <td>-0.013119</td>\n",
       "      <td>-5.654782e-04</td>\n",
       "      <td>-0.011781</td>\n",
       "      <td>-0.001688</td>\n",
       "      <td>-0.004497</td>\n",
       "      <td>0.007603</td>\n",
       "      <td>-0.001649</td>\n",
       "      <td>-0.002401</td>\n",
       "      <td>-0.009135</td>\n",
       "      <td>-0.004711</td>\n",
       "    </tr>\n",
       "    <tr>\n",
       "      <th>Size</th>\n",
       "      <td>0.127216</td>\n",
       "      <td>1.000000</td>\n",
       "      <td>0.081355</td>\n",
       "      <td>0.023735</td>\n",
       "      <td>-0.023735</td>\n",
       "      <td>-0.037371</td>\n",
       "      <td>-0.005327</td>\n",
       "      <td>-0.021106</td>\n",
       "      <td>-0.047300</td>\n",
       "      <td>-0.056644</td>\n",
       "      <td>...</td>\n",
       "      <td>-0.172410</td>\n",
       "      <td>-1.016111e-19</td>\n",
       "      <td>0.014415</td>\n",
       "      <td>-0.009637</td>\n",
       "      <td>-0.004562</td>\n",
       "      <td>-0.030456</td>\n",
       "      <td>0.001225</td>\n",
       "      <td>-0.000555</td>\n",
       "      <td>-0.027783</td>\n",
       "      <td>0.028489</td>\n",
       "    </tr>\n",
       "    <tr>\n",
       "      <th>Installs</th>\n",
       "      <td>0.641605</td>\n",
       "      <td>0.081355</td>\n",
       "      <td>1.000000</td>\n",
       "      <td>0.053049</td>\n",
       "      <td>-0.053049</td>\n",
       "      <td>-0.014086</td>\n",
       "      <td>-0.016691</td>\n",
       "      <td>-0.012703</td>\n",
       "      <td>-0.010855</td>\n",
       "      <td>-0.029267</td>\n",
       "      <td>...</td>\n",
       "      <td>-0.007277</td>\n",
       "      <td>-8.957886e-04</td>\n",
       "      <td>0.021701</td>\n",
       "      <td>-0.002017</td>\n",
       "      <td>-0.007994</td>\n",
       "      <td>0.030691</td>\n",
       "      <td>-0.002068</td>\n",
       "      <td>-0.001879</td>\n",
       "      <td>-0.012042</td>\n",
       "      <td>-0.004979</td>\n",
       "    </tr>\n",
       "    <tr>\n",
       "      <th>Free</th>\n",
       "      <td>0.043244</td>\n",
       "      <td>0.023735</td>\n",
       "      <td>0.053049</td>\n",
       "      <td>1.000000</td>\n",
       "      <td>-1.000000</td>\n",
       "      <td>0.006309</td>\n",
       "      <td>0.019325</td>\n",
       "      <td>0.018265</td>\n",
       "      <td>0.013174</td>\n",
       "      <td>0.023545</td>\n",
       "      <td>...</td>\n",
       "      <td>-0.019727</td>\n",
       "      <td>2.812104e-03</td>\n",
       "      <td>0.020666</td>\n",
       "      <td>0.002812</td>\n",
       "      <td>0.014902</td>\n",
       "      <td>0.022551</td>\n",
       "      <td>0.003977</td>\n",
       "      <td>0.004871</td>\n",
       "      <td>-0.008666</td>\n",
       "      <td>0.014902</td>\n",
       "    </tr>\n",
       "    <tr>\n",
       "      <th>Paid</th>\n",
       "      <td>-0.043244</td>\n",
       "      <td>-0.023735</td>\n",
       "      <td>-0.053049</td>\n",
       "      <td>-1.000000</td>\n",
       "      <td>1.000000</td>\n",
       "      <td>-0.006309</td>\n",
       "      <td>-0.019325</td>\n",
       "      <td>-0.018265</td>\n",
       "      <td>-0.013174</td>\n",
       "      <td>-0.023545</td>\n",
       "      <td>...</td>\n",
       "      <td>0.019727</td>\n",
       "      <td>-2.812104e-03</td>\n",
       "      <td>-0.020666</td>\n",
       "      <td>-0.002812</td>\n",
       "      <td>-0.014902</td>\n",
       "      <td>-0.022551</td>\n",
       "      <td>-0.003977</td>\n",
       "      <td>-0.004871</td>\n",
       "      <td>0.008666</td>\n",
       "      <td>-0.014902</td>\n",
       "    </tr>\n",
       "    <tr>\n",
       "      <th>...</th>\n",
       "      <td>...</td>\n",
       "      <td>...</td>\n",
       "      <td>...</td>\n",
       "      <td>...</td>\n",
       "      <td>...</td>\n",
       "      <td>...</td>\n",
       "      <td>...</td>\n",
       "      <td>...</td>\n",
       "      <td>...</td>\n",
       "      <td>...</td>\n",
       "      <td>...</td>\n",
       "      <td>...</td>\n",
       "      <td>...</td>\n",
       "      <td>...</td>\n",
       "      <td>...</td>\n",
       "      <td>...</td>\n",
       "      <td>...</td>\n",
       "      <td>...</td>\n",
       "      <td>...</td>\n",
       "      <td>...</td>\n",
       "      <td>...</td>\n",
       "    </tr>\n",
       "    <tr>\n",
       "      <th>Video Players &amp; Editors</th>\n",
       "      <td>0.007603</td>\n",
       "      <td>-0.030456</td>\n",
       "      <td>0.030691</td>\n",
       "      <td>0.022551</td>\n",
       "      <td>-0.022551</td>\n",
       "      <td>-0.010613</td>\n",
       "      <td>-0.011617</td>\n",
       "      <td>-0.008797</td>\n",
       "      <td>-0.018244</td>\n",
       "      <td>-0.023967</td>\n",
       "      <td>...</td>\n",
       "      <td>-0.038167</td>\n",
       "      <td>-1.354480e-03</td>\n",
       "      <td>-0.020565</td>\n",
       "      <td>-0.001354</td>\n",
       "      <td>-0.007178</td>\n",
       "      <td>1.000000</td>\n",
       "      <td>-0.001916</td>\n",
       "      <td>-0.002346</td>\n",
       "      <td>-0.011777</td>\n",
       "      <td>-0.007178</td>\n",
       "    </tr>\n",
       "    <tr>\n",
       "      <th>Video Players &amp; Editors;Creativity</th>\n",
       "      <td>-0.001649</td>\n",
       "      <td>0.001225</td>\n",
       "      <td>-0.002068</td>\n",
       "      <td>0.003977</td>\n",
       "      <td>-0.003977</td>\n",
       "      <td>-0.001184</td>\n",
       "      <td>-0.001296</td>\n",
       "      <td>-0.000981</td>\n",
       "      <td>-0.002035</td>\n",
       "      <td>-0.002674</td>\n",
       "      <td>...</td>\n",
       "      <td>-0.004258</td>\n",
       "      <td>-1.511154e-04</td>\n",
       "      <td>-0.002294</td>\n",
       "      <td>-0.000151</td>\n",
       "      <td>-0.000801</td>\n",
       "      <td>-0.001916</td>\n",
       "      <td>1.000000</td>\n",
       "      <td>-0.000262</td>\n",
       "      <td>-0.001314</td>\n",
       "      <td>-0.000801</td>\n",
       "    </tr>\n",
       "    <tr>\n",
       "      <th>Video Players &amp; Editors;Music &amp; Video</th>\n",
       "      <td>-0.002401</td>\n",
       "      <td>-0.000555</td>\n",
       "      <td>-0.001879</td>\n",
       "      <td>0.004871</td>\n",
       "      <td>-0.004871</td>\n",
       "      <td>-0.001450</td>\n",
       "      <td>-0.001588</td>\n",
       "      <td>-0.001202</td>\n",
       "      <td>-0.002493</td>\n",
       "      <td>-0.003275</td>\n",
       "      <td>...</td>\n",
       "      <td>-0.005215</td>\n",
       "      <td>-1.850877e-04</td>\n",
       "      <td>-0.002810</td>\n",
       "      <td>-0.000185</td>\n",
       "      <td>-0.000981</td>\n",
       "      <td>-0.002346</td>\n",
       "      <td>-0.000262</td>\n",
       "      <td>1.000000</td>\n",
       "      <td>-0.001609</td>\n",
       "      <td>-0.000981</td>\n",
       "    </tr>\n",
       "    <tr>\n",
       "      <th>Weather</th>\n",
       "      <td>-0.009135</td>\n",
       "      <td>-0.027783</td>\n",
       "      <td>-0.012042</td>\n",
       "      <td>-0.008666</td>\n",
       "      <td>0.008666</td>\n",
       "      <td>-0.007279</td>\n",
       "      <td>-0.007968</td>\n",
       "      <td>-0.006034</td>\n",
       "      <td>-0.012514</td>\n",
       "      <td>-0.016439</td>\n",
       "      <td>...</td>\n",
       "      <td>-0.026178</td>\n",
       "      <td>-9.290198e-04</td>\n",
       "      <td>-0.014105</td>\n",
       "      <td>-0.000929</td>\n",
       "      <td>-0.004923</td>\n",
       "      <td>-0.011777</td>\n",
       "      <td>-0.001314</td>\n",
       "      <td>-0.001609</td>\n",
       "      <td>1.000000</td>\n",
       "      <td>-0.004923</td>\n",
       "    </tr>\n",
       "    <tr>\n",
       "      <th>Word</th>\n",
       "      <td>-0.004711</td>\n",
       "      <td>0.028489</td>\n",
       "      <td>-0.004979</td>\n",
       "      <td>0.014902</td>\n",
       "      <td>-0.014902</td>\n",
       "      <td>-0.004436</td>\n",
       "      <td>-0.004856</td>\n",
       "      <td>-0.003678</td>\n",
       "      <td>-0.007627</td>\n",
       "      <td>-0.010019</td>\n",
       "      <td>...</td>\n",
       "      <td>-0.015955</td>\n",
       "      <td>-5.662092e-04</td>\n",
       "      <td>-0.008597</td>\n",
       "      <td>-0.000566</td>\n",
       "      <td>-0.003000</td>\n",
       "      <td>-0.007178</td>\n",
       "      <td>-0.000801</td>\n",
       "      <td>-0.000981</td>\n",
       "      <td>-0.004923</td>\n",
       "      <td>1.000000</td>\n",
       "    </tr>\n",
       "  </tbody>\n",
       "</table>\n",
       "<p>159 rows × 159 columns</p>\n",
       "</div>"
      ],
      "text/plain": [
       "                                        Reviews      Size  Installs      Free  \\\n",
       "Reviews                                1.000000  0.127216  0.641605  0.043244   \n",
       "Size                                   0.127216  1.000000  0.081355  0.023735   \n",
       "Installs                               0.641605  0.081355  1.000000  0.053049   \n",
       "Free                                   0.043244  0.023735  0.053049  1.000000   \n",
       "Paid                                  -0.043244 -0.023735 -0.053049 -1.000000   \n",
       "...                                         ...       ...       ...       ...   \n",
       "Video Players & Editors                0.007603 -0.030456  0.030691  0.022551   \n",
       "Video Players & Editors;Creativity    -0.001649  0.001225 -0.002068  0.003977   \n",
       "Video Players & Editors;Music & Video -0.002401 -0.000555 -0.001879  0.004871   \n",
       "Weather                               -0.009135 -0.027783 -0.012042 -0.008666   \n",
       "Word                                  -0.004711  0.028489 -0.004979  0.014902   \n",
       "\n",
       "                                           Paid  ART_AND_DESIGN  \\\n",
       "Reviews                               -0.043244       -0.012524   \n",
       "Size                                  -0.023735       -0.037371   \n",
       "Installs                              -0.053049       -0.014086   \n",
       "Free                                  -1.000000        0.006309   \n",
       "Paid                                   1.000000       -0.006309   \n",
       "...                                         ...             ...   \n",
       "Video Players & Editors               -0.022551       -0.010613   \n",
       "Video Players & Editors;Creativity    -0.003977       -0.001184   \n",
       "Video Players & Editors;Music & Video -0.004871       -0.001450   \n",
       "Weather                                0.008666       -0.007279   \n",
       "Word                                  -0.014902       -0.004436   \n",
       "\n",
       "                                       AUTO_AND_VEHICLES    BEAUTY  \\\n",
       "Reviews                                        -0.014052 -0.010780   \n",
       "Size                                           -0.005327 -0.021106   \n",
       "Installs                                       -0.016691 -0.012703   \n",
       "Free                                            0.019325  0.018265   \n",
       "Paid                                           -0.019325 -0.018265   \n",
       "...                                                  ...       ...   \n",
       "Video Players & Editors                        -0.011617 -0.008797   \n",
       "Video Players & Editors;Creativity             -0.001296 -0.000981   \n",
       "Video Players & Editors;Music & Video          -0.001588 -0.001202   \n",
       "Weather                                        -0.007968 -0.006034   \n",
       "Word                                           -0.004856 -0.003678   \n",
       "\n",
       "                                       BOOKS_AND_REFERENCE  BUSINESS  ...  \\\n",
       "Reviews                                          -0.017311 -0.027238  ...   \n",
       "Size                                             -0.047300 -0.056644  ...   \n",
       "Installs                                         -0.010855 -0.029267  ...   \n",
       "Free                                              0.013174  0.023545  ...   \n",
       "Paid                                             -0.013174 -0.023545  ...   \n",
       "...                                                    ...       ...  ...   \n",
       "Video Players & Editors                          -0.018244 -0.023967  ...   \n",
       "Video Players & Editors;Creativity               -0.002035 -0.002674  ...   \n",
       "Video Players & Editors;Music & Video            -0.002493 -0.003275  ...   \n",
       "Weather                                          -0.012514 -0.016439  ...   \n",
       "Word                                             -0.007627 -0.010019  ...   \n",
       "\n",
       "                                          Tools  Tools;Education  \\\n",
       "Reviews                               -0.013119    -5.654782e-04   \n",
       "Size                                  -0.172410    -1.016111e-19   \n",
       "Installs                              -0.007277    -8.957886e-04   \n",
       "Free                                  -0.019727     2.812104e-03   \n",
       "Paid                                   0.019727    -2.812104e-03   \n",
       "...                                         ...              ...   \n",
       "Video Players & Editors               -0.038167    -1.354480e-03   \n",
       "Video Players & Editors;Creativity    -0.004258    -1.511154e-04   \n",
       "Video Players & Editors;Music & Video -0.005215    -1.850877e-04   \n",
       "Weather                               -0.026178    -9.290198e-04   \n",
       "Word                                  -0.015955    -5.662092e-04   \n",
       "\n",
       "                                       Travel & Local  \\\n",
       "Reviews                                     -0.011781   \n",
       "Size                                         0.014415   \n",
       "Installs                                     0.021701   \n",
       "Free                                         0.020666   \n",
       "Paid                                        -0.020666   \n",
       "...                                               ...   \n",
       "Video Players & Editors                     -0.020565   \n",
       "Video Players & Editors;Creativity          -0.002294   \n",
       "Video Players & Editors;Music & Video       -0.002810   \n",
       "Weather                                     -0.014105   \n",
       "Word                                        -0.008597   \n",
       "\n",
       "                                       Travel & Local;Action & Adventure  \\\n",
       "Reviews                                                        -0.001688   \n",
       "Size                                                           -0.009637   \n",
       "Installs                                                       -0.002017   \n",
       "Free                                                            0.002812   \n",
       "Paid                                                           -0.002812   \n",
       "...                                                                  ...   \n",
       "Video Players & Editors                                        -0.001354   \n",
       "Video Players & Editors;Creativity                             -0.000151   \n",
       "Video Players & Editors;Music & Video                          -0.000185   \n",
       "Weather                                                        -0.000929   \n",
       "Word                                                           -0.000566   \n",
       "\n",
       "                                         Trivia  Video Players & Editors  \\\n",
       "Reviews                               -0.004497                 0.007603   \n",
       "Size                                  -0.004562                -0.030456   \n",
       "Installs                              -0.007994                 0.030691   \n",
       "Free                                   0.014902                 0.022551   \n",
       "Paid                                  -0.014902                -0.022551   \n",
       "...                                         ...                      ...   \n",
       "Video Players & Editors               -0.007178                 1.000000   \n",
       "Video Players & Editors;Creativity    -0.000801                -0.001916   \n",
       "Video Players & Editors;Music & Video -0.000981                -0.002346   \n",
       "Weather                               -0.004923                -0.011777   \n",
       "Word                                  -0.003000                -0.007178   \n",
       "\n",
       "                                       Video Players & Editors;Creativity  \\\n",
       "Reviews                                                         -0.001649   \n",
       "Size                                                             0.001225   \n",
       "Installs                                                        -0.002068   \n",
       "Free                                                             0.003977   \n",
       "Paid                                                            -0.003977   \n",
       "...                                                                   ...   \n",
       "Video Players & Editors                                         -0.001916   \n",
       "Video Players & Editors;Creativity                               1.000000   \n",
       "Video Players & Editors;Music & Video                           -0.000262   \n",
       "Weather                                                         -0.001314   \n",
       "Word                                                            -0.000801   \n",
       "\n",
       "                                       Video Players & Editors;Music & Video  \\\n",
       "Reviews                                                            -0.002401   \n",
       "Size                                                               -0.000555   \n",
       "Installs                                                           -0.001879   \n",
       "Free                                                                0.004871   \n",
       "Paid                                                               -0.004871   \n",
       "...                                                                      ...   \n",
       "Video Players & Editors                                            -0.002346   \n",
       "Video Players & Editors;Creativity                                 -0.000262   \n",
       "Video Players & Editors;Music & Video                               1.000000   \n",
       "Weather                                                            -0.001609   \n",
       "Word                                                               -0.000981   \n",
       "\n",
       "                                        Weather      Word  \n",
       "Reviews                               -0.009135 -0.004711  \n",
       "Size                                  -0.027783  0.028489  \n",
       "Installs                              -0.012042 -0.004979  \n",
       "Free                                  -0.008666  0.014902  \n",
       "Paid                                   0.008666 -0.014902  \n",
       "...                                         ...       ...  \n",
       "Video Players & Editors               -0.011777 -0.007178  \n",
       "Video Players & Editors;Creativity    -0.001314 -0.000801  \n",
       "Video Players & Editors;Music & Video -0.001609 -0.000981  \n",
       "Weather                                1.000000 -0.004923  \n",
       "Word                                  -0.004923  1.000000  \n",
       "\n",
       "[159 rows x 159 columns]"
      ]
     },
     "execution_count": 170,
     "metadata": {},
     "output_type": "execute_result"
    }
   ],
   "source": [
    "Apps_drop.corr()"
   ]
  },
  {
   "attachments": {},
   "cell_type": "markdown",
   "metadata": {},
   "source": [
    "# Ahora empezamos con el entrenamiento\n"
   ]
  },
  {
   "attachments": {},
   "cell_type": "markdown",
   "metadata": {},
   "source": [
    "Importes de los algoritmos de medidas"
   ]
  },
  {
   "cell_type": "code",
   "execution_count": 172,
   "metadata": {},
   "outputs": [],
   "source": [
    "from sklearn.metrics import precision_score, recall_score;\n",
    "from sklearn.metrics import roc_auc_score;\n",
    "from sklearn.model_selection import cross_val_predict;\n",
    "from sklearn.metrics import f1_score;"
   ]
  },
  {
   "attachments": {},
   "cell_type": "markdown",
   "metadata": {},
   "source": [
    "-importes de los algoritmos\n"
   ]
  },
  {
   "cell_type": "code",
   "execution_count": 173,
   "metadata": {},
   "outputs": [],
   "source": [
    "from sklearn.ensemble import RandomForestClassifier;\n",
    "from sklearn.linear_model import SGDClassifier;\n",
    "from sklearn.svm import SVC;"
   ]
  },
  {
   "attachments": {},
   "cell_type": "markdown",
   "metadata": {},
   "source": [
    "- Separamos nuestro train y nuestro test"
   ]
  },
  {
   "cell_type": "code",
   "execution_count": 174,
   "metadata": {},
   "outputs": [],
   "source": [
    "from sklearn.model_selection import train_test_split\n",
    "\n",
    "X_train, X_test = train_test_split(Apps_drop, test_size=0.30) #cogemos el 20 por ciento para testear\n",
    "len(X_train), len(X_test)\n",
    "\n",
    "y_train = X_train[\"Rating\"].copy()\n",
    "X_train = X_train.drop(\"Rating\", axis=1)"
   ]
  },
  {
   "attachments": {},
   "cell_type": "markdown",
   "metadata": {},
   "source": [
    "## Entrenamos el modelo "
   ]
  },
  {
   "attachments": {},
   "cell_type": "markdown",
   "metadata": {},
   "source": [
    "- Random Forest"
   ]
  },
  {
   "cell_type": "code",
   "execution_count": 175,
   "metadata": {},
   "outputs": [
    {
     "data": {
      "text/plain": [
       "RandomForestClassifier(random_state=42)"
      ]
     },
     "execution_count": 175,
     "metadata": {},
     "output_type": "execute_result"
    }
   ],
   "source": [
    "forest_clf = RandomForestClassifier (n_estimators=100, random_state=42) # n_estimators çcantidad de árboles a crear\n",
    "forest_clf.fit (X_train, y_train) "
   ]
  },
  {
   "cell_type": "code",
   "execution_count": 177,
   "metadata": {},
   "outputs": [
    {
     "name": "stderr",
     "output_type": "stream",
     "text": [
      "c:\\Users\\Daniel Paz\\anaconda3\\lib\\site-packages\\sklearn\\model_selection\\_split.py:676: UserWarning: The least populated class in y has only 1 members, which is less than n_splits=5.\n",
      "  warnings.warn(\n"
     ]
    },
    {
     "name": "stdout",
     "output_type": "stream",
     "text": [
      "Precisión: \t [0. 0. 0. 0. 0. 0. 0. 0. 0. 0. 0. 0. 0. 0. 0. 0. 0. 0. 0. 0. 0. 0. 0. 0.\n",
      " 0. 0. 0. 0. 0. 0. 0. 0. 0. 0. 0. 0. 0. 0. 0.] 0.10560535939722243\n",
      "Recall: \t [0. 0. 0. 0. 0. 0. 0. 0. 0. 0. 0. 0. 0. 0. 0. 0. 0. 0. 0. 0. 0. 0. 0. 0.\n",
      " 0. 0. 0. 0. 0. 0. 0. 0. 0. 0. 0. 0. 0. 0. 1.] 0.10811018301124274\n"
     ]
    }
   ],
   "source": [
    "forest_predict = cross_val_predict(forest_clf,\n",
    "                                X_train, \n",
    "                                y_train, \n",
    "                                cv=5)\n",
    "\n",
    "forest_precision = precision_score  (y_train, forest_predict, average=None)\n",
    "forest_recall    = recall_score     (y_train, forest_predict, average=None)\n",
    "\n",
    "# print(f\"Precision Score: {forest_precision} || Recall Score: {forest_recall}\")\n",
    "\n",
    "print(\"Precisión:\",\"\\t\", np.round(forest_precision), np.mean(forest_precision));\n",
    "print(\"Recall:\",\"\\t\",    np.round(forest_recall  ), np.mean(forest_recall  ));"
   ]
  },
  {
   "attachments": {},
   "cell_type": "markdown",
   "metadata": {},
   "source": [
    "-Sgd\n"
   ]
  },
  {
   "cell_type": "code",
   "execution_count": 63,
   "metadata": {},
   "outputs": [
    {
     "name": "stderr",
     "output_type": "stream",
     "text": [
      "c:\\Users\\Daniel Paz\\anaconda3\\lib\\site-packages\\sklearn\\linear_model\\_stochastic_gradient.py:696: ConvergenceWarning: Maximum number of iteration reached before convergence. Consider increasing max_iter to improve the fit.\n",
      "  warnings.warn(\n"
     ]
    },
    {
     "data": {
      "text/plain": [
       "SGDClassifier(random_state=42)"
      ]
     },
     "execution_count": 63,
     "metadata": {},
     "output_type": "execute_result"
    }
   ],
   "source": [
    "sgd_clf = SGDClassifier(max_iter=1000, random_state=42)  # Clasificador; el hiperparámetro max_iter hace que ocurran 1000 iteraciones\n",
    "sgd_clf.fit (X_train, y_train)"
   ]
  },
  {
   "cell_type": "code",
   "execution_count": 64,
   "metadata": {},
   "outputs": [
    {
     "name": "stderr",
     "output_type": "stream",
     "text": [
      "c:\\Users\\Daniel Paz\\anaconda3\\lib\\site-packages\\sklearn\\model_selection\\_split.py:676: UserWarning: The least populated class in y has only 1 members, which is less than n_splits=5.\n",
      "  warnings.warn(\n",
      "c:\\Users\\Daniel Paz\\anaconda3\\lib\\site-packages\\sklearn\\linear_model\\_stochastic_gradient.py:696: ConvergenceWarning: Maximum number of iteration reached before convergence. Consider increasing max_iter to improve the fit.\n",
      "  warnings.warn(\n",
      "c:\\Users\\Daniel Paz\\anaconda3\\lib\\site-packages\\sklearn\\linear_model\\_stochastic_gradient.py:696: ConvergenceWarning: Maximum number of iteration reached before convergence. Consider increasing max_iter to improve the fit.\n",
      "  warnings.warn(\n",
      "c:\\Users\\Daniel Paz\\anaconda3\\lib\\site-packages\\sklearn\\linear_model\\_stochastic_gradient.py:696: ConvergenceWarning: Maximum number of iteration reached before convergence. Consider increasing max_iter to improve the fit.\n",
      "  warnings.warn(\n"
     ]
    },
    {
     "name": "stdout",
     "output_type": "stream",
     "text": [
      "Precision Score: 0.06619955423638733 || Recall Score: 0.09600122100122101\n"
     ]
    },
    {
     "name": "stderr",
     "output_type": "stream",
     "text": [
      "c:\\Users\\Daniel Paz\\anaconda3\\lib\\site-packages\\sklearn\\metrics\\_classification.py:1318: UndefinedMetricWarning: Precision is ill-defined and being set to 0.0 in labels with no predicted samples. Use `zero_division` parameter to control this behavior.\n",
      "  _warn_prf(average, modifier, msg_start, len(result))\n"
     ]
    }
   ],
   "source": [
    "sgd_predict = cross_val_predict(sgd_clf,\n",
    "                                X_train, \n",
    "                                y_train, \n",
    "                                cv=5)\n",
    "\n",
    "sgd_precision = precision_score  (y_train, sgd_predict, average=\"weighted\")\n",
    "sgd_recall    = recall_score     (y_train, sgd_predict, average=\"weighted\")\n",
    "\n",
    "print(f\"Precision Score: {sgd_precision} || Recall Score: {sgd_recall}\")"
   ]
  },
  {
   "attachments": {},
   "cell_type": "markdown",
   "metadata": {},
   "source": [
    "-SVC\n"
   ]
  },
  {
   "cell_type": "code",
   "execution_count": 66,
   "metadata": {},
   "outputs": [
    {
     "data": {
      "text/plain": [
       "SVC(gamma='auto', random_state=42)"
      ]
     },
     "execution_count": 66,
     "metadata": {},
     "output_type": "execute_result"
    }
   ],
   "source": [
    "svc_clf = SVC(gamma=\"auto\", random_state=42) # gamma=\"auto\": Este parámetro controla la amplitud del kernel (un tipo de función matemática que mide la similitud entre pares de puntos de datos).\n",
    "svc_clf.fit(X_train, y_train)"
   ]
  },
  {
   "cell_type": "code",
   "execution_count": 67,
   "metadata": {},
   "outputs": [
    {
     "name": "stderr",
     "output_type": "stream",
     "text": [
      "c:\\Users\\Daniel Paz\\anaconda3\\lib\\site-packages\\sklearn\\model_selection\\_split.py:676: UserWarning: The least populated class in y has only 1 members, which is less than n_splits=5.\n",
      "  warnings.warn(\n"
     ]
    },
    {
     "name": "stdout",
     "output_type": "stream",
     "text": [
      "Precision Score: 0.2728137277508575 || Recall Score: 0.1974969474969475\n"
     ]
    },
    {
     "name": "stderr",
     "output_type": "stream",
     "text": [
      "c:\\Users\\Daniel Paz\\anaconda3\\lib\\site-packages\\sklearn\\metrics\\_classification.py:1318: UndefinedMetricWarning: Precision is ill-defined and being set to 0.0 in labels with no predicted samples. Use `zero_division` parameter to control this behavior.\n",
      "  _warn_prf(average, modifier, msg_start, len(result))\n"
     ]
    }
   ],
   "source": [
    "svc_predict = cross_val_predict(svc_clf,\n",
    "                                X_train, \n",
    "                                y_train, \n",
    "                                cv=5)\n",
    "\n",
    "svc_precision = precision_score  (y_train, svc_predict, average=\"weighted\")\n",
    "svc_recall    = recall_score     (y_train, svc_predict, average=\"weighted\")\n",
    "\n",
    "print(f\"Precision Score: {svc_precision} || Recall Score: {svc_recall}\")"
   ]
  },
  {
   "attachments": {},
   "cell_type": "markdown",
   "metadata": {},
   "source": [
    "En el entrenamiento "
   ]
  }
 ],
 "metadata": {
  "kernelspec": {
   "display_name": "base",
   "language": "python",
   "name": "python3"
  },
  "language_info": {
   "codemirror_mode": {
    "name": "ipython",
    "version": 3
   },
   "file_extension": ".py",
   "mimetype": "text/x-python",
   "name": "python",
   "nbconvert_exporter": "python",
   "pygments_lexer": "ipython3",
   "version": "3.9.13"
  },
  "orig_nbformat": 4
 },
 "nbformat": 4,
 "nbformat_minor": 2
}
